{
 "cells": [
  {
   "cell_type": "markdown",
   "id": "823d2fda",
   "metadata": {},
   "source": [
    "### 다중회귀모델(Multiple Regression)"
   ]
  },
  {
   "cell_type": "code",
   "execution_count": 1,
   "id": "ec8ed962",
   "metadata": {},
   "outputs": [],
   "source": [
    "### 다중회귀모델\n",
    "# - 독립변수에 여러개의 특성(컬럼)을 사용한 선형회귀모델을 의미함\n",
    "# - 특성이 많을수록, 복잡도를 높일 수 있음\n",
    "\n",
    "### 다중회귀모델의 공식\n",
    "# y = a * x1 + b * x2 + c * x3 ..... n * xn + 절편"
   ]
  },
  {
   "cell_type": "code",
   "execution_count": 2,
   "id": "4c3936cf",
   "metadata": {},
   "outputs": [
    {
     "name": "stdout",
     "output_type": "stream",
     "text": [
      "<class 'pandas.core.frame.DataFrame'>\n",
      "RangeIndex: 56 entries, 0 to 55\n",
      "Data columns (total 3 columns):\n",
      " #   Column   Non-Null Count  Dtype  \n",
      "---  ------   --------------  -----  \n",
      " 0   length   56 non-null     float64\n",
      " 1    height  56 non-null     float64\n",
      " 2    width   56 non-null     float64\n",
      "dtypes: float64(3)\n",
      "memory usage: 1.4 KB\n"
     ]
    },
    {
     "data": {
      "text/html": [
       "<div>\n",
       "<style scoped>\n",
       "    .dataframe tbody tr th:only-of-type {\n",
       "        vertical-align: middle;\n",
       "    }\n",
       "\n",
       "    .dataframe tbody tr th {\n",
       "        vertical-align: top;\n",
       "    }\n",
       "\n",
       "    .dataframe thead th {\n",
       "        text-align: right;\n",
       "    }\n",
       "</style>\n",
       "<table border=\"1\" class=\"dataframe\">\n",
       "  <thead>\n",
       "    <tr style=\"text-align: right;\">\n",
       "      <th></th>\n",
       "      <th>length</th>\n",
       "      <th>height</th>\n",
       "      <th>width</th>\n",
       "    </tr>\n",
       "  </thead>\n",
       "  <tbody>\n",
       "    <tr>\n",
       "      <th>0</th>\n",
       "      <td>8.4</td>\n",
       "      <td>2.11</td>\n",
       "      <td>1.41</td>\n",
       "    </tr>\n",
       "    <tr>\n",
       "      <th>1</th>\n",
       "      <td>13.7</td>\n",
       "      <td>3.53</td>\n",
       "      <td>2.00</td>\n",
       "    </tr>\n",
       "  </tbody>\n",
       "</table>\n",
       "</div>"
      ],
      "text/plain": [
       "   length   height   width\n",
       "0     8.4     2.11    1.41\n",
       "1    13.7     3.53    2.00"
      ]
     },
     "execution_count": 2,
     "metadata": {},
     "output_type": "execute_result"
    }
   ],
   "source": [
    "### 데이터 읽어 들이기\n",
    "# - data 폴더내에 csv 파일 읽어 들이기\n",
    "# - 데이터프레임 변수명 : df\n",
    "import pandas as pd\n",
    "\n",
    "df = pd.read_csv(\"./data/03_농어의_길이_높이_두께_데이터.csv\", sep=\",\")  # sep=\",\" 를 쓰지 않으면 디폴트가 콤마임\n",
    "\n",
    "df.info()\n",
    "df.head(2)"
   ]
  },
  {
   "cell_type": "code",
   "execution_count": 3,
   "id": "bd064fbe",
   "metadata": {},
   "outputs": [],
   "source": [
    "import numpy as np\n",
    "\n",
    "### 농어의 무게 데이터 (농속변수 : target data)\n",
    "perch_weight = np.array(\n",
    "    [5.9, 32.0, 40.0, 51.5, 70.0, 100.0, 78.0, 80.0, 85.0, 85.0, \n",
    "     110.0, 115.0, 125.0, 130.0, 120.0, 120.0, 130.0, 135.0, 110.0, \n",
    "     130.0, 150.0, 145.0, 150.0, 170.0, 225.0, 145.0, 188.0, 180.0, \n",
    "     197.0, 218.0, 300.0, 260.0, 265.0, 250.0, 250.0, 300.0, 320.0, \n",
    "     514.0, 556.0, 840.0, 685.0, 700.0, 700.0, 690.0, 900.0, 650.0, \n",
    "     820.0, 850.0, 900.0, 1015.0, 820.0, 1100.0, 1000.0, 1100.0, \n",
    "     1000.0, 1000.0]\n",
    "     )"
   ]
  },
  {
   "cell_type": "code",
   "execution_count": 4,
   "id": "ee77731b",
   "metadata": {},
   "outputs": [],
   "source": [
    "### 독립변수 : 농어의 길이, 높이, 두께\n",
    "### 종속변수 : 농어의 무게"
   ]
  },
  {
   "cell_type": "code",
   "execution_count": 5,
   "id": "e2bcfa3c",
   "metadata": {},
   "outputs": [
    {
     "name": "stdout",
     "output_type": "stream",
     "text": [
      "(56, 3)\n"
     ]
    }
   ],
   "source": [
    "### 데이터프레임 타입을 2차원 배열 형태로 변형하기\n",
    "perch_full = df.to_numpy()\n",
    "print(perch_full.shape)"
   ]
  },
  {
   "cell_type": "code",
   "execution_count": 6,
   "id": "e15120fb",
   "metadata": {},
   "outputs": [
    {
     "data": {
      "text/plain": [
       "array([[ 8.4 ,  2.11,  1.41],\n",
       "       [13.7 ,  3.53,  2.  ],\n",
       "       [15.  ,  3.82,  2.43],\n",
       "       [16.2 ,  4.59,  2.63],\n",
       "       [17.4 ,  4.59,  2.94],\n",
       "       [18.  ,  5.22,  3.32],\n",
       "       [18.7 ,  5.2 ,  3.12],\n",
       "       [19.  ,  5.64,  3.05],\n",
       "       [19.6 ,  5.14,  3.04],\n",
       "       [20.  ,  5.08,  2.77],\n",
       "       [21.  ,  5.69,  3.56],\n",
       "       [21.  ,  5.92,  3.31],\n",
       "       [21.  ,  5.69,  3.67],\n",
       "       [21.3 ,  6.38,  3.53],\n",
       "       [22.  ,  6.11,  3.41],\n",
       "       [22.  ,  5.64,  3.52],\n",
       "       [22.  ,  6.11,  3.52],\n",
       "       [22.  ,  5.88,  3.52],\n",
       "       [22.  ,  5.52,  4.  ],\n",
       "       [22.5 ,  5.86,  3.62],\n",
       "       [22.5 ,  6.79,  3.62],\n",
       "       [22.7 ,  5.95,  3.63],\n",
       "       [23.  ,  5.22,  3.63],\n",
       "       [23.5 ,  6.28,  3.72],\n",
       "       [24.  ,  7.29,  3.72],\n",
       "       [24.  ,  6.38,  3.82],\n",
       "       [24.6 ,  6.73,  4.17],\n",
       "       [25.  ,  6.44,  3.68],\n",
       "       [25.6 ,  6.56,  4.24],\n",
       "       [26.5 ,  7.17,  4.14],\n",
       "       [27.3 ,  8.32,  5.14],\n",
       "       [27.5 ,  7.17,  4.34],\n",
       "       [27.5 ,  7.05,  4.34],\n",
       "       [27.5 ,  7.28,  4.57],\n",
       "       [28.  ,  7.82,  4.2 ],\n",
       "       [28.7 ,  7.59,  4.64],\n",
       "       [30.  ,  7.62,  4.77],\n",
       "       [32.8 , 10.03,  6.02],\n",
       "       [34.5 , 10.26,  6.39],\n",
       "       [35.  , 11.49,  7.8 ],\n",
       "       [36.5 , 10.88,  6.86],\n",
       "       [36.  , 10.61,  6.74],\n",
       "       [37.  , 10.84,  6.26],\n",
       "       [37.  , 10.57,  6.37],\n",
       "       [39.  , 11.14,  7.49],\n",
       "       [39.  , 11.14,  6.  ],\n",
       "       [39.  , 12.43,  7.35],\n",
       "       [40.  , 11.93,  7.11],\n",
       "       [40.  , 11.73,  7.22],\n",
       "       [40.  , 12.38,  7.46],\n",
       "       [40.  , 11.14,  6.63],\n",
       "       [42.  , 12.8 ,  6.87],\n",
       "       [43.  , 11.93,  7.28],\n",
       "       [43.  , 12.51,  7.42],\n",
       "       [43.5 , 12.6 ,  8.14],\n",
       "       [44.  , 12.49,  7.6 ]])"
      ]
     },
     "execution_count": 6,
     "metadata": {},
     "output_type": "execute_result"
    }
   ],
   "source": [
    "perch_full"
   ]
  },
  {
   "cell_type": "code",
   "execution_count": 7,
   "id": "38ac7e42",
   "metadata": {},
   "outputs": [],
   "source": [
    "### 훈련데이터와 테스트데이터로 분류하기\n",
    "# - 70:30 으로 분류하기\n",
    "# - 변수명 : 기존 사용하는 이름 그대로\n",
    "from sklearn.model_selection import train_test_split\n",
    "\n",
    "train_input, test_input, train_target, test_target = \\\n",
    "              train_test_split(perch_full, perch_weight,  \n",
    "                               test_size=0.3, random_state=42)"
   ]
  },
  {
   "cell_type": "code",
   "execution_count": 8,
   "id": "9996410e",
   "metadata": {},
   "outputs": [
    {
     "name": "stdout",
     "output_type": "stream",
     "text": [
      "(39, 3) (39,)\n",
      "(17, 3) (17,)\n"
     ]
    }
   ],
   "source": [
    "print(train_input.shape, train_target.shape)\n",
    "print(test_input.shape, test_target.shape)"
   ]
  },
  {
   "cell_type": "markdown",
   "id": "ef8eb863",
   "metadata": {},
   "source": [
    "### 특성공학"
   ]
  },
  {
   "cell_type": "code",
   "execution_count": 9,
   "id": "4208b233",
   "metadata": {},
   "outputs": [],
   "source": [
    "### 특성의 갯수를 라이브러리가 제공하는 패턴으로 늘리기\n",
    "# - 기존의 특성을 사용해서 -> 새로운 특성을 만들어내는 작업을 \"특성공학\" 이라함"
   ]
  },
  {
   "cell_type": "markdown",
   "id": "0e823d64",
   "metadata": {},
   "source": [
    "##### 특성 만들기 : 사이킷런의 변환기 사용"
   ]
  },
  {
   "cell_type": "code",
   "execution_count": 10,
   "id": "f594212a",
   "metadata": {},
   "outputs": [],
   "source": [
    "# 사이킷런은 특성을 만들거나 전처리하기 위한 다양한 클래스 또는 함수가 제공됨\n",
    "# - 이중 특성ㅇ르 만들어내는 클래스들이 있으며, 이를 \"변환기\"하고 칭합니다.\n",
    "\n",
    "### < 특성 생성 라이브러리 >\n",
    "# - 사용되는 패키지(전처리) : sklearn.preprocessing\n",
    "# - 변환기 클래스 :  PolynomialFeatures\n",
    "# - 자동변환 함수 : fit(), transform(), fit_transform()\n",
    "\n",
    "\n",
    "### 특성 생성시 사용되는 데이터\n",
    "# - 훈련 및 테스트의 독립변수 ( train_input, test_input )\n",
    "# - target 데이터는 그대로 유지합니다."
   ]
  },
  {
   "cell_type": "markdown",
   "id": "39d937e4",
   "metadata": {},
   "source": [
    "### 특성 생성 예제"
   ]
  },
  {
   "cell_type": "code",
   "execution_count": 11,
   "id": "f0179d67",
   "metadata": {},
   "outputs": [],
   "source": [
    "### 라이브러리 불러들이기\n",
    "from sklearn.preprocessing import PolynomialFeatures"
   ]
  },
  {
   "cell_type": "code",
   "execution_count": 12,
   "id": "3a8d5b04",
   "metadata": {},
   "outputs": [],
   "source": [
    "### 변환기 객체 생성하기\n",
    "poly = PolynomialFeatures()"
   ]
  },
  {
   "cell_type": "code",
   "execution_count": 13,
   "id": "9c761d00",
   "metadata": {},
   "outputs": [],
   "source": [
    "### 임의 데이터 사용\n",
    "temp_data = [[2, 3]]"
   ]
  },
  {
   "cell_type": "code",
   "execution_count": 14,
   "id": "5d5bf055",
   "metadata": {},
   "outputs": [
    {
     "data": {
      "text/html": [
       "<style>#sk-container-id-1 {color: black;background-color: white;}#sk-container-id-1 pre{padding: 0;}#sk-container-id-1 div.sk-toggleable {background-color: white;}#sk-container-id-1 label.sk-toggleable__label {cursor: pointer;display: block;width: 100%;margin-bottom: 0;padding: 0.3em;box-sizing: border-box;text-align: center;}#sk-container-id-1 label.sk-toggleable__label-arrow:before {content: \"▸\";float: left;margin-right: 0.25em;color: #696969;}#sk-container-id-1 label.sk-toggleable__label-arrow:hover:before {color: black;}#sk-container-id-1 div.sk-estimator:hover label.sk-toggleable__label-arrow:before {color: black;}#sk-container-id-1 div.sk-toggleable__content {max-height: 0;max-width: 0;overflow: hidden;text-align: left;background-color: #f0f8ff;}#sk-container-id-1 div.sk-toggleable__content pre {margin: 0.2em;color: black;border-radius: 0.25em;background-color: #f0f8ff;}#sk-container-id-1 input.sk-toggleable__control:checked~div.sk-toggleable__content {max-height: 200px;max-width: 100%;overflow: auto;}#sk-container-id-1 input.sk-toggleable__control:checked~label.sk-toggleable__label-arrow:before {content: \"▾\";}#sk-container-id-1 div.sk-estimator input.sk-toggleable__control:checked~label.sk-toggleable__label {background-color: #d4ebff;}#sk-container-id-1 div.sk-label input.sk-toggleable__control:checked~label.sk-toggleable__label {background-color: #d4ebff;}#sk-container-id-1 input.sk-hidden--visually {border: 0;clip: rect(1px 1px 1px 1px);clip: rect(1px, 1px, 1px, 1px);height: 1px;margin: -1px;overflow: hidden;padding: 0;position: absolute;width: 1px;}#sk-container-id-1 div.sk-estimator {font-family: monospace;background-color: #f0f8ff;border: 1px dotted black;border-radius: 0.25em;box-sizing: border-box;margin-bottom: 0.5em;}#sk-container-id-1 div.sk-estimator:hover {background-color: #d4ebff;}#sk-container-id-1 div.sk-parallel-item::after {content: \"\";width: 100%;border-bottom: 1px solid gray;flex-grow: 1;}#sk-container-id-1 div.sk-label:hover label.sk-toggleable__label {background-color: #d4ebff;}#sk-container-id-1 div.sk-serial::before {content: \"\";position: absolute;border-left: 1px solid gray;box-sizing: border-box;top: 0;bottom: 0;left: 50%;z-index: 0;}#sk-container-id-1 div.sk-serial {display: flex;flex-direction: column;align-items: center;background-color: white;padding-right: 0.2em;padding-left: 0.2em;position: relative;}#sk-container-id-1 div.sk-item {position: relative;z-index: 1;}#sk-container-id-1 div.sk-parallel {display: flex;align-items: stretch;justify-content: center;background-color: white;position: relative;}#sk-container-id-1 div.sk-item::before, #sk-container-id-1 div.sk-parallel-item::before {content: \"\";position: absolute;border-left: 1px solid gray;box-sizing: border-box;top: 0;bottom: 0;left: 50%;z-index: -1;}#sk-container-id-1 div.sk-parallel-item {display: flex;flex-direction: column;z-index: 1;position: relative;background-color: white;}#sk-container-id-1 div.sk-parallel-item:first-child::after {align-self: flex-end;width: 50%;}#sk-container-id-1 div.sk-parallel-item:last-child::after {align-self: flex-start;width: 50%;}#sk-container-id-1 div.sk-parallel-item:only-child::after {width: 0;}#sk-container-id-1 div.sk-dashed-wrapped {border: 1px dashed gray;margin: 0 0.4em 0.5em 0.4em;box-sizing: border-box;padding-bottom: 0.4em;background-color: white;}#sk-container-id-1 div.sk-label label {font-family: monospace;font-weight: bold;display: inline-block;line-height: 1.2em;}#sk-container-id-1 div.sk-label-container {text-align: center;}#sk-container-id-1 div.sk-container {/* jupyter's `normalize.less` sets `[hidden] { display: none; }` but bootstrap.min.css set `[hidden] { display: none !important; }` so we also need the `!important` here to be able to override the default hidden behavior on the sphinx rendered scikit-learn.org. See: https://github.com/scikit-learn/scikit-learn/issues/21755 */display: inline-block !important;position: relative;}#sk-container-id-1 div.sk-text-repr-fallback {display: none;}</style><div id=\"sk-container-id-1\" class=\"sk-top-container\"><div class=\"sk-text-repr-fallback\"><pre>PolynomialFeatures()</pre><b>In a Jupyter environment, please rerun this cell to show the HTML representation or trust the notebook. <br />On GitHub, the HTML representation is unable to render, please try loading this page with nbviewer.org.</b></div><div class=\"sk-container\" hidden><div class=\"sk-item\"><div class=\"sk-estimator sk-toggleable\"><input class=\"sk-toggleable__control sk-hidden--visually\" id=\"sk-estimator-id-1\" type=\"checkbox\" checked><label for=\"sk-estimator-id-1\" class=\"sk-toggleable__label sk-toggleable__label-arrow\">PolynomialFeatures</label><div class=\"sk-toggleable__content\"><pre>PolynomialFeatures()</pre></div></div></div></div></div>"
      ],
      "text/plain": [
       "PolynomialFeatures()"
      ]
     },
     "execution_count": 14,
     "metadata": {},
     "output_type": "execute_result"
    }
   ],
   "source": [
    "### 새롭게 생성할 <특성 조합>을 스스로 찾기\n",
    "# - 변환기 클래스에서 사용하는 fit() 함수는 훈련(학습)을 위한 것이 아니며,\n",
    "# - 별도의 target 데이터는 필요하지 않습니다.\n",
    "poly.fit(temp_data)"
   ]
  },
  {
   "cell_type": "code",
   "execution_count": 15,
   "id": "e9085fb3",
   "metadata": {},
   "outputs": [
    {
     "data": {
      "text/plain": [
       "array([[1., 2., 3., 4., 6., 9.]])"
      ]
     },
     "execution_count": 15,
     "metadata": {},
     "output_type": "execute_result"
    }
   ],
   "source": [
    "### 스스로 찾은 특성 조합으로 값을 변환 생성하기\n",
    "# - 특성 생성하기\n",
    "temp_data_poly = poly.transform(temp_data)\n",
    "temp_data_poly"
   ]
  },
  {
   "cell_type": "code",
   "execution_count": 16,
   "id": "c1cdbac1",
   "metadata": {},
   "outputs": [],
   "source": [
    "### <특성 조합 생성 규칙 >\n",
    "\n",
    "### 첫번째 값 1\n",
    "# - 선형반정식의 y 절편값으로 기본값 1 이 항상 추가됩니다.\n",
    "# - 사용하지 않아도 되는 값 입니다. (이후에 제외 시킬겁니다.)\n",
    "\n",
    "### 두번째, 세번째 값 2, 3\n",
    "# - 원래 값이 순서대로 들어감\n",
    "\n",
    "### 네번째 값 4\n",
    "# - 첫번쩨 원래값의 제곱승 : 2^2\n",
    "\n",
    "### 다섯번째 값 6\n",
    "# - 원래값끼리 곱한 값 : 2 * 3\n",
    "\n",
    "### 여섯번째 값 9\n",
    "# - 세번째 원래값의 제곱승 : 3^2"
   ]
  },
  {
   "cell_type": "markdown",
   "id": "b49d1e60",
   "metadata": {},
   "source": [
    "### y절편값 없애고 특성 생성하기"
   ]
  },
  {
   "cell_type": "code",
   "execution_count": 17,
   "id": "57c1a2e1",
   "metadata": {},
   "outputs": [
    {
     "data": {
      "text/plain": [
       "array([[  55.    ,   12.49  ,    7.6   , 3025.    ,  686.95  ,  418.    ,\n",
       "         156.0001,   94.924 ,   57.76  ]])"
      ]
     },
     "execution_count": 17,
     "metadata": {},
     "output_type": "execute_result"
    }
   ],
   "source": [
    "temp_data = [[55, 12.49, 7.6]]\n",
    "### 절편 없애기 : include_bias=False\n",
    "poly = PolynomialFeatures(include_bias=False)\n",
    "poly.fit(temp_data)\n",
    "temp_data_poly = poly.transform(temp_data)\n",
    "temp_data_poly"
   ]
  },
  {
   "cell_type": "code",
   "execution_count": null,
   "id": "313eee09",
   "metadata": {},
   "outputs": [],
   "source": []
  },
  {
   "cell_type": "code",
   "execution_count": null,
   "id": "13191245",
   "metadata": {},
   "outputs": [],
   "source": []
  },
  {
   "cell_type": "code",
   "execution_count": null,
   "id": "78ab173b",
   "metadata": {},
   "outputs": [],
   "source": []
  },
  {
   "cell_type": "code",
   "execution_count": null,
   "id": "0411b82d",
   "metadata": {},
   "outputs": [],
   "source": []
  },
  {
   "cell_type": "code",
   "execution_count": null,
   "id": "718d62c1",
   "metadata": {},
   "outputs": [],
   "source": []
  },
  {
   "cell_type": "code",
   "execution_count": null,
   "id": "ac36ea30",
   "metadata": {},
   "outputs": [],
   "source": []
  }
 ],
 "metadata": {
  "kernelspec": {
   "display_name": "sejong_ml_kernel",
   "language": "python",
   "name": "sejong_ml"
  },
  "language_info": {
   "codemirror_mode": {
    "name": "ipython",
    "version": 3
   },
   "file_extension": ".py",
   "mimetype": "text/x-python",
   "name": "python",
   "nbconvert_exporter": "python",
   "pygments_lexer": "ipython3",
   "version": "3.9.16"
  }
 },
 "nbformat": 4,
 "nbformat_minor": 5
}
