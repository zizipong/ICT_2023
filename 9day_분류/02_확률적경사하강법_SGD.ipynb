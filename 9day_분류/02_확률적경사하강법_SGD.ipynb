{
 "cells": [
  {
   "cell_type": "markdown",
   "id": "fc9477ef",
   "metadata": {},
   "source": [
    "# 점진적인 학습"
   ]
  },
  {
   "cell_type": "code",
   "execution_count": 1,
   "id": "529221ba",
   "metadata": {},
   "outputs": [
    {
     "data": {
      "text/plain": [
       "'\\n< 점진적 학습 >\\n - 훈련에 필요한 데이터가 한번에 다 수집된 경우가 아니라,\\n   시간차를 두고 수집이 되는 경우에는 어떻게 훈련을 시킬지를 해결함\\n - 데이터가 수집 될 때마다 학습을 이어나가는 훈련 방식을 의미함\\n - 점진적 학습의 대표적인 알고리즘으로 \"확률적 경사하강법\"이 주로 쓰임\\n'"
      ]
     },
     "execution_count": 1,
     "metadata": {},
     "output_type": "execute_result"
    }
   ],
   "source": [
    "\"\"\"\n",
    "< 점진적 학습 >\n",
    " - 훈련에 필요한 데이터가 한번에 다 수집된 경우가 아니라,\n",
    "   시간차를 두고 수집이 되는 경우에는 어떻게 훈련을 시킬지를 해결함\n",
    " - 데이터가 수집 될 때마다 학습을 이어나가는 훈련 방식을 의미함\n",
    " - 점진적 학습의 대표적인 알고리즘으로 \"확률적 경사하강법\"이 주로 쓰임\n",
    "\"\"\""
   ]
  },
  {
   "cell_type": "code",
   "execution_count": 2,
   "id": "a2dc1647",
   "metadata": {},
   "outputs": [
    {
     "data": {
      "text/plain": [
       "'\\n< 확률적 경사 하강법(SGD: Stochastic Gradient Descent) >\\n - 경사 : 기울기를 의미함\\n - 하강법 : 내려가는 방법\\n - 경사 하강법\\n   :원하는 지점(결과값)에 도달하기 위해 가장 가파른 경사를 따라\\n    내려가는 방법을 찾는 방법\\n - 확률적 : \"무작위\" or \"랜덤\" 하게의 기술적 표현으로 확률적 이라고 칭함\\n - 훈련데이터의 전체 특성들 중에서 하나씩 랜덤하게 선택하여\\n   가장 가파른 길을 찾아내는 방법 (확률적 경사 하강법)\\n'"
      ]
     },
     "execution_count": 2,
     "metadata": {},
     "output_type": "execute_result"
    }
   ],
   "source": [
    "\"\"\"\n",
    "< 확률적 경사 하강법(SGD: Stochastic Gradient Descent) >\n",
    " - 경사 : 기울기를 의미함\n",
    " - 하강법 : 내려가는 방법\n",
    " - 경사 하강법\n",
    "   :원하는 지점(결과값)에 도달하기 위해 가장 가파른 경사를 따라\n",
    "    내려가는 방법을 찾는 방법\n",
    " - 확률적 : \"무작위\" or \"랜덤\" 하게의 기술적 표현으로 확률적 이라고 칭함\n",
    " - 훈련데이터의 전체 특성들 중에서 하나씩 랜덤하게 선택하여\n",
    "   가장 가파른 길을 찾아내는 방법 (확률적 경사 하강법)\n",
    "\"\"\""
   ]
  },
  {
   "cell_type": "code",
   "execution_count": 3,
   "id": "e517d2b6",
   "metadata": {},
   "outputs": [
    {
     "data": {
      "text/plain": [
       "'\\n< 내부적으로 처리되는 확률적 경사 하강법 순서 >\\n 1. 훈련데이터(독립변수)에서 랜덤하게 하나의 특성을 선택하게 됨\\n 2. 선택한 특성(독립변수)을 이용해서 경사를 조금씩 내려갑니다.\\n 3. 내려 갈 수 있을때까지 하강합니다.\\n 4. 훈련 세트에서 다른 특성을 랜덤하게 또 다시 선택하여 1~3번을 반복합니다.\\n'"
      ]
     },
     "execution_count": 3,
     "metadata": {},
     "output_type": "execute_result"
    }
   ],
   "source": [
    "\"\"\"\n",
    "< 내부적으로 처리되는 확률적 경사 하강법 순서 >\n",
    " 1. 훈련데이터(독립변수)에서 랜덤하게 하나의 특성을 선택하게 됨\n",
    " 2. 선택한 특성(독립변수)을 이용해서 경사를 조금씩 내려갑니다.\n",
    " 3. 내려 갈 수 있을때까지 하강합니다.\n",
    " 4. 훈련 세트에서 다른 특성을 랜덤하게 또 다시 선택하여 1~3번을 반복합니다.\n",
    "\"\"\""
   ]
  },
  {
   "cell_type": "markdown",
   "id": "818e641c",
   "metadata": {},
   "source": [
    "### 데이터 준비하기"
   ]
  },
  {
   "cell_type": "code",
   "execution_count": 4,
   "id": "6fe7c232",
   "metadata": {},
   "outputs": [
    {
     "data": {
      "text/html": [
       "<div>\n",
       "<style scoped>\n",
       "    .dataframe tbody tr th:only-of-type {\n",
       "        vertical-align: middle;\n",
       "    }\n",
       "\n",
       "    .dataframe tbody tr th {\n",
       "        vertical-align: top;\n",
       "    }\n",
       "\n",
       "    .dataframe thead th {\n",
       "        text-align: right;\n",
       "    }\n",
       "</style>\n",
       "<table border=\"1\" class=\"dataframe\">\n",
       "  <thead>\n",
       "    <tr style=\"text-align: right;\">\n",
       "      <th></th>\n",
       "      <th>Species</th>\n",
       "      <th>Weight</th>\n",
       "      <th>Length</th>\n",
       "      <th>Diagonal</th>\n",
       "      <th>Height</th>\n",
       "      <th>Width</th>\n",
       "    </tr>\n",
       "  </thead>\n",
       "  <tbody>\n",
       "    <tr>\n",
       "      <th>0</th>\n",
       "      <td>Bream</td>\n",
       "      <td>242.0</td>\n",
       "      <td>25.4</td>\n",
       "      <td>30.0</td>\n",
       "      <td>11.5200</td>\n",
       "      <td>4.0200</td>\n",
       "    </tr>\n",
       "    <tr>\n",
       "      <th>1</th>\n",
       "      <td>Bream</td>\n",
       "      <td>290.0</td>\n",
       "      <td>26.3</td>\n",
       "      <td>31.2</td>\n",
       "      <td>12.4800</td>\n",
       "      <td>4.3056</td>\n",
       "    </tr>\n",
       "    <tr>\n",
       "      <th>2</th>\n",
       "      <td>Bream</td>\n",
       "      <td>340.0</td>\n",
       "      <td>26.5</td>\n",
       "      <td>31.1</td>\n",
       "      <td>12.3778</td>\n",
       "      <td>4.6961</td>\n",
       "    </tr>\n",
       "    <tr>\n",
       "      <th>3</th>\n",
       "      <td>Bream</td>\n",
       "      <td>363.0</td>\n",
       "      <td>29.0</td>\n",
       "      <td>33.5</td>\n",
       "      <td>12.7300</td>\n",
       "      <td>4.4555</td>\n",
       "    </tr>\n",
       "    <tr>\n",
       "      <th>4</th>\n",
       "      <td>Bream</td>\n",
       "      <td>430.0</td>\n",
       "      <td>29.0</td>\n",
       "      <td>34.0</td>\n",
       "      <td>12.4440</td>\n",
       "      <td>5.1340</td>\n",
       "    </tr>\n",
       "    <tr>\n",
       "      <th>...</th>\n",
       "      <td>...</td>\n",
       "      <td>...</td>\n",
       "      <td>...</td>\n",
       "      <td>...</td>\n",
       "      <td>...</td>\n",
       "      <td>...</td>\n",
       "    </tr>\n",
       "    <tr>\n",
       "      <th>154</th>\n",
       "      <td>Smelt</td>\n",
       "      <td>12.2</td>\n",
       "      <td>12.2</td>\n",
       "      <td>13.4</td>\n",
       "      <td>2.0904</td>\n",
       "      <td>1.3936</td>\n",
       "    </tr>\n",
       "    <tr>\n",
       "      <th>155</th>\n",
       "      <td>Smelt</td>\n",
       "      <td>13.4</td>\n",
       "      <td>12.4</td>\n",
       "      <td>13.5</td>\n",
       "      <td>2.4300</td>\n",
       "      <td>1.2690</td>\n",
       "    </tr>\n",
       "    <tr>\n",
       "      <th>156</th>\n",
       "      <td>Smelt</td>\n",
       "      <td>12.2</td>\n",
       "      <td>13.0</td>\n",
       "      <td>13.8</td>\n",
       "      <td>2.2770</td>\n",
       "      <td>1.2558</td>\n",
       "    </tr>\n",
       "    <tr>\n",
       "      <th>157</th>\n",
       "      <td>Smelt</td>\n",
       "      <td>19.7</td>\n",
       "      <td>14.3</td>\n",
       "      <td>15.2</td>\n",
       "      <td>2.8728</td>\n",
       "      <td>2.0672</td>\n",
       "    </tr>\n",
       "    <tr>\n",
       "      <th>158</th>\n",
       "      <td>Smelt</td>\n",
       "      <td>19.9</td>\n",
       "      <td>15.0</td>\n",
       "      <td>16.2</td>\n",
       "      <td>2.9322</td>\n",
       "      <td>1.8792</td>\n",
       "    </tr>\n",
       "  </tbody>\n",
       "</table>\n",
       "<p>159 rows × 6 columns</p>\n",
       "</div>"
      ],
      "text/plain": [
       "    Species  Weight  Length  Diagonal   Height   Width\n",
       "0     Bream   242.0    25.4      30.0  11.5200  4.0200\n",
       "1     Bream   290.0    26.3      31.2  12.4800  4.3056\n",
       "2     Bream   340.0    26.5      31.1  12.3778  4.6961\n",
       "3     Bream   363.0    29.0      33.5  12.7300  4.4555\n",
       "4     Bream   430.0    29.0      34.0  12.4440  5.1340\n",
       "..      ...     ...     ...       ...      ...     ...\n",
       "154   Smelt    12.2    12.2      13.4   2.0904  1.3936\n",
       "155   Smelt    13.4    12.4      13.5   2.4300  1.2690\n",
       "156   Smelt    12.2    13.0      13.8   2.2770  1.2558\n",
       "157   Smelt    19.7    14.3      15.2   2.8728  2.0672\n",
       "158   Smelt    19.9    15.0      16.2   2.9322  1.8792\n",
       "\n",
       "[159 rows x 6 columns]"
      ]
     },
     "execution_count": 4,
     "metadata": {},
     "output_type": "execute_result"
    }
   ],
   "source": [
    "### 07_fish.csv 파일 읽어들이기\n",
    "# - 변수명 : fish\n",
    "\n",
    "import pandas as pd\n",
    "file_path = \"./data/07_fish.csv\"\n",
    "fish = pd.read_csv(file_path)\n",
    "fish\n",
    "\n",
    "### Species  Weight  Length  Diagonal  Height  Width\n",
    "#    종류     무게    길이    대각선    높이    두께\n",
    "# - 종속변수 : 종류 (범주형)\n",
    "# - 독립변수 : 나머지 모두"
   ]
  },
  {
   "cell_type": "markdown",
   "id": "c99f6acb",
   "metadata": {},
   "source": [
    "### 데이터 전처리"
   ]
  },
  {
   "cell_type": "code",
   "execution_count": 5,
   "id": "52759011",
   "metadata": {},
   "outputs": [
    {
     "data": {
      "text/plain": [
       "((159, 5), (159,))"
      ]
     },
     "execution_count": 5,
     "metadata": {},
     "output_type": "execute_result"
    }
   ],
   "source": [
    "### 독립변수와 종속변수 데이터 추출 및 배열로 변환하기\n",
    "# 독립변수 : fihs_input\n",
    "fish_input = fish[[\"Weight\", \"Length\", \"Diagonal\", \"Height\", \"Width\"]].to_numpy()\n",
    "\n",
    "# 종속변수 : fish_target\n",
    "fish_target = fish[\"Species\"].to_numpy()\n",
    "\n",
    "fish_input.shape, fish_target.shape"
   ]
  },
  {
   "cell_type": "code",
   "execution_count": 6,
   "id": "1f8a5dd7",
   "metadata": {},
   "outputs": [
    {
     "data": {
      "text/plain": [
       "((119, 5), (119,), (40, 5), (40,))"
      ]
     },
     "execution_count": 6,
     "metadata": {},
     "output_type": "execute_result"
    }
   ],
   "source": [
    "### 분리비율 75:25 (디폴트로 생략가능)\n",
    "# - 랜덤값 : 42\n",
    "from sklearn.model_selection import train_test_split\n",
    "\n",
    "train_input, test_input, train_target, test_target = \\\n",
    "              train_test_split(fish_input, fish_target,  \n",
    "                               test_size=0.25, random_state=42)\n",
    "\n",
    "train_input.shape, train_target.shape, test_input.shape, test_target.shape"
   ]
  },
  {
   "cell_type": "code",
   "execution_count": 7,
   "id": "ac194751",
   "metadata": {},
   "outputs": [
    {
     "data": {
      "text/plain": [
       "((119, 5), (40, 5))"
      ]
     },
     "execution_count": 7,
     "metadata": {},
     "output_type": "execute_result"
    }
   ],
   "source": [
    "### 독립변수 정규화하기\n",
    "from sklearn.preprocessing import StandardScaler\n",
    "\n",
    "### 클래스(객체) 생성\n",
    "ss = StandardScaler()\n",
    "### 표준화를 위한 점수를 생성하기 위한 패턴 찾기\n",
    "ss.fit(train_input)\n",
    "\n",
    "### 찾은 패턴으로 데이터 변환하기\n",
    "train_scaled = ss.transform(train_input)\n",
    "test_scaled = ss.transform(test_input)\n",
    "\n",
    "train_scaled.shape, test_scaled.shape"
   ]
  },
  {
   "cell_type": "markdown",
   "id": "affadf84",
   "metadata": {},
   "source": [
    "# 훈련시키기"
   ]
  },
  {
   "cell_type": "code",
   "execution_count": 8,
   "id": "bda54f27",
   "metadata": {},
   "outputs": [],
   "source": [
    "### 라이브러리 불러들이기\n",
    "from sklearn.linear_model import SGDClassifier"
   ]
  },
  {
   "cell_type": "code",
   "execution_count": 9,
   "id": "117b65eb",
   "metadata": {},
   "outputs": [
    {
     "data": {
      "text/html": [
       "<style>#sk-container-id-1 {color: black;background-color: white;}#sk-container-id-1 pre{padding: 0;}#sk-container-id-1 div.sk-toggleable {background-color: white;}#sk-container-id-1 label.sk-toggleable__label {cursor: pointer;display: block;width: 100%;margin-bottom: 0;padding: 0.3em;box-sizing: border-box;text-align: center;}#sk-container-id-1 label.sk-toggleable__label-arrow:before {content: \"▸\";float: left;margin-right: 0.25em;color: #696969;}#sk-container-id-1 label.sk-toggleable__label-arrow:hover:before {color: black;}#sk-container-id-1 div.sk-estimator:hover label.sk-toggleable__label-arrow:before {color: black;}#sk-container-id-1 div.sk-toggleable__content {max-height: 0;max-width: 0;overflow: hidden;text-align: left;background-color: #f0f8ff;}#sk-container-id-1 div.sk-toggleable__content pre {margin: 0.2em;color: black;border-radius: 0.25em;background-color: #f0f8ff;}#sk-container-id-1 input.sk-toggleable__control:checked~div.sk-toggleable__content {max-height: 200px;max-width: 100%;overflow: auto;}#sk-container-id-1 input.sk-toggleable__control:checked~label.sk-toggleable__label-arrow:before {content: \"▾\";}#sk-container-id-1 div.sk-estimator input.sk-toggleable__control:checked~label.sk-toggleable__label {background-color: #d4ebff;}#sk-container-id-1 div.sk-label input.sk-toggleable__control:checked~label.sk-toggleable__label {background-color: #d4ebff;}#sk-container-id-1 input.sk-hidden--visually {border: 0;clip: rect(1px 1px 1px 1px);clip: rect(1px, 1px, 1px, 1px);height: 1px;margin: -1px;overflow: hidden;padding: 0;position: absolute;width: 1px;}#sk-container-id-1 div.sk-estimator {font-family: monospace;background-color: #f0f8ff;border: 1px dotted black;border-radius: 0.25em;box-sizing: border-box;margin-bottom: 0.5em;}#sk-container-id-1 div.sk-estimator:hover {background-color: #d4ebff;}#sk-container-id-1 div.sk-parallel-item::after {content: \"\";width: 100%;border-bottom: 1px solid gray;flex-grow: 1;}#sk-container-id-1 div.sk-label:hover label.sk-toggleable__label {background-color: #d4ebff;}#sk-container-id-1 div.sk-serial::before {content: \"\";position: absolute;border-left: 1px solid gray;box-sizing: border-box;top: 0;bottom: 0;left: 50%;z-index: 0;}#sk-container-id-1 div.sk-serial {display: flex;flex-direction: column;align-items: center;background-color: white;padding-right: 0.2em;padding-left: 0.2em;position: relative;}#sk-container-id-1 div.sk-item {position: relative;z-index: 1;}#sk-container-id-1 div.sk-parallel {display: flex;align-items: stretch;justify-content: center;background-color: white;position: relative;}#sk-container-id-1 div.sk-item::before, #sk-container-id-1 div.sk-parallel-item::before {content: \"\";position: absolute;border-left: 1px solid gray;box-sizing: border-box;top: 0;bottom: 0;left: 50%;z-index: -1;}#sk-container-id-1 div.sk-parallel-item {display: flex;flex-direction: column;z-index: 1;position: relative;background-color: white;}#sk-container-id-1 div.sk-parallel-item:first-child::after {align-self: flex-end;width: 50%;}#sk-container-id-1 div.sk-parallel-item:last-child::after {align-self: flex-start;width: 50%;}#sk-container-id-1 div.sk-parallel-item:only-child::after {width: 0;}#sk-container-id-1 div.sk-dashed-wrapped {border: 1px dashed gray;margin: 0 0.4em 0.5em 0.4em;box-sizing: border-box;padding-bottom: 0.4em;background-color: white;}#sk-container-id-1 div.sk-label label {font-family: monospace;font-weight: bold;display: inline-block;line-height: 1.2em;}#sk-container-id-1 div.sk-label-container {text-align: center;}#sk-container-id-1 div.sk-container {/* jupyter's `normalize.less` sets `[hidden] { display: none; }` but bootstrap.min.css set `[hidden] { display: none !important; }` so we also need the `!important` here to be able to override the default hidden behavior on the sphinx rendered scikit-learn.org. See: https://github.com/scikit-learn/scikit-learn/issues/21755 */display: inline-block !important;position: relative;}#sk-container-id-1 div.sk-text-repr-fallback {display: none;}</style><div id=\"sk-container-id-1\" class=\"sk-top-container\"><div class=\"sk-text-repr-fallback\"><pre>SGDClassifier(loss=&#x27;log&#x27;, max_iter=10, random_state=42)</pre><b>In a Jupyter environment, please rerun this cell to show the HTML representation or trust the notebook. <br />On GitHub, the HTML representation is unable to render, please try loading this page with nbviewer.org.</b></div><div class=\"sk-container\" hidden><div class=\"sk-item\"><div class=\"sk-estimator sk-toggleable\"><input class=\"sk-toggleable__control sk-hidden--visually\" id=\"sk-estimator-id-1\" type=\"checkbox\" checked><label for=\"sk-estimator-id-1\" class=\"sk-toggleable__label sk-toggleable__label-arrow\">SGDClassifier</label><div class=\"sk-toggleable__content\"><pre>SGDClassifier(loss=&#x27;log&#x27;, max_iter=10, random_state=42)</pre></div></div></div></div></div>"
      ],
      "text/plain": [
       "SGDClassifier(loss='log', max_iter=10, random_state=42)"
      ]
     },
     "execution_count": 9,
     "metadata": {},
     "output_type": "execute_result"
    }
   ],
   "source": [
    "### 모델(클래스) 생성하기\n",
    "# - max_iter : 훈련 반복횟수\n",
    "#            : 전체 특성(독립변수)이 다 끝나면 1회로 봅니다.\n",
    "#            : 반복횟수를 \"에포크(epoch)\"라고 칭합니다.\n",
    "#            : 훈련 반복횟수가 부족한 경우에도 정의된 반복횟수 만큼만 진행됨\n",
    "#            : 정의된 반복횟수 전에 훈련이 끝나는 경우도 있음\n",
    "#            : 가장 적합한 반봇횟수를 찾는 작업도 필요함(하이퍼파라메터 튜닝)\n",
    "#              (반복횟수는 사람이 결정함)\n",
    "\n",
    "# - loss : 손실함수(log : 로지스틱 손실함수 사용됨)\n",
    "#        : 조금씩 내려오면서 손실이 작은 쪽을 찾아서 내려오기 위한 방법\n",
    "#        : 사람은 솔실이 작은 값들을 알 수 없음\n",
    "#        : 학습모델이 가지고 있는 손실계산식을 통해 결정되기에 사람은 관여 안함\n",
    "#        : 훈련모델이 분류 결과에 만족한다면, 훈련을 종료시킴\n",
    "#        : 사람은 분류 성격에 맞게 사용할 손실함수를 지정만하면 됨\n",
    "sc = SGDClassifier(loss=\"log\", max_iter=10, random_state=42)\n",
    "sc"
   ]
  },
  {
   "cell_type": "code",
   "execution_count": 10,
   "id": "f2b3fe50",
   "metadata": {},
   "outputs": [
    {
     "name": "stderr",
     "output_type": "stream",
     "text": [
      "C:\\anaconda3\\envs\\sejong_ml\\lib\\site-packages\\sklearn\\linear_model\\_stochastic_gradient.py:163: FutureWarning: The loss 'log' was deprecated in v1.1 and will be removed in version 1.3. Use `loss='log_loss'` which is equivalent.\n",
      "  warnings.warn(\n",
      "C:\\anaconda3\\envs\\sejong_ml\\lib\\site-packages\\sklearn\\linear_model\\_stochastic_gradient.py:702: ConvergenceWarning: Maximum number of iteration reached before convergence. Consider increasing max_iter to improve the fit.\n",
      "  warnings.warn(\n"
     ]
    },
    {
     "data": {
      "text/html": [
       "<style>#sk-container-id-2 {color: black;background-color: white;}#sk-container-id-2 pre{padding: 0;}#sk-container-id-2 div.sk-toggleable {background-color: white;}#sk-container-id-2 label.sk-toggleable__label {cursor: pointer;display: block;width: 100%;margin-bottom: 0;padding: 0.3em;box-sizing: border-box;text-align: center;}#sk-container-id-2 label.sk-toggleable__label-arrow:before {content: \"▸\";float: left;margin-right: 0.25em;color: #696969;}#sk-container-id-2 label.sk-toggleable__label-arrow:hover:before {color: black;}#sk-container-id-2 div.sk-estimator:hover label.sk-toggleable__label-arrow:before {color: black;}#sk-container-id-2 div.sk-toggleable__content {max-height: 0;max-width: 0;overflow: hidden;text-align: left;background-color: #f0f8ff;}#sk-container-id-2 div.sk-toggleable__content pre {margin: 0.2em;color: black;border-radius: 0.25em;background-color: #f0f8ff;}#sk-container-id-2 input.sk-toggleable__control:checked~div.sk-toggleable__content {max-height: 200px;max-width: 100%;overflow: auto;}#sk-container-id-2 input.sk-toggleable__control:checked~label.sk-toggleable__label-arrow:before {content: \"▾\";}#sk-container-id-2 div.sk-estimator input.sk-toggleable__control:checked~label.sk-toggleable__label {background-color: #d4ebff;}#sk-container-id-2 div.sk-label input.sk-toggleable__control:checked~label.sk-toggleable__label {background-color: #d4ebff;}#sk-container-id-2 input.sk-hidden--visually {border: 0;clip: rect(1px 1px 1px 1px);clip: rect(1px, 1px, 1px, 1px);height: 1px;margin: -1px;overflow: hidden;padding: 0;position: absolute;width: 1px;}#sk-container-id-2 div.sk-estimator {font-family: monospace;background-color: #f0f8ff;border: 1px dotted black;border-radius: 0.25em;box-sizing: border-box;margin-bottom: 0.5em;}#sk-container-id-2 div.sk-estimator:hover {background-color: #d4ebff;}#sk-container-id-2 div.sk-parallel-item::after {content: \"\";width: 100%;border-bottom: 1px solid gray;flex-grow: 1;}#sk-container-id-2 div.sk-label:hover label.sk-toggleable__label {background-color: #d4ebff;}#sk-container-id-2 div.sk-serial::before {content: \"\";position: absolute;border-left: 1px solid gray;box-sizing: border-box;top: 0;bottom: 0;left: 50%;z-index: 0;}#sk-container-id-2 div.sk-serial {display: flex;flex-direction: column;align-items: center;background-color: white;padding-right: 0.2em;padding-left: 0.2em;position: relative;}#sk-container-id-2 div.sk-item {position: relative;z-index: 1;}#sk-container-id-2 div.sk-parallel {display: flex;align-items: stretch;justify-content: center;background-color: white;position: relative;}#sk-container-id-2 div.sk-item::before, #sk-container-id-2 div.sk-parallel-item::before {content: \"\";position: absolute;border-left: 1px solid gray;box-sizing: border-box;top: 0;bottom: 0;left: 50%;z-index: -1;}#sk-container-id-2 div.sk-parallel-item {display: flex;flex-direction: column;z-index: 1;position: relative;background-color: white;}#sk-container-id-2 div.sk-parallel-item:first-child::after {align-self: flex-end;width: 50%;}#sk-container-id-2 div.sk-parallel-item:last-child::after {align-self: flex-start;width: 50%;}#sk-container-id-2 div.sk-parallel-item:only-child::after {width: 0;}#sk-container-id-2 div.sk-dashed-wrapped {border: 1px dashed gray;margin: 0 0.4em 0.5em 0.4em;box-sizing: border-box;padding-bottom: 0.4em;background-color: white;}#sk-container-id-2 div.sk-label label {font-family: monospace;font-weight: bold;display: inline-block;line-height: 1.2em;}#sk-container-id-2 div.sk-label-container {text-align: center;}#sk-container-id-2 div.sk-container {/* jupyter's `normalize.less` sets `[hidden] { display: none; }` but bootstrap.min.css set `[hidden] { display: none !important; }` so we also need the `!important` here to be able to override the default hidden behavior on the sphinx rendered scikit-learn.org. See: https://github.com/scikit-learn/scikit-learn/issues/21755 */display: inline-block !important;position: relative;}#sk-container-id-2 div.sk-text-repr-fallback {display: none;}</style><div id=\"sk-container-id-2\" class=\"sk-top-container\"><div class=\"sk-text-repr-fallback\"><pre>SGDClassifier(loss=&#x27;log&#x27;, max_iter=10, random_state=42)</pre><b>In a Jupyter environment, please rerun this cell to show the HTML representation or trust the notebook. <br />On GitHub, the HTML representation is unable to render, please try loading this page with nbviewer.org.</b></div><div class=\"sk-container\" hidden><div class=\"sk-item\"><div class=\"sk-estimator sk-toggleable\"><input class=\"sk-toggleable__control sk-hidden--visually\" id=\"sk-estimator-id-2\" type=\"checkbox\" checked><label for=\"sk-estimator-id-2\" class=\"sk-toggleable__label sk-toggleable__label-arrow\">SGDClassifier</label><div class=\"sk-toggleable__content\"><pre>SGDClassifier(loss=&#x27;log&#x27;, max_iter=10, random_state=42)</pre></div></div></div></div></div>"
      ],
      "text/plain": [
       "SGDClassifier(loss='log', max_iter=10, random_state=42)"
      ]
     },
     "execution_count": 10,
     "metadata": {},
     "output_type": "execute_result"
    }
   ],
   "source": [
    "### 훈련시키기\n",
    "sc.fit(train_scaled, train_target)"
   ]
  },
  {
   "cell_type": "code",
   "execution_count": 11,
   "id": "7fb8454d",
   "metadata": {},
   "outputs": [
    {
     "data": {
      "text/plain": [
       "(0.773109243697479, 0.775)"
      ]
     },
     "execution_count": 11,
     "metadata": {},
     "output_type": "execute_result"
    }
   ],
   "source": [
    "### 정확도 확인하기\n",
    "train_score = sc.score(train_scaled, train_target)\n",
    "test_score = sc.score(test_scaled, test_target)\n",
    "train_score, test_score\n",
    "\n",
    "### 해석\n",
    "# - 전체적으로 학습능력은 떨어짐\n",
    "# - 과소적합이 다소 보임"
   ]
  },
  {
   "cell_type": "code",
   "execution_count": 12,
   "id": "e3f5ee87",
   "metadata": {},
   "outputs": [
    {
     "data": {
      "text/plain": [
       "(0.8151260504201681, 0.85)"
      ]
     },
     "execution_count": 12,
     "metadata": {},
     "output_type": "execute_result"
    }
   ],
   "source": [
    "### 계속 이어서 학습 시키기\n",
    "# - 다시 10번 훈련시키기\n",
    "sc.partial_fit(train_scaled, train_target)\n",
    "\n",
    "### 정확도 확인하기\n",
    "train_score = sc.score(train_scaled, train_target)\n",
    "test_score = sc.score(test_scaled, test_target)\n",
    "train_score, test_score\n",
    "\n",
    "### 해석\n",
    "# - 전체 훈련정확도는 높아졌으나, 과소적합은 나타나고 있음"
   ]
  },
  {
   "cell_type": "markdown",
   "id": "2c98d13b",
   "metadata": {},
   "source": [
    "# 에포크(반복횟수) 찾아내기"
   ]
  },
  {
   "cell_type": "code",
   "execution_count": 13,
   "id": "fddc5a10",
   "metadata": {},
   "outputs": [],
   "source": [
    "import numpy as np"
   ]
  },
  {
   "cell_type": "code",
   "execution_count": 14,
   "id": "eeb1d592",
   "metadata": {},
   "outputs": [],
   "source": [
    "### 클래스(모델) 새로 생성하기\n",
    "# - 반복 횟수는 정의하지 않음\n",
    "sc = SGDClassifier(loss=\"log\", random_state=42)\n",
    "\n",
    "### 반복시 저장할 스코어 변수 정의\n",
    "train_score = []\n",
    "test_score = []"
   ]
  },
  {
   "cell_type": "code",
   "execution_count": 15,
   "id": "87457fc1",
   "metadata": {},
   "outputs": [
    {
     "data": {
      "text/plain": [
       "array(['Bream', 'Parkki', 'Perch', 'Pike', 'Roach', 'Smelt', 'Whitefish'],\n",
       "      dtype=object)"
      ]
     },
     "execution_count": 15,
     "metadata": {},
     "output_type": "execute_result"
    }
   ],
   "source": [
    "### 종속변수값 확인하기\n",
    "classes = np.unique(train_target)\n",
    "classes"
   ]
  },
  {
   "cell_type": "code",
   "execution_count": 16,
   "id": "69c08bf8",
   "metadata": {},
   "outputs": [
    {
     "name": "stderr",
     "output_type": "stream",
     "text": [
      "C:\\anaconda3\\envs\\sejong_ml\\lib\\site-packages\\sklearn\\linear_model\\_stochastic_gradient.py:163: FutureWarning: The loss 'log' was deprecated in v1.1 and will be removed in version 1.3. Use `loss='log_loss'` which is equivalent.\n",
      "  warnings.warn(\n"
     ]
    }
   ],
   "source": [
    "### 반복을 통해 반봇횟수별 스코어 저장\n",
    "for _ in range(0, 300, 1) :\n",
    "    ### classes : 훈련에 사용할 범주(종속변수 지정)\n",
    "    # - 향후 현업에서 종속변수의 값을 수정해서 넣으셔서 훈련하셔도 됩니다.\n",
    "    sc.partial_fit(train_scaled, train_target, classes=classes)\n",
    "    \n",
    "    train_score.append(sc.score(train_scaled, train_target))\n",
    "    test_score.append(sc.score(test_scaled, test_target))"
   ]
  },
  {
   "cell_type": "code",
   "execution_count": 17,
   "id": "f81de120",
   "metadata": {},
   "outputs": [
    {
     "data": {
      "text/plain": [
       "(300, 300)"
      ]
     },
     "execution_count": 17,
     "metadata": {},
     "output_type": "execute_result"
    }
   ],
   "source": [
    "len(train_score), len(test_score)"
   ]
  },
  {
   "cell_type": "code",
   "execution_count": 18,
   "id": "b71372fe",
   "metadata": {},
   "outputs": [
    {
     "data": {
      "text/plain": [
       "[0.5294117647058824,\n",
       " 0.6218487394957983,\n",
       " 0.6386554621848739,\n",
       " 0.7310924369747899,\n",
       " 0.7226890756302521,\n",
       " 0.7310924369747899,\n",
       " 0.7647058823529411,\n",
       " 0.7310924369747899,\n",
       " 0.8151260504201681,\n",
       " 0.7478991596638656,\n",
       " 0.8319327731092437,\n",
       " 0.8151260504201681,\n",
       " 0.8571428571428571,\n",
       " 0.8571428571428571,\n",
       " 0.8403361344537815,\n",
       " 0.865546218487395,\n",
       " 0.865546218487395,\n",
       " 0.865546218487395,\n",
       " 0.8739495798319328,\n",
       " 0.8739495798319328,\n",
       " 0.8739495798319328,\n",
       " 0.865546218487395,\n",
       " 0.865546218487395,\n",
       " 0.8823529411764706,\n",
       " 0.865546218487395,\n",
       " 0.8823529411764706,\n",
       " 0.8823529411764706,\n",
       " 0.8823529411764706,\n",
       " 0.8907563025210085,\n",
       " 0.8907563025210085,\n",
       " 0.8907563025210085,\n",
       " 0.8907563025210085,\n",
       " 0.8823529411764706,\n",
       " 0.8823529411764706,\n",
       " 0.8907563025210085,\n",
       " 0.907563025210084,\n",
       " 0.907563025210084,\n",
       " 0.8991596638655462,\n",
       " 0.907563025210084,\n",
       " 0.8991596638655462,\n",
       " 0.8991596638655462,\n",
       " 0.907563025210084,\n",
       " 0.907563025210084,\n",
       " 0.907563025210084,\n",
       " 0.9159663865546218,\n",
       " 0.9159663865546218,\n",
       " 0.9243697478991597,\n",
       " 0.9243697478991597,\n",
       " 0.9243697478991597,\n",
       " 0.9243697478991597,\n",
       " 0.9243697478991597,\n",
       " 0.9243697478991597,\n",
       " 0.9243697478991597,\n",
       " 0.9243697478991597,\n",
       " 0.9327731092436975,\n",
       " 0.9327731092436975,\n",
       " 0.9327731092436975,\n",
       " 0.9327731092436975,\n",
       " 0.9411764705882353,\n",
       " 0.9411764705882353,\n",
       " 0.9411764705882353,\n",
       " 0.9411764705882353,\n",
       " 0.9495798319327731,\n",
       " 0.9495798319327731,\n",
       " 0.9495798319327731,\n",
       " 0.9495798319327731,\n",
       " 0.9495798319327731,\n",
       " 0.9495798319327731,\n",
       " 0.9495798319327731,\n",
       " 0.9495798319327731,\n",
       " 0.9411764705882353,\n",
       " 0.9411764705882353,\n",
       " 0.9411764705882353,\n",
       " 0.9411764705882353,\n",
       " 0.9411764705882353,\n",
       " 0.9411764705882353,\n",
       " 0.9411764705882353,\n",
       " 0.9411764705882353,\n",
       " 0.9411764705882353,\n",
       " 0.9411764705882353,\n",
       " 0.9411764705882353,\n",
       " 0.9411764705882353,\n",
       " 0.9411764705882353,\n",
       " 0.9411764705882353,\n",
       " 0.9411764705882353,\n",
       " 0.9411764705882353,\n",
       " 0.9411764705882353,\n",
       " 0.9411764705882353,\n",
       " 0.9411764705882353,\n",
       " 0.9411764705882353,\n",
       " 0.9411764705882353,\n",
       " 0.9411764705882353,\n",
       " 0.9411764705882353,\n",
       " 0.9411764705882353,\n",
       " 0.9411764705882353,\n",
       " 0.9411764705882353,\n",
       " 0.9411764705882353,\n",
       " 0.9411764705882353,\n",
       " 0.9411764705882353,\n",
       " 0.9411764705882353,\n",
       " 0.9411764705882353,\n",
       " 0.9411764705882353,\n",
       " 0.9411764705882353,\n",
       " 0.9411764705882353,\n",
       " 0.9411764705882353,\n",
       " 0.9411764705882353,\n",
       " 0.9411764705882353,\n",
       " 0.9495798319327731,\n",
       " 0.9495798319327731,\n",
       " 0.9495798319327731,\n",
       " 0.9495798319327731,\n",
       " 0.9495798319327731,\n",
       " 0.9495798319327731,\n",
       " 0.9495798319327731,\n",
       " 0.9495798319327731,\n",
       " 0.9495798319327731,\n",
       " 0.957983193277311,\n",
       " 0.957983193277311,\n",
       " 0.957983193277311,\n",
       " 0.957983193277311,\n",
       " 0.957983193277311,\n",
       " 0.957983193277311,\n",
       " 0.957983193277311,\n",
       " 0.957983193277311,\n",
       " 0.957983193277311,\n",
       " 0.957983193277311,\n",
       " 0.957983193277311,\n",
       " 0.957983193277311,\n",
       " 0.957983193277311,\n",
       " 0.957983193277311,\n",
       " 0.957983193277311,\n",
       " 0.957983193277311,\n",
       " 0.957983193277311,\n",
       " 0.957983193277311,\n",
       " 0.957983193277311,\n",
       " 0.957983193277311,\n",
       " 0.957983193277311,\n",
       " 0.957983193277311,\n",
       " 0.957983193277311,\n",
       " 0.957983193277311,\n",
       " 0.957983193277311,\n",
       " 0.957983193277311,\n",
       " 0.957983193277311,\n",
       " 0.957983193277311,\n",
       " 0.957983193277311,\n",
       " 0.957983193277311,\n",
       " 0.957983193277311,\n",
       " 0.957983193277311,\n",
       " 0.957983193277311,\n",
       " 0.957983193277311,\n",
       " 0.957983193277311,\n",
       " 0.957983193277311,\n",
       " 0.957983193277311,\n",
       " 0.957983193277311,\n",
       " 0.957983193277311,\n",
       " 0.957983193277311,\n",
       " 0.957983193277311,\n",
       " 0.957983193277311,\n",
       " 0.957983193277311,\n",
       " 0.957983193277311,\n",
       " 0.957983193277311,\n",
       " 0.957983193277311,\n",
       " 0.957983193277311,\n",
       " 0.957983193277311,\n",
       " 0.957983193277311,\n",
       " 0.957983193277311,\n",
       " 0.957983193277311,\n",
       " 0.957983193277311,\n",
       " 0.957983193277311,\n",
       " 0.957983193277311,\n",
       " 0.957983193277311,\n",
       " 0.957983193277311,\n",
       " 0.957983193277311,\n",
       " 0.957983193277311,\n",
       " 0.957983193277311,\n",
       " 0.957983193277311,\n",
       " 0.957983193277311,\n",
       " 0.957983193277311,\n",
       " 0.957983193277311,\n",
       " 0.957983193277311,\n",
       " 0.957983193277311,\n",
       " 0.957983193277311,\n",
       " 0.957983193277311,\n",
       " 0.957983193277311,\n",
       " 0.957983193277311,\n",
       " 0.957983193277311,\n",
       " 0.957983193277311,\n",
       " 0.957983193277311,\n",
       " 0.957983193277311,\n",
       " 0.957983193277311,\n",
       " 0.957983193277311,\n",
       " 0.957983193277311,\n",
       " 0.957983193277311,\n",
       " 0.957983193277311,\n",
       " 0.957983193277311,\n",
       " 0.957983193277311,\n",
       " 0.957983193277311,\n",
       " 0.957983193277311,\n",
       " 0.957983193277311,\n",
       " 0.957983193277311,\n",
       " 0.957983193277311,\n",
       " 0.957983193277311,\n",
       " 0.957983193277311,\n",
       " 0.957983193277311,\n",
       " 0.957983193277311,\n",
       " 0.957983193277311,\n",
       " 0.957983193277311,\n",
       " 0.957983193277311,\n",
       " 0.957983193277311,\n",
       " 0.957983193277311,\n",
       " 0.957983193277311,\n",
       " 0.957983193277311,\n",
       " 0.957983193277311,\n",
       " 0.957983193277311,\n",
       " 0.957983193277311,\n",
       " 0.957983193277311,\n",
       " 0.957983193277311,\n",
       " 0.957983193277311,\n",
       " 0.957983193277311,\n",
       " 0.957983193277311,\n",
       " 0.957983193277311,\n",
       " 0.957983193277311,\n",
       " 0.957983193277311,\n",
       " 0.957983193277311,\n",
       " 0.957983193277311,\n",
       " 0.957983193277311,\n",
       " 0.957983193277311,\n",
       " 0.957983193277311,\n",
       " 0.957983193277311,\n",
       " 0.957983193277311,\n",
       " 0.957983193277311,\n",
       " 0.957983193277311,\n",
       " 0.957983193277311,\n",
       " 0.957983193277311,\n",
       " 0.957983193277311,\n",
       " 0.957983193277311,\n",
       " 0.957983193277311,\n",
       " 0.957983193277311,\n",
       " 0.957983193277311,\n",
       " 0.957983193277311,\n",
       " 0.957983193277311,\n",
       " 0.957983193277311,\n",
       " 0.957983193277311,\n",
       " 0.957983193277311,\n",
       " 0.957983193277311,\n",
       " 0.957983193277311,\n",
       " 0.957983193277311,\n",
       " 0.957983193277311,\n",
       " 0.957983193277311,\n",
       " 0.957983193277311,\n",
       " 0.957983193277311,\n",
       " 0.957983193277311,\n",
       " 0.957983193277311,\n",
       " 0.957983193277311,\n",
       " 0.957983193277311,\n",
       " 0.957983193277311,\n",
       " 0.957983193277311,\n",
       " 0.957983193277311,\n",
       " 0.957983193277311,\n",
       " 0.957983193277311,\n",
       " 0.957983193277311,\n",
       " 0.957983193277311,\n",
       " 0.957983193277311,\n",
       " 0.957983193277311,\n",
       " 0.957983193277311,\n",
       " 0.957983193277311,\n",
       " 0.957983193277311,\n",
       " 0.957983193277311,\n",
       " 0.957983193277311,\n",
       " 0.957983193277311,\n",
       " 0.9663865546218487,\n",
       " 0.9663865546218487,\n",
       " 0.9663865546218487,\n",
       " 0.9663865546218487,\n",
       " 0.9663865546218487,\n",
       " 0.9663865546218487,\n",
       " 0.9663865546218487,\n",
       " 0.9663865546218487,\n",
       " 0.9663865546218487,\n",
       " 0.9663865546218487,\n",
       " 0.9663865546218487,\n",
       " 0.9663865546218487,\n",
       " 0.9663865546218487,\n",
       " 0.9663865546218487,\n",
       " 0.9663865546218487,\n",
       " 0.9663865546218487,\n",
       " 0.9663865546218487,\n",
       " 0.9663865546218487,\n",
       " 0.9663865546218487,\n",
       " 0.9663865546218487,\n",
       " 0.9663865546218487,\n",
       " 0.9663865546218487,\n",
       " 0.9663865546218487,\n",
       " 0.9663865546218487,\n",
       " 0.9663865546218487,\n",
       " 0.9663865546218487,\n",
       " 0.9663865546218487,\n",
       " 0.9663865546218487,\n",
       " 0.9663865546218487,\n",
       " 0.9663865546218487]"
      ]
     },
     "execution_count": 18,
     "metadata": {},
     "output_type": "execute_result"
    }
   ],
   "source": [
    "train_score"
   ]
  },
  {
   "cell_type": "code",
   "execution_count": 19,
   "id": "775d4b1c",
   "metadata": {},
   "outputs": [],
   "source": [
    "### 반복횟수별 훈련 및 테스트 정확도 비교 시각화"
   ]
  },
  {
   "cell_type": "code",
   "execution_count": 20,
   "id": "c6170e7f",
   "metadata": {},
   "outputs": [],
   "source": [
    "import matplotlib.pyplot as plt"
   ]
  },
  {
   "cell_type": "code",
   "execution_count": 21,
   "id": "100dafa0",
   "metadata": {},
   "outputs": [
    {
     "data": {
      "image/png": "[encoded data removed]",
      "text/plain": [
       "<Figure size 640x480 with 1 Axes>"
      ]
     },
     "metadata": {},
     "output_type": "display_data"
    }
   ],
   "source": [
    "plt.plot(train_score, label=\"train_score\")\n",
    "plt.plot(test_score, label=\"test_score\")\n",
    "plt.legend()\n",
    "plt.show()\n",
    "\n",
    "### (해석 방법)\n",
    "# - 훈련 및 테스트 두 선분이 가장 가까운 지점 중에\n",
    "# - 과대 또는 과소가 일어나는 지점의 바로 전부분을 확인( 단, 가장 가까운..)\n",
    "# - 적합한 지점을 사람이 선택 ( 이번경우 100 에포크가 가장 적합한 지점임)\n",
    "# - max_iter 값에 선택 값을 넣어서 다시 학습시키면 됨"
   ]
  },
  {
   "cell_type": "markdown",
   "id": "947e86cb",
   "metadata": {},
   "source": [
    "### 찾은 max_iter 값을 정의하여 훈련 시키기"
   ]
  },
  {
   "cell_type": "code",
   "execution_count": 22,
   "id": "9ea61b6e",
   "metadata": {},
   "outputs": [
    {
     "data": {
      "text/html": [
       "<style>#sk-container-id-3 {color: black;background-color: white;}#sk-container-id-3 pre{padding: 0;}#sk-container-id-3 div.sk-toggleable {background-color: white;}#sk-container-id-3 label.sk-toggleable__label {cursor: pointer;display: block;width: 100%;margin-bottom: 0;padding: 0.3em;box-sizing: border-box;text-align: center;}#sk-container-id-3 label.sk-toggleable__label-arrow:before {content: \"▸\";float: left;margin-right: 0.25em;color: #696969;}#sk-container-id-3 label.sk-toggleable__label-arrow:hover:before {color: black;}#sk-container-id-3 div.sk-estimator:hover label.sk-toggleable__label-arrow:before {color: black;}#sk-container-id-3 div.sk-toggleable__content {max-height: 0;max-width: 0;overflow: hidden;text-align: left;background-color: #f0f8ff;}#sk-container-id-3 div.sk-toggleable__content pre {margin: 0.2em;color: black;border-radius: 0.25em;background-color: #f0f8ff;}#sk-container-id-3 input.sk-toggleable__control:checked~div.sk-toggleable__content {max-height: 200px;max-width: 100%;overflow: auto;}#sk-container-id-3 input.sk-toggleable__control:checked~label.sk-toggleable__label-arrow:before {content: \"▾\";}#sk-container-id-3 div.sk-estimator input.sk-toggleable__control:checked~label.sk-toggleable__label {background-color: #d4ebff;}#sk-container-id-3 div.sk-label input.sk-toggleable__control:checked~label.sk-toggleable__label {background-color: #d4ebff;}#sk-container-id-3 input.sk-hidden--visually {border: 0;clip: rect(1px 1px 1px 1px);clip: rect(1px, 1px, 1px, 1px);height: 1px;margin: -1px;overflow: hidden;padding: 0;position: absolute;width: 1px;}#sk-container-id-3 div.sk-estimator {font-family: monospace;background-color: #f0f8ff;border: 1px dotted black;border-radius: 0.25em;box-sizing: border-box;margin-bottom: 0.5em;}#sk-container-id-3 div.sk-estimator:hover {background-color: #d4ebff;}#sk-container-id-3 div.sk-parallel-item::after {content: \"\";width: 100%;border-bottom: 1px solid gray;flex-grow: 1;}#sk-container-id-3 div.sk-label:hover label.sk-toggleable__label {background-color: #d4ebff;}#sk-container-id-3 div.sk-serial::before {content: \"\";position: absolute;border-left: 1px solid gray;box-sizing: border-box;top: 0;bottom: 0;left: 50%;z-index: 0;}#sk-container-id-3 div.sk-serial {display: flex;flex-direction: column;align-items: center;background-color: white;padding-right: 0.2em;padding-left: 0.2em;position: relative;}#sk-container-id-3 div.sk-item {position: relative;z-index: 1;}#sk-container-id-3 div.sk-parallel {display: flex;align-items: stretch;justify-content: center;background-color: white;position: relative;}#sk-container-id-3 div.sk-item::before, #sk-container-id-3 div.sk-parallel-item::before {content: \"\";position: absolute;border-left: 1px solid gray;box-sizing: border-box;top: 0;bottom: 0;left: 50%;z-index: -1;}#sk-container-id-3 div.sk-parallel-item {display: flex;flex-direction: column;z-index: 1;position: relative;background-color: white;}#sk-container-id-3 div.sk-parallel-item:first-child::after {align-self: flex-end;width: 50%;}#sk-container-id-3 div.sk-parallel-item:last-child::after {align-self: flex-start;width: 50%;}#sk-container-id-3 div.sk-parallel-item:only-child::after {width: 0;}#sk-container-id-3 div.sk-dashed-wrapped {border: 1px dashed gray;margin: 0 0.4em 0.5em 0.4em;box-sizing: border-box;padding-bottom: 0.4em;background-color: white;}#sk-container-id-3 div.sk-label label {font-family: monospace;font-weight: bold;display: inline-block;line-height: 1.2em;}#sk-container-id-3 div.sk-label-container {text-align: center;}#sk-container-id-3 div.sk-container {/* jupyter's `normalize.less` sets `[hidden] { display: none; }` but bootstrap.min.css set `[hidden] { display: none !important; }` so we also need the `!important` here to be able to override the default hidden behavior on the sphinx rendered scikit-learn.org. See: https://github.com/scikit-learn/scikit-learn/issues/21755 */display: inline-block !important;position: relative;}#sk-container-id-3 div.sk-text-repr-fallback {display: none;}</style><div id=\"sk-container-id-3\" class=\"sk-top-container\"><div class=\"sk-text-repr-fallback\"><pre>SGDClassifier(loss=&#x27;log&#x27;, max_iter=100, random_state=42, tol=None)</pre><b>In a Jupyter environment, please rerun this cell to show the HTML representation or trust the notebook. <br />On GitHub, the HTML representation is unable to render, please try loading this page with nbviewer.org.</b></div><div class=\"sk-container\" hidden><div class=\"sk-item\"><div class=\"sk-estimator sk-toggleable\"><input class=\"sk-toggleable__control sk-hidden--visually\" id=\"sk-estimator-id-3\" type=\"checkbox\" checked><label for=\"sk-estimator-id-3\" class=\"sk-toggleable__label sk-toggleable__label-arrow\">SGDClassifier</label><div class=\"sk-toggleable__content\"><pre>SGDClassifier(loss=&#x27;log&#x27;, max_iter=100, random_state=42, tol=None)</pre></div></div></div></div></div>"
      ],
      "text/plain": [
       "SGDClassifier(loss='log', max_iter=100, random_state=42, tol=None)"
      ]
     },
     "execution_count": 22,
     "metadata": {},
     "output_type": "execute_result"
    }
   ],
   "source": [
    "### tol = \"None\" : 훈련이 끝나더라도 종료하지 말고, max_iter 획수만큼 진행\n",
    "sc = SGDClassifier(loss=\"log\", max_iter=100, tol=None, random_state=42)\n",
    "sc"
   ]
  },
  {
   "cell_type": "code",
   "execution_count": 23,
   "id": "f9102710",
   "metadata": {},
   "outputs": [
    {
     "name": "stderr",
     "output_type": "stream",
     "text": [
      "C:\\anaconda3\\envs\\sejong_ml\\lib\\site-packages\\sklearn\\linear_model\\_stochastic_gradient.py:163: FutureWarning: The loss 'log' was deprecated in v1.1 and will be removed in version 1.3. Use `loss='log_loss'` which is equivalent.\n",
      "  warnings.warn(\n"
     ]
    },
    {
     "data": {
      "text/html": [
       "<style>#sk-container-id-4 {color: black;background-color: white;}#sk-container-id-4 pre{padding: 0;}#sk-container-id-4 div.sk-toggleable {background-color: white;}#sk-container-id-4 label.sk-toggleable__label {cursor: pointer;display: block;width: 100%;margin-bottom: 0;padding: 0.3em;box-sizing: border-box;text-align: center;}#sk-container-id-4 label.sk-toggleable__label-arrow:before {content: \"▸\";float: left;margin-right: 0.25em;color: #696969;}#sk-container-id-4 label.sk-toggleable__label-arrow:hover:before {color: black;}#sk-container-id-4 div.sk-estimator:hover label.sk-toggleable__label-arrow:before {color: black;}#sk-container-id-4 div.sk-toggleable__content {max-height: 0;max-width: 0;overflow: hidden;text-align: left;background-color: #f0f8ff;}#sk-container-id-4 div.sk-toggleable__content pre {margin: 0.2em;color: black;border-radius: 0.25em;background-color: #f0f8ff;}#sk-container-id-4 input.sk-toggleable__control:checked~div.sk-toggleable__content {max-height: 200px;max-width: 100%;overflow: auto;}#sk-container-id-4 input.sk-toggleable__control:checked~label.sk-toggleable__label-arrow:before {content: \"▾\";}#sk-container-id-4 div.sk-estimator input.sk-toggleable__control:checked~label.sk-toggleable__label {background-color: #d4ebff;}#sk-container-id-4 div.sk-label input.sk-toggleable__control:checked~label.sk-toggleable__label {background-color: #d4ebff;}#sk-container-id-4 input.sk-hidden--visually {border: 0;clip: rect(1px 1px 1px 1px);clip: rect(1px, 1px, 1px, 1px);height: 1px;margin: -1px;overflow: hidden;padding: 0;position: absolute;width: 1px;}#sk-container-id-4 div.sk-estimator {font-family: monospace;background-color: #f0f8ff;border: 1px dotted black;border-radius: 0.25em;box-sizing: border-box;margin-bottom: 0.5em;}#sk-container-id-4 div.sk-estimator:hover {background-color: #d4ebff;}#sk-container-id-4 div.sk-parallel-item::after {content: \"\";width: 100%;border-bottom: 1px solid gray;flex-grow: 1;}#sk-container-id-4 div.sk-label:hover label.sk-toggleable__label {background-color: #d4ebff;}#sk-container-id-4 div.sk-serial::before {content: \"\";position: absolute;border-left: 1px solid gray;box-sizing: border-box;top: 0;bottom: 0;left: 50%;z-index: 0;}#sk-container-id-4 div.sk-serial {display: flex;flex-direction: column;align-items: center;background-color: white;padding-right: 0.2em;padding-left: 0.2em;position: relative;}#sk-container-id-4 div.sk-item {position: relative;z-index: 1;}#sk-container-id-4 div.sk-parallel {display: flex;align-items: stretch;justify-content: center;background-color: white;position: relative;}#sk-container-id-4 div.sk-item::before, #sk-container-id-4 div.sk-parallel-item::before {content: \"\";position: absolute;border-left: 1px solid gray;box-sizing: border-box;top: 0;bottom: 0;left: 50%;z-index: -1;}#sk-container-id-4 div.sk-parallel-item {display: flex;flex-direction: column;z-index: 1;position: relative;background-color: white;}#sk-container-id-4 div.sk-parallel-item:first-child::after {align-self: flex-end;width: 50%;}#sk-container-id-4 div.sk-parallel-item:last-child::after {align-self: flex-start;width: 50%;}#sk-container-id-4 div.sk-parallel-item:only-child::after {width: 0;}#sk-container-id-4 div.sk-dashed-wrapped {border: 1px dashed gray;margin: 0 0.4em 0.5em 0.4em;box-sizing: border-box;padding-bottom: 0.4em;background-color: white;}#sk-container-id-4 div.sk-label label {font-family: monospace;font-weight: bold;display: inline-block;line-height: 1.2em;}#sk-container-id-4 div.sk-label-container {text-align: center;}#sk-container-id-4 div.sk-container {/* jupyter's `normalize.less` sets `[hidden] { display: none; }` but bootstrap.min.css set `[hidden] { display: none !important; }` so we also need the `!important` here to be able to override the default hidden behavior on the sphinx rendered scikit-learn.org. See: https://github.com/scikit-learn/scikit-learn/issues/21755 */display: inline-block !important;position: relative;}#sk-container-id-4 div.sk-text-repr-fallback {display: none;}</style><div id=\"sk-container-id-4\" class=\"sk-top-container\"><div class=\"sk-text-repr-fallback\"><pre>SGDClassifier(loss=&#x27;log&#x27;, max_iter=100, random_state=42, tol=None)</pre><b>In a Jupyter environment, please rerun this cell to show the HTML representation or trust the notebook. <br />On GitHub, the HTML representation is unable to render, please try loading this page with nbviewer.org.</b></div><div class=\"sk-container\" hidden><div class=\"sk-item\"><div class=\"sk-estimator sk-toggleable\"><input class=\"sk-toggleable__control sk-hidden--visually\" id=\"sk-estimator-id-4\" type=\"checkbox\" checked><label for=\"sk-estimator-id-4\" class=\"sk-toggleable__label sk-toggleable__label-arrow\">SGDClassifier</label><div class=\"sk-toggleable__content\"><pre>SGDClassifier(loss=&#x27;log&#x27;, max_iter=100, random_state=42, tol=None)</pre></div></div></div></div></div>"
      ],
      "text/plain": [
       "SGDClassifier(loss='log', max_iter=100, random_state=42, tol=None)"
      ]
     },
     "execution_count": 23,
     "metadata": {},
     "output_type": "execute_result"
    }
   ],
   "source": [
    "### 훈련시키기\n",
    "sc.fit(train_scaled, train_target)"
   ]
  },
  {
   "cell_type": "code",
   "execution_count": 24,
   "id": "1857bf93",
   "metadata": {},
   "outputs": [
    {
     "data": {
      "text/plain": [
       "(0.957983193277311, 0.925)"
      ]
     },
     "execution_count": 24,
     "metadata": {},
     "output_type": "execute_result"
    }
   ],
   "source": [
    "### 정확도 확인하기\n",
    "train_score = sc.score(train_scaled, train_target)\n",
    "test_score = sc.score(test_scaled, test_target)\n",
    "train_score, test_score"
   ]
  },
  {
   "cell_type": "code",
   "execution_count": 25,
   "id": "fe0f6be4",
   "metadata": {},
   "outputs": [],
   "source": [
    "# partial_fit() : 횟수를 계속 이어서 훈련시키는 것임"
   ]
  },
  {
   "cell_type": "markdown",
   "id": "22d7c7ca",
   "metadata": {},
   "source": [
    "### 전체 데이터 예측하기"
   ]
  },
  {
   "cell_type": "code",
   "execution_count": 26,
   "id": "04a0e4f3",
   "metadata": {},
   "outputs": [
    {
     "data": {
      "text/plain": [
       "'\\n- 전체 fish 데이터 전체 예측하기\\n- 실제 데이터와 예측 데이터를 비교해서..\\n- 정답 몇개, 오답 몇개 확인하기\\n'"
      ]
     },
     "execution_count": 26,
     "metadata": {},
     "output_type": "execute_result"
    }
   ],
   "source": [
    "\"\"\"\n",
    "- 전체 fish 데이터 전체 예측하기\n",
    "- 실제 데이터와 예측 데이터를 비교해서..\n",
    "- 정답 몇개, 오답 몇개 확인하기\n",
    "\"\"\""
   ]
  },
  {
   "cell_type": "code",
   "execution_count": 27,
   "id": "16c7c42b",
   "metadata": {},
   "outputs": [
    {
     "data": {
      "text/html": [
       "<div>\n",
       "<style scoped>\n",
       "    .dataframe tbody tr th:only-of-type {\n",
       "        vertical-align: middle;\n",
       "    }\n",
       "\n",
       "    .dataframe tbody tr th {\n",
       "        vertical-align: top;\n",
       "    }\n",
       "\n",
       "    .dataframe thead th {\n",
       "        text-align: right;\n",
       "    }\n",
       "</style>\n",
       "<table border=\"1\" class=\"dataframe\">\n",
       "  <thead>\n",
       "    <tr style=\"text-align: right;\">\n",
       "      <th></th>\n",
       "      <th>Species</th>\n",
       "      <th>Weight</th>\n",
       "      <th>Length</th>\n",
       "      <th>Diagonal</th>\n",
       "      <th>Height</th>\n",
       "      <th>Width</th>\n",
       "    </tr>\n",
       "  </thead>\n",
       "  <tbody>\n",
       "    <tr>\n",
       "      <th>0</th>\n",
       "      <td>Bream</td>\n",
       "      <td>242.0</td>\n",
       "      <td>25.4</td>\n",
       "      <td>30.0</td>\n",
       "      <td>11.5200</td>\n",
       "      <td>4.0200</td>\n",
       "    </tr>\n",
       "    <tr>\n",
       "      <th>1</th>\n",
       "      <td>Bream</td>\n",
       "      <td>290.0</td>\n",
       "      <td>26.3</td>\n",
       "      <td>31.2</td>\n",
       "      <td>12.4800</td>\n",
       "      <td>4.3056</td>\n",
       "    </tr>\n",
       "    <tr>\n",
       "      <th>2</th>\n",
       "      <td>Bream</td>\n",
       "      <td>340.0</td>\n",
       "      <td>26.5</td>\n",
       "      <td>31.1</td>\n",
       "      <td>12.3778</td>\n",
       "      <td>4.6961</td>\n",
       "    </tr>\n",
       "    <tr>\n",
       "      <th>3</th>\n",
       "      <td>Bream</td>\n",
       "      <td>363.0</td>\n",
       "      <td>29.0</td>\n",
       "      <td>33.5</td>\n",
       "      <td>12.7300</td>\n",
       "      <td>4.4555</td>\n",
       "    </tr>\n",
       "    <tr>\n",
       "      <th>4</th>\n",
       "      <td>Bream</td>\n",
       "      <td>430.0</td>\n",
       "      <td>29.0</td>\n",
       "      <td>34.0</td>\n",
       "      <td>12.4440</td>\n",
       "      <td>5.1340</td>\n",
       "    </tr>\n",
       "    <tr>\n",
       "      <th>...</th>\n",
       "      <td>...</td>\n",
       "      <td>...</td>\n",
       "      <td>...</td>\n",
       "      <td>...</td>\n",
       "      <td>...</td>\n",
       "      <td>...</td>\n",
       "    </tr>\n",
       "    <tr>\n",
       "      <th>154</th>\n",
       "      <td>Smelt</td>\n",
       "      <td>12.2</td>\n",
       "      <td>12.2</td>\n",
       "      <td>13.4</td>\n",
       "      <td>2.0904</td>\n",
       "      <td>1.3936</td>\n",
       "    </tr>\n",
       "    <tr>\n",
       "      <th>155</th>\n",
       "      <td>Smelt</td>\n",
       "      <td>13.4</td>\n",
       "      <td>12.4</td>\n",
       "      <td>13.5</td>\n",
       "      <td>2.4300</td>\n",
       "      <td>1.2690</td>\n",
       "    </tr>\n",
       "    <tr>\n",
       "      <th>156</th>\n",
       "      <td>Smelt</td>\n",
       "      <td>12.2</td>\n",
       "      <td>13.0</td>\n",
       "      <td>13.8</td>\n",
       "      <td>2.2770</td>\n",
       "      <td>1.2558</td>\n",
       "    </tr>\n",
       "    <tr>\n",
       "      <th>157</th>\n",
       "      <td>Smelt</td>\n",
       "      <td>19.7</td>\n",
       "      <td>14.3</td>\n",
       "      <td>15.2</td>\n",
       "      <td>2.8728</td>\n",
       "      <td>2.0672</td>\n",
       "    </tr>\n",
       "    <tr>\n",
       "      <th>158</th>\n",
       "      <td>Smelt</td>\n",
       "      <td>19.9</td>\n",
       "      <td>15.0</td>\n",
       "      <td>16.2</td>\n",
       "      <td>2.9322</td>\n",
       "      <td>1.8792</td>\n",
       "    </tr>\n",
       "  </tbody>\n",
       "</table>\n",
       "<p>159 rows × 6 columns</p>\n",
       "</div>"
      ],
      "text/plain": [
       "    Species  Weight  Length  Diagonal   Height   Width\n",
       "0     Bream   242.0    25.4      30.0  11.5200  4.0200\n",
       "1     Bream   290.0    26.3      31.2  12.4800  4.3056\n",
       "2     Bream   340.0    26.5      31.1  12.3778  4.6961\n",
       "3     Bream   363.0    29.0      33.5  12.7300  4.4555\n",
       "4     Bream   430.0    29.0      34.0  12.4440  5.1340\n",
       "..      ...     ...     ...       ...      ...     ...\n",
       "154   Smelt    12.2    12.2      13.4   2.0904  1.3936\n",
       "155   Smelt    13.4    12.4      13.5   2.4300  1.2690\n",
       "156   Smelt    12.2    13.0      13.8   2.2770  1.2558\n",
       "157   Smelt    19.7    14.3      15.2   2.8728  2.0672\n",
       "158   Smelt    19.9    15.0      16.2   2.9322  1.8792\n",
       "\n",
       "[159 rows x 6 columns]"
      ]
     },
     "execution_count": 27,
     "metadata": {},
     "output_type": "execute_result"
    }
   ],
   "source": [
    "fish"
   ]
  },
  {
   "cell_type": "code",
   "execution_count": 28,
   "id": "07a2472e",
   "metadata": {},
   "outputs": [],
   "source": [
    "# ----------강사님이랑 같이 -------------------"
   ]
  },
  {
   "cell_type": "code",
   "execution_count": 29,
   "id": "ba0e7eb5",
   "metadata": {},
   "outputs": [
    {
     "data": {
      "text/plain": [
       "(159, 5)"
      ]
     },
     "execution_count": 29,
     "metadata": {},
     "output_type": "execute_result"
    }
   ],
   "source": [
    "### 독립변수 전체 추출하기\n",
    "predict_data = fish[[\"Weight\", \"Length\", \"Diagonal\", \"Height\", \"Width\"]].to_numpy()\n",
    "predict_data.shape"
   ]
  },
  {
   "cell_type": "code",
   "execution_count": 30,
   "id": "d171fc95",
   "metadata": {},
   "outputs": [
    {
     "data": {
      "text/plain": [
       "(159, 5)"
      ]
     },
     "execution_count": 30,
     "metadata": {},
     "output_type": "execute_result"
    }
   ],
   "source": [
    "### 전체 독립변수 정규화 시키기\n",
    "ss = StandardScaler()\n",
    "ss.fit(predict_data)\n",
    "predict_scaled = ss.transform(predict_data)\n",
    "predict_scaled.shape"
   ]
  },
  {
   "cell_type": "code",
   "execution_count": 31,
   "id": "2cd39ec7",
   "metadata": {},
   "outputs": [
    {
     "data": {
      "text/plain": [
       "array(['Bream', 'Bream', 'Bream', 'Bream', 'Bream', 'Bream', 'Bream',\n",
       "       'Bream', 'Bream', 'Bream', 'Bream', 'Bream', 'Bream', 'Bream',\n",
       "       'Bream', 'Bream', 'Bream', 'Bream', 'Bream', 'Bream', 'Bream',\n",
       "       'Bream', 'Bream', 'Bream', 'Bream', 'Bream', 'Bream', 'Bream',\n",
       "       'Bream', 'Bream', 'Bream', 'Bream', 'Bream', 'Bream', 'Bream',\n",
       "       'Roach', 'Roach', 'Roach', 'Roach', 'Roach', 'Roach', 'Roach',\n",
       "       'Roach', 'Roach', 'Roach', 'Roach', 'Roach', 'Roach', 'Roach',\n",
       "       'Roach', 'Roach', 'Roach', 'Roach', 'Roach', 'Perch', 'Perch',\n",
       "       'Roach', 'Perch', 'Perch', 'Perch', 'Perch', 'Parkki', 'Parkki',\n",
       "       'Parkki', 'Parkki', 'Parkki', 'Parkki', 'Parkki', 'Parkki',\n",
       "       'Parkki', 'Parkki', 'Bream', 'Smelt', 'Perch', 'Perch', 'Perch',\n",
       "       'Perch', 'Perch', 'Perch', 'Perch', 'Perch', 'Perch', 'Perch',\n",
       "       'Perch', 'Perch', 'Perch', 'Perch', 'Perch', 'Perch', 'Perch',\n",
       "       'Perch', 'Perch', 'Perch', 'Perch', 'Perch', 'Perch', 'Perch',\n",
       "       'Perch', 'Perch', 'Perch', 'Perch', 'Perch', 'Perch', 'Perch',\n",
       "       'Perch', 'Perch', 'Perch', 'Perch', 'Perch', 'Perch', 'Perch',\n",
       "       'Perch', 'Perch', 'Perch', 'Perch', 'Perch', 'Perch', 'Perch',\n",
       "       'Perch', 'Perch', 'Perch', 'Perch', 'Perch', 'Perch', 'Perch',\n",
       "       'Perch', 'Perch', 'Perch', 'Pike', 'Pike', 'Pike', 'Pike', 'Pike',\n",
       "       'Pike', 'Pike', 'Pike', 'Pike', 'Pike', 'Pike', 'Pike', 'Pike',\n",
       "       'Pike', 'Pike', 'Pike', 'Pike', 'Smelt', 'Smelt', 'Smelt', 'Smelt',\n",
       "       'Smelt', 'Smelt', 'Smelt', 'Smelt', 'Smelt', 'Smelt', 'Smelt',\n",
       "       'Smelt', 'Perch', 'Smelt'], dtype='<U9')"
      ]
     },
     "execution_count": 31,
     "metadata": {},
     "output_type": "execute_result"
    }
   ],
   "source": [
    "### 전체 돌릭변수 예측하기\n",
    "result_predict = sc.predict(predict_scaled)\n",
    "result_predict"
   ]
  },
  {
   "cell_type": "code",
   "execution_count": 32,
   "id": "699761a2",
   "metadata": {},
   "outputs": [
    {
     "data": {
      "text/html": [
       "<div>\n",
       "<style scoped>\n",
       "    .dataframe tbody tr th:only-of-type {\n",
       "        vertical-align: middle;\n",
       "    }\n",
       "\n",
       "    .dataframe tbody tr th {\n",
       "        vertical-align: top;\n",
       "    }\n",
       "\n",
       "    .dataframe thead th {\n",
       "        text-align: right;\n",
       "    }\n",
       "</style>\n",
       "<table border=\"1\" class=\"dataframe\">\n",
       "  <thead>\n",
       "    <tr style=\"text-align: right;\">\n",
       "      <th></th>\n",
       "      <th>Weight</th>\n",
       "      <th>Length</th>\n",
       "      <th>Diagonal</th>\n",
       "      <th>Height</th>\n",
       "      <th>Width</th>\n",
       "      <th>Species</th>\n",
       "      <th>Species_pred</th>\n",
       "    </tr>\n",
       "  </thead>\n",
       "  <tbody>\n",
       "    <tr>\n",
       "      <th>0</th>\n",
       "      <td>242.0</td>\n",
       "      <td>25.4</td>\n",
       "      <td>30.0</td>\n",
       "      <td>11.5200</td>\n",
       "      <td>4.0200</td>\n",
       "      <td>Bream</td>\n",
       "      <td>Bream</td>\n",
       "    </tr>\n",
       "    <tr>\n",
       "      <th>1</th>\n",
       "      <td>290.0</td>\n",
       "      <td>26.3</td>\n",
       "      <td>31.2</td>\n",
       "      <td>12.4800</td>\n",
       "      <td>4.3056</td>\n",
       "      <td>Bream</td>\n",
       "      <td>Bream</td>\n",
       "    </tr>\n",
       "    <tr>\n",
       "      <th>2</th>\n",
       "      <td>340.0</td>\n",
       "      <td>26.5</td>\n",
       "      <td>31.1</td>\n",
       "      <td>12.3778</td>\n",
       "      <td>4.6961</td>\n",
       "      <td>Bream</td>\n",
       "      <td>Bream</td>\n",
       "    </tr>\n",
       "    <tr>\n",
       "      <th>3</th>\n",
       "      <td>363.0</td>\n",
       "      <td>29.0</td>\n",
       "      <td>33.5</td>\n",
       "      <td>12.7300</td>\n",
       "      <td>4.4555</td>\n",
       "      <td>Bream</td>\n",
       "      <td>Bream</td>\n",
       "    </tr>\n",
       "    <tr>\n",
       "      <th>4</th>\n",
       "      <td>430.0</td>\n",
       "      <td>29.0</td>\n",
       "      <td>34.0</td>\n",
       "      <td>12.4440</td>\n",
       "      <td>5.1340</td>\n",
       "      <td>Bream</td>\n",
       "      <td>Bream</td>\n",
       "    </tr>\n",
       "    <tr>\n",
       "      <th>...</th>\n",
       "      <td>...</td>\n",
       "      <td>...</td>\n",
       "      <td>...</td>\n",
       "      <td>...</td>\n",
       "      <td>...</td>\n",
       "      <td>...</td>\n",
       "      <td>...</td>\n",
       "    </tr>\n",
       "    <tr>\n",
       "      <th>154</th>\n",
       "      <td>12.2</td>\n",
       "      <td>12.2</td>\n",
       "      <td>13.4</td>\n",
       "      <td>2.0904</td>\n",
       "      <td>1.3936</td>\n",
       "      <td>Smelt</td>\n",
       "      <td>Smelt</td>\n",
       "    </tr>\n",
       "    <tr>\n",
       "      <th>155</th>\n",
       "      <td>13.4</td>\n",
       "      <td>12.4</td>\n",
       "      <td>13.5</td>\n",
       "      <td>2.4300</td>\n",
       "      <td>1.2690</td>\n",
       "      <td>Smelt</td>\n",
       "      <td>Smelt</td>\n",
       "    </tr>\n",
       "    <tr>\n",
       "      <th>156</th>\n",
       "      <td>12.2</td>\n",
       "      <td>13.0</td>\n",
       "      <td>13.8</td>\n",
       "      <td>2.2770</td>\n",
       "      <td>1.2558</td>\n",
       "      <td>Smelt</td>\n",
       "      <td>Smelt</td>\n",
       "    </tr>\n",
       "    <tr>\n",
       "      <th>157</th>\n",
       "      <td>19.7</td>\n",
       "      <td>14.3</td>\n",
       "      <td>15.2</td>\n",
       "      <td>2.8728</td>\n",
       "      <td>2.0672</td>\n",
       "      <td>Smelt</td>\n",
       "      <td>Perch</td>\n",
       "    </tr>\n",
       "    <tr>\n",
       "      <th>158</th>\n",
       "      <td>19.9</td>\n",
       "      <td>15.0</td>\n",
       "      <td>16.2</td>\n",
       "      <td>2.9322</td>\n",
       "      <td>1.8792</td>\n",
       "      <td>Smelt</td>\n",
       "      <td>Smelt</td>\n",
       "    </tr>\n",
       "  </tbody>\n",
       "</table>\n",
       "<p>159 rows × 7 columns</p>\n",
       "</div>"
      ],
      "text/plain": [
       "     Weight  Length  Diagonal   Height   Width Species Species_pred\n",
       "0     242.0    25.4      30.0  11.5200  4.0200   Bream        Bream\n",
       "1     290.0    26.3      31.2  12.4800  4.3056   Bream        Bream\n",
       "2     340.0    26.5      31.1  12.3778  4.6961   Bream        Bream\n",
       "3     363.0    29.0      33.5  12.7300  4.4555   Bream        Bream\n",
       "4     430.0    29.0      34.0  12.4440  5.1340   Bream        Bream\n",
       "..      ...     ...       ...      ...     ...     ...          ...\n",
       "154    12.2    12.2      13.4   2.0904  1.3936   Smelt        Smelt\n",
       "155    13.4    12.4      13.5   2.4300  1.2690   Smelt        Smelt\n",
       "156    12.2    13.0      13.8   2.2770  1.2558   Smelt        Smelt\n",
       "157    19.7    14.3      15.2   2.8728  2.0672   Smelt        Perch\n",
       "158    19.9    15.0      16.2   2.9322  1.8792   Smelt        Smelt\n",
       "\n",
       "[159 rows x 7 columns]"
      ]
     },
     "execution_count": 32,
     "metadata": {},
     "output_type": "execute_result"
    }
   ],
   "source": [
    "### 결과비교를 위해 데이터프레임으로 처리\n",
    "df = fish[[\"Weight\",  \"Length\",  \"Diagonal\",  \"Height\",  \"Width\"]]\n",
    "df[\"Species\"] = fish[\"Species\"]\n",
    "df[\"Species_pred\"] = result_predict\n",
    "df"
   ]
  },
  {
   "cell_type": "code",
   "execution_count": 33,
   "id": "77c6a9d5",
   "metadata": {},
   "outputs": [
    {
     "name": "stdout",
     "output_type": "stream",
     "text": [
      "총 [159]건 중에, 정답갯수 [149]건 / 오답갯수 [10]\n"
     ]
    }
   ],
   "source": [
    "### 정답/오답 확인하기\n",
    "# - 정답갯수 추출\n",
    "o_cnt = len(df[df[\"Species\"] == df[\"Species_pred\"]]) \n",
    "o_cnt\n",
    "\n",
    "# - 오답갯수 추출\n",
    "x_cnt = len(df[df[\"Species\"] != df[\"Species_pred\"]]) \n",
    "x_cnt \n",
    "\n",
    "all_cnt = len(df) \n",
    "all_cnt\n",
    "\n",
    "print(\"총 [{}]건 중에, 정답갯수 [{}]건 / 오답갯수 [{}]\".format(all_cnt, o_cnt, x_cnt))"
   ]
  },
  {
   "cell_type": "code",
   "execution_count": 34,
   "id": "affc58a3",
   "metadata": {},
   "outputs": [
    {
     "name": "stdout",
     "output_type": "stream",
     "text": [
      "총 100% 중 정답률[93.71%] / 오답률[6.29%]\n"
     ]
    }
   ],
   "source": [
    "### 정답률과 오답률 확인하기\n",
    "import numpy as np\n",
    "\n",
    "o_p = np.round(o_cnt / all_cnt * 100, 2)\n",
    "o_p\n",
    "\n",
    "x_p = np.round(x_cnt / all_cnt * 100, 2)\n",
    "x_p\n",
    "\n",
    "print(\"총 100% 중 정답률[{}%] / 오답률[{}%]\".format(o_p, x_p))"
   ]
  },
  {
   "cell_type": "code",
   "execution_count": 35,
   "id": "553669f6",
   "metadata": {},
   "outputs": [],
   "source": [
    "# ----------강사님이랑 같이 여기까지-------------------"
   ]
  },
  {
   "cell_type": "code",
   "execution_count": 36,
   "id": "56af6329",
   "metadata": {},
   "outputs": [],
   "source": [
    "# --------- 내가 혼자 해본거 -----------------------------"
   ]
  },
  {
   "cell_type": "code",
   "execution_count": 37,
   "id": "afa5d9ef",
   "metadata": {},
   "outputs": [],
   "source": [
    "### 찾은 패턴으로 데이터 변환하기\n",
    "input_scaled = ss.transform(fish_input)  "
   ]
  },
  {
   "cell_type": "code",
   "execution_count": 38,
   "id": "7131d88d",
   "metadata": {},
   "outputs": [
    {
     "name": "stderr",
     "output_type": "stream",
     "text": [
      "C:\\anaconda3\\envs\\sejong_ml\\lib\\site-packages\\sklearn\\linear_model\\_stochastic_gradient.py:163: FutureWarning: The loss 'log' was deprecated in v1.1 and will be removed in version 1.3. Use `loss='log_loss'` which is equivalent.\n",
      "  warnings.warn(\n"
     ]
    },
    {
     "data": {
      "text/html": [
       "<style>#sk-container-id-5 {color: black;background-color: white;}#sk-container-id-5 pre{padding: 0;}#sk-container-id-5 div.sk-toggleable {background-color: white;}#sk-container-id-5 label.sk-toggleable__label {cursor: pointer;display: block;width: 100%;margin-bottom: 0;padding: 0.3em;box-sizing: border-box;text-align: center;}#sk-container-id-5 label.sk-toggleable__label-arrow:before {content: \"▸\";float: left;margin-right: 0.25em;color: #696969;}#sk-container-id-5 label.sk-toggleable__label-arrow:hover:before {color: black;}#sk-container-id-5 div.sk-estimator:hover label.sk-toggleable__label-arrow:before {color: black;}#sk-container-id-5 div.sk-toggleable__content {max-height: 0;max-width: 0;overflow: hidden;text-align: left;background-color: #f0f8ff;}#sk-container-id-5 div.sk-toggleable__content pre {margin: 0.2em;color: black;border-radius: 0.25em;background-color: #f0f8ff;}#sk-container-id-5 input.sk-toggleable__control:checked~div.sk-toggleable__content {max-height: 200px;max-width: 100%;overflow: auto;}#sk-container-id-5 input.sk-toggleable__control:checked~label.sk-toggleable__label-arrow:before {content: \"▾\";}#sk-container-id-5 div.sk-estimator input.sk-toggleable__control:checked~label.sk-toggleable__label {background-color: #d4ebff;}#sk-container-id-5 div.sk-label input.sk-toggleable__control:checked~label.sk-toggleable__label {background-color: #d4ebff;}#sk-container-id-5 input.sk-hidden--visually {border: 0;clip: rect(1px 1px 1px 1px);clip: rect(1px, 1px, 1px, 1px);height: 1px;margin: -1px;overflow: hidden;padding: 0;position: absolute;width: 1px;}#sk-container-id-5 div.sk-estimator {font-family: monospace;background-color: #f0f8ff;border: 1px dotted black;border-radius: 0.25em;box-sizing: border-box;margin-bottom: 0.5em;}#sk-container-id-5 div.sk-estimator:hover {background-color: #d4ebff;}#sk-container-id-5 div.sk-parallel-item::after {content: \"\";width: 100%;border-bottom: 1px solid gray;flex-grow: 1;}#sk-container-id-5 div.sk-label:hover label.sk-toggleable__label {background-color: #d4ebff;}#sk-container-id-5 div.sk-serial::before {content: \"\";position: absolute;border-left: 1px solid gray;box-sizing: border-box;top: 0;bottom: 0;left: 50%;z-index: 0;}#sk-container-id-5 div.sk-serial {display: flex;flex-direction: column;align-items: center;background-color: white;padding-right: 0.2em;padding-left: 0.2em;position: relative;}#sk-container-id-5 div.sk-item {position: relative;z-index: 1;}#sk-container-id-5 div.sk-parallel {display: flex;align-items: stretch;justify-content: center;background-color: white;position: relative;}#sk-container-id-5 div.sk-item::before, #sk-container-id-5 div.sk-parallel-item::before {content: \"\";position: absolute;border-left: 1px solid gray;box-sizing: border-box;top: 0;bottom: 0;left: 50%;z-index: -1;}#sk-container-id-5 div.sk-parallel-item {display: flex;flex-direction: column;z-index: 1;position: relative;background-color: white;}#sk-container-id-5 div.sk-parallel-item:first-child::after {align-self: flex-end;width: 50%;}#sk-container-id-5 div.sk-parallel-item:last-child::after {align-self: flex-start;width: 50%;}#sk-container-id-5 div.sk-parallel-item:only-child::after {width: 0;}#sk-container-id-5 div.sk-dashed-wrapped {border: 1px dashed gray;margin: 0 0.4em 0.5em 0.4em;box-sizing: border-box;padding-bottom: 0.4em;background-color: white;}#sk-container-id-5 div.sk-label label {font-family: monospace;font-weight: bold;display: inline-block;line-height: 1.2em;}#sk-container-id-5 div.sk-label-container {text-align: center;}#sk-container-id-5 div.sk-container {/* jupyter's `normalize.less` sets `[hidden] { display: none; }` but bootstrap.min.css set `[hidden] { display: none !important; }` so we also need the `!important` here to be able to override the default hidden behavior on the sphinx rendered scikit-learn.org. See: https://github.com/scikit-learn/scikit-learn/issues/21755 */display: inline-block !important;position: relative;}#sk-container-id-5 div.sk-text-repr-fallback {display: none;}</style><div id=\"sk-container-id-5\" class=\"sk-top-container\"><div class=\"sk-text-repr-fallback\"><pre>SGDClassifier(loss=&#x27;log&#x27;, max_iter=100, random_state=42, tol=None)</pre><b>In a Jupyter environment, please rerun this cell to show the HTML representation or trust the notebook. <br />On GitHub, the HTML representation is unable to render, please try loading this page with nbviewer.org.</b></div><div class=\"sk-container\" hidden><div class=\"sk-item\"><div class=\"sk-estimator sk-toggleable\"><input class=\"sk-toggleable__control sk-hidden--visually\" id=\"sk-estimator-id-5\" type=\"checkbox\" checked><label for=\"sk-estimator-id-5\" class=\"sk-toggleable__label sk-toggleable__label-arrow\">SGDClassifier</label><div class=\"sk-toggleable__content\"><pre>SGDClassifier(loss=&#x27;log&#x27;, max_iter=100, random_state=42, tol=None)</pre></div></div></div></div></div>"
      ],
      "text/plain": [
       "SGDClassifier(loss='log', max_iter=100, random_state=42, tol=None)"
      ]
     },
     "execution_count": 38,
     "metadata": {},
     "output_type": "execute_result"
    }
   ],
   "source": [
    "sc.fit(input_scaled, fish_target)"
   ]
  },
  {
   "cell_type": "code",
   "execution_count": 39,
   "id": "0fede83b",
   "metadata": {},
   "outputs": [
    {
     "data": {
      "text/plain": [
       "0.9119496855345912"
      ]
     },
     "execution_count": 39,
     "metadata": {},
     "output_type": "execute_result"
    }
   ],
   "source": [
    "input_score = sc.score(input_scaled, fish_target) \n",
    "input_score"
   ]
  },
  {
   "cell_type": "code",
   "execution_count": 40,
   "id": "fd85fa67",
   "metadata": {},
   "outputs": [
    {
     "data": {
      "text/plain": [
       "0.9119496855345912"
      ]
     },
     "execution_count": 40,
     "metadata": {},
     "output_type": "execute_result"
    }
   ],
   "source": [
    "input_score  "
   ]
  },
  {
   "cell_type": "code",
   "execution_count": 41,
   "id": "6a31fce9",
   "metadata": {},
   "outputs": [
    {
     "data": {
      "text/plain": [
       "array(['Bream', 'Bream', 'Bream', 'Bream', 'Bream', 'Bream', 'Bream',\n",
       "       'Bream', 'Bream', 'Bream', 'Bream', 'Bream', 'Bream', 'Bream',\n",
       "       'Bream', 'Bream', 'Bream', 'Bream', 'Bream', 'Bream', 'Bream',\n",
       "       'Bream', 'Bream', 'Bream', 'Bream', 'Bream', 'Bream', 'Bream',\n",
       "       'Bream', 'Bream', 'Bream', 'Bream', 'Bream', 'Bream', 'Bream',\n",
       "       'Perch', 'Perch', 'Roach', 'Roach', 'Perch', 'Roach', 'Roach',\n",
       "       'Roach', 'Roach', 'Perch', 'Roach', 'Roach', 'Roach', 'Roach',\n",
       "       'Roach', 'Roach', 'Roach', 'Roach', 'Roach', 'Perch', 'Perch',\n",
       "       'Perch', 'Perch', 'Perch', 'Perch', 'Perch', 'Parkki', 'Parkki',\n",
       "       'Parkki', 'Parkki', 'Parkki', 'Parkki', 'Parkki', 'Parkki',\n",
       "       'Parkki', 'Parkki', 'Bream', 'Smelt', 'Perch', 'Perch', 'Perch',\n",
       "       'Perch', 'Perch', 'Perch', 'Perch', 'Perch', 'Perch', 'Perch',\n",
       "       'Perch', 'Perch', 'Perch', 'Perch', 'Perch', 'Perch', 'Perch',\n",
       "       'Perch', 'Perch', 'Perch', 'Perch', 'Perch', 'Perch', 'Perch',\n",
       "       'Perch', 'Perch', 'Perch', 'Perch', 'Perch', 'Perch', 'Perch',\n",
       "       'Perch', 'Perch', 'Perch', 'Perch', 'Perch', 'Perch', 'Perch',\n",
       "       'Perch', 'Perch', 'Perch', 'Perch', 'Perch', 'Perch', 'Perch',\n",
       "       'Perch', 'Perch', 'Perch', 'Perch', 'Perch', 'Perch', 'Perch',\n",
       "       'Perch', 'Perch', 'Perch', 'Pike', 'Pike', 'Pike', 'Pike', 'Pike',\n",
       "       'Pike', 'Pike', 'Pike', 'Pike', 'Pike', 'Pike', 'Pike', 'Pike',\n",
       "       'Pike', 'Pike', 'Pike', 'Pike', 'Smelt', 'Smelt', 'Smelt', 'Smelt',\n",
       "       'Smelt', 'Smelt', 'Smelt', 'Smelt', 'Smelt', 'Smelt', 'Smelt',\n",
       "       'Smelt', 'Perch', 'Smelt'], dtype='<U9')"
      ]
     },
     "execution_count": 41,
     "metadata": {},
     "output_type": "execute_result"
    }
   ],
   "source": [
    "sc.predict(input_scaled[ : ])"
   ]
  },
  {
   "cell_type": "code",
   "execution_count": 42,
   "id": "fef47538",
   "metadata": {},
   "outputs": [],
   "source": [
    "# --------- 내가 혼자 해본거 여기까지-----------------------------"
   ]
  },
  {
   "cell_type": "code",
   "execution_count": null,
   "id": "ee747f2c",
   "metadata": {},
   "outputs": [],
   "source": []
  }
 ],
 "metadata": {
  "kernelspec": {
   "display_name": "sejong_ml_kernel",
   "language": "python",
   "name": "sejong_ml"
  },
  "language_info": {
   "codemirror_mode": {
    "name": "ipython",
    "version": 3
   },
   "file_extension": ".py",
   "mimetype": "text/x-python",
   "name": "python",
   "nbconvert_exporter": "python",
   "pygments_lexer": "ipython3",
   "version": "3.9.16"
  }
 },
 "nbformat": 4,
 "nbformat_minor": 5
}
