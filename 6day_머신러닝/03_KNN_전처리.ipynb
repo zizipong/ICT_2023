{
 "cells": [
  {
   "cell_type": "code",
   "execution_count": 2,
   "id": "065beb7e",
   "metadata": {},
   "outputs": [],
   "source": [
    "fish_length = [25.4, 26.3, 26.5, 29.0, 29.0, 29.7, 29.7, 30.0, 30.0, 30.7, \n",
    "               31.0, 31.0, 31.5, 32.0, 32.0, 32.0, 33.0, 33.0, 33.5, 33.5, \n",
    "               34.0, 34.0, 34.5, 35.0, 35.0, 35.0, 35.0, 36.0, 36.0, 37.0, \n",
    "               38.5, 38.5, 39.5, 41.0, 41.0, 9.8, 10.5, 10.6, 11.0, 11.2, \n",
    "               11.3, 11.8, 11.8, 12.0, 12.2, 12.4, 13.0, 14.3, 15.0]\n",
    "\n",
    "fish_weight = [242.0, 290.0, 340.0, 363.0, 430.0, 450.0, 500.0, 390.0, 450.0, \n",
    "               500.0, 475.0, 500.0, 500.0, 340.0, 600.0, 600.0, 700.0, 700.0, \n",
    "               610.0, 650.0, 575.0, 685.0, 620.0, 680.0, 700.0, 725.0, 720.0, \n",
    "               714.0, 850.0, 1000.0, 920.0, 955.0, 925.0, 975.0, 950.0, 6.7, 7.5, \n",
    "               7.0, 9.7, 9.8, 8.7, 10.0, 9.9, 9.8, 12.2, 13.4, 12.2, 19.7, 19.9]"
   ]
  },
  {
   "cell_type": "code",
   "execution_count": 4,
   "id": "1f942046",
   "metadata": {},
   "outputs": [],
   "source": [
    "import numpy as np"
   ]
  },
  {
   "cell_type": "code",
   "execution_count": 5,
   "id": "4e1c14b1",
   "metadata": {},
   "outputs": [
    {
     "name": "stdout",
     "output_type": "stream",
     "text": [
      "49\n"
     ]
    }
   ],
   "source": [
    "# (방법2)\n",
    "fish_data = [[l, w] for l, w in zip(fish_length, fish_weight)]\n",
    "\n",
    "print(len(fish_data))"
   ]
  },
  {
   "cell_type": "code",
   "execution_count": 8,
   "id": "0a9b3ba9",
   "metadata": {},
   "outputs": [
    {
     "name": "stdout",
     "output_type": "stream",
     "text": [
      "49\n"
     ]
    }
   ],
   "source": [
    "fish_data = np.column_stack((fish_length, fish_weight))\n",
    "print(len(fish_data))"
   ]
  },
  {
   "cell_type": "code",
   "execution_count": 9,
   "id": "362bd0b5",
   "metadata": {},
   "outputs": [
    {
     "name": "stdout",
     "output_type": "stream",
     "text": [
      "49\n",
      "[1, 1, 1, 1, 1, 1, 1, 1, 1, 1, 1, 1, 1, 1, 1, 1, 1, 1, 1, 1, 1, 1, 1, 1, 1, 1, 1, 1, 1, 1, 1, 1, 1, 1, 1, 0, 0, 0, 0, 0, 0, 0, 0, 0, 0, 0, 0, 0, 0]\n"
     ]
    }
   ],
   "source": [
    "fish_target = [1] * 35 + [0] * 14\n",
    "print(len(fish_target))\n",
    "print(fish_target)"
   ]
  },
  {
   "cell_type": "code",
   "execution_count": 10,
   "id": "e7f07565",
   "metadata": {},
   "outputs": [
    {
     "name": "stdout",
     "output_type": "stream",
     "text": [
      "49\n",
      "[1. 1. 1. 1. 1. 1. 1. 1. 1. 1. 1. 1. 1. 1. 1. 1. 1. 1. 1. 1. 1. 1. 1. 1.\n",
      " 1. 1. 1. 1. 1. 1. 1. 1. 1. 1. 1. 0. 0. 0. 0. 0. 0. 0. 0. 0. 0. 0. 0. 0.\n",
      " 0.]\n"
     ]
    }
   ],
   "source": [
    "# 넘파이로 만드는 방식\n",
    "fish_target = np.concatenate((np.ones(35), np.zeros(14)))\n",
    "print(len(fish_target))\n",
    "print(fish_target)"
   ]
  },
  {
   "cell_type": "markdown",
   "id": "ceb064aa",
   "metadata": {},
   "source": [
    "### 훈련 및 테스트 데이터 분리하기\n",
    "##### - 데이터 분리와 섞는 작업을 동시에 진행"
   ]
  },
  {
   "cell_type": "code",
   "execution_count": 11,
   "id": "d831b845",
   "metadata": {},
   "outputs": [],
   "source": [
    "### 사이킷런 패키지 중에 훈련 및 테스트 데이터 분리 함수 사용\n",
    "from sklearn.model_selection import train_test_split"
   ]
  },
  {
   "cell_type": "code",
   "execution_count": 16,
   "id": "ba353a2e",
   "metadata": {},
   "outputs": [],
   "source": [
    "### train_test_split()\n",
    "# - 첫번째 값 : 독립변수 데이터셋\n",
    "# - 두번째 값 : 종속변수 데이터셋\n",
    "# - test_size : train 및 test 로 분류할 비율\n",
    "#               테스트사이즈의 비율을 25%로, 훈련은 75%로가 됨\n",
    "# - random_state : 랜덤하게 섞기 위한 규칙값\n",
    "train_input, test_input, train_target, test_target = train_test_split(fish_data, fish_target, test_size=0.25, random_state=42)"
   ]
  },
  {
   "cell_type": "code",
   "execution_count": 17,
   "id": "c1a2f8fa",
   "metadata": {},
   "outputs": [
    {
     "name": "stdout",
     "output_type": "stream",
     "text": [
      "(36, 2) (36,)\n"
     ]
    }
   ],
   "source": [
    "### 훈련데이터 차원확인\n",
    "print(train_input.shape, train_target.shape)"
   ]
  },
  {
   "cell_type": "code",
   "execution_count": 18,
   "id": "f1782af8",
   "metadata": {},
   "outputs": [
    {
     "name": "stdout",
     "output_type": "stream",
     "text": [
      "(13, 2) (13,)\n"
     ]
    }
   ],
   "source": [
    "### 테스트데이터 차원확인\n",
    "print(test_input.shape, test_target.shape)"
   ]
  },
  {
   "cell_type": "code",
   "execution_count": 21,
   "id": "22c6bd29",
   "metadata": {},
   "outputs": [
    {
     "data": {
      "text/plain": [
       "array([1., 0., 0., 0., 1., 1., 1., 1., 1., 1., 1., 1., 1.])"
      ]
     },
     "execution_count": 21,
     "metadata": {},
     "output_type": "execute_result"
    }
   ],
   "source": [
    "### 데이터의 편향 확인 : 종속데이터로 확인하면 됨\n",
    "test_target\n",
    "#train_target\n",
    "# (해석)\n",
    "# - 1번(도미) 데이터로 집중되는 편향을 보임\n",
    "# - 이에 대한 편향 해소가 필요함"
   ]
  },
  {
   "cell_type": "code",
   "execution_count": 27,
   "id": "cba7dffb",
   "metadata": {},
   "outputs": [],
   "source": [
    "### stratify \n",
    "# - 편향성을 개선하는데 사용하는 속성\n",
    "# - 값은 종속변수(target) 값을 사용함\n",
    "# - target 데이터의 범주의 비율을 고려하여 분류 시킴\n",
    "\n",
    "train_input, test_input, train_target, test_target = \\\n",
    "              train_test_split(fish_data, fish_target, \n",
    "                               stratify = fish_target,\n",
    "                               test_size=0.25, random_state=42)"
   ]
  },
  {
   "cell_type": "code",
   "execution_count": 24,
   "id": "9e8ab5e5",
   "metadata": {},
   "outputs": [
    {
     "name": "stdout",
     "output_type": "stream",
     "text": [
      "(36, 2) (36,)\n"
     ]
    }
   ],
   "source": [
    "### 훈련데이터 차원확인\n",
    "print(train_input.shape, train_target.shape)"
   ]
  },
  {
   "cell_type": "code",
   "execution_count": 25,
   "id": "c7e3ec8f",
   "metadata": {},
   "outputs": [
    {
     "name": "stdout",
     "output_type": "stream",
     "text": [
      "(13, 2) (13,)\n"
     ]
    }
   ],
   "source": [
    "### 테스트데이터 차원확인\n",
    "print(test_input.shape, test_target.shape)"
   ]
  },
  {
   "cell_type": "code",
   "execution_count": 28,
   "id": "0e97e44f",
   "metadata": {},
   "outputs": [
    {
     "data": {
      "text/plain": [
       "array([0., 0., 1., 0., 1., 0., 1., 1., 1., 1., 1., 1., 1.])"
      ]
     },
     "execution_count": 28,
     "metadata": {},
     "output_type": "execute_result"
    }
   ],
   "source": [
    "test_target"
   ]
  },
  {
   "cell_type": "code",
   "execution_count": 29,
   "id": "1d57c0b0",
   "metadata": {},
   "outputs": [
    {
     "data": {
      "text/plain": [
       "array([1., 0., 1., 0., 1., 1., 1., 1., 1., 1., 1., 0., 1., 0., 1., 1., 1.,\n",
       "       1., 1., 0., 1., 1., 0., 1., 0., 1., 0., 1., 1., 1., 0., 1., 1., 0.,\n",
       "       1., 1.])"
      ]
     },
     "execution_count": 29,
     "metadata": {},
     "output_type": "execute_result"
    }
   ],
   "source": [
    "train_target"
   ]
  },
  {
   "cell_type": "markdown",
   "id": "7d0074f0",
   "metadata": {},
   "source": [
    "### 임의의 데이터 예측(분류)하기"
   ]
  },
  {
   "cell_type": "code",
   "execution_count": null,
   "id": "b5164545",
   "metadata": {},
   "outputs": [],
   "source": [
    "### 임의 데이터\n",
    "# - 길이는 25cm,\n",
    "# - 무게는 150g\n",
    "# 어떤 생선일까?"
   ]
  },
  {
   "cell_type": "code",
   "execution_count": 37,
   "id": "cae9fb89",
   "metadata": {},
   "outputs": [
    {
     "data": {
      "image/png": "[encoded data removed]",
      "text/plain": [
       "<Figure size 640x480 with 1 Axes>"
      ]
     },
     "metadata": {},
     "output_type": "display_data"
    }
   ],
   "source": [
    "### train, 임의데이터를 산점도로 그리기\n",
    "\n",
    "import matplotlib.pyplot as plt\n",
    "\n",
    "### 산점도(scatter) 시각화 그리기\n",
    "# - 훈련데이터 \n",
    "plt.scatter(train_input[:, 0], train_input[:, 1], c=\"red\", label=\"train\")\n",
    "# - 테스트 데이터\n",
    "#plt.scatter(test_input[:, 0], test_input[:, 1], c=\"blue\", label=\"test\")\n",
    "# - 임의 생선 한개 추가\n",
    "plt.scatter(25, 150, c=\"green\", label=\"exe\", marker=\"^\") \n",
    "\n",
    "plt.xlabel(\"length\")\n",
    "plt.ylabel(\"weight\")\n",
    "\n",
    "# - 범주 추가\n",
    "plt.legend()\n",
    "\n",
    "plt.show()"
   ]
  },
  {
   "cell_type": "code",
   "execution_count": 32,
   "id": "cdd135ec",
   "metadata": {},
   "outputs": [],
   "source": [
    "### 패키지 import\n",
    "from sklearn.neighbors import KNeighborsClassifier"
   ]
  },
  {
   "cell_type": "code",
   "execution_count": 34,
   "id": "a91ccfff",
   "metadata": {},
   "outputs": [
    {
     "data": {
      "text/html": [
       "<style>#sk-container-id-2 {color: black;background-color: white;}#sk-container-id-2 pre{padding: 0;}#sk-container-id-2 div.sk-toggleable {background-color: white;}#sk-container-id-2 label.sk-toggleable__label {cursor: pointer;display: block;width: 100%;margin-bottom: 0;padding: 0.3em;box-sizing: border-box;text-align: center;}#sk-container-id-2 label.sk-toggleable__label-arrow:before {content: \"▸\";float: left;margin-right: 0.25em;color: #696969;}#sk-container-id-2 label.sk-toggleable__label-arrow:hover:before {color: black;}#sk-container-id-2 div.sk-estimator:hover label.sk-toggleable__label-arrow:before {color: black;}#sk-container-id-2 div.sk-toggleable__content {max-height: 0;max-width: 0;overflow: hidden;text-align: left;background-color: #f0f8ff;}#sk-container-id-2 div.sk-toggleable__content pre {margin: 0.2em;color: black;border-radius: 0.25em;background-color: #f0f8ff;}#sk-container-id-2 input.sk-toggleable__control:checked~div.sk-toggleable__content {max-height: 200px;max-width: 100%;overflow: auto;}#sk-container-id-2 input.sk-toggleable__control:checked~label.sk-toggleable__label-arrow:before {content: \"▾\";}#sk-container-id-2 div.sk-estimator input.sk-toggleable__control:checked~label.sk-toggleable__label {background-color: #d4ebff;}#sk-container-id-2 div.sk-label input.sk-toggleable__control:checked~label.sk-toggleable__label {background-color: #d4ebff;}#sk-container-id-2 input.sk-hidden--visually {border: 0;clip: rect(1px 1px 1px 1px);clip: rect(1px, 1px, 1px, 1px);height: 1px;margin: -1px;overflow: hidden;padding: 0;position: absolute;width: 1px;}#sk-container-id-2 div.sk-estimator {font-family: monospace;background-color: #f0f8ff;border: 1px dotted black;border-radius: 0.25em;box-sizing: border-box;margin-bottom: 0.5em;}#sk-container-id-2 div.sk-estimator:hover {background-color: #d4ebff;}#sk-container-id-2 div.sk-parallel-item::after {content: \"\";width: 100%;border-bottom: 1px solid gray;flex-grow: 1;}#sk-container-id-2 div.sk-label:hover label.sk-toggleable__label {background-color: #d4ebff;}#sk-container-id-2 div.sk-serial::before {content: \"\";position: absolute;border-left: 1px solid gray;box-sizing: border-box;top: 0;bottom: 0;left: 50%;z-index: 0;}#sk-container-id-2 div.sk-serial {display: flex;flex-direction: column;align-items: center;background-color: white;padding-right: 0.2em;padding-left: 0.2em;position: relative;}#sk-container-id-2 div.sk-item {position: relative;z-index: 1;}#sk-container-id-2 div.sk-parallel {display: flex;align-items: stretch;justify-content: center;background-color: white;position: relative;}#sk-container-id-2 div.sk-item::before, #sk-container-id-2 div.sk-parallel-item::before {content: \"\";position: absolute;border-left: 1px solid gray;box-sizing: border-box;top: 0;bottom: 0;left: 50%;z-index: -1;}#sk-container-id-2 div.sk-parallel-item {display: flex;flex-direction: column;z-index: 1;position: relative;background-color: white;}#sk-container-id-2 div.sk-parallel-item:first-child::after {align-self: flex-end;width: 50%;}#sk-container-id-2 div.sk-parallel-item:last-child::after {align-self: flex-start;width: 50%;}#sk-container-id-2 div.sk-parallel-item:only-child::after {width: 0;}#sk-container-id-2 div.sk-dashed-wrapped {border: 1px dashed gray;margin: 0 0.4em 0.5em 0.4em;box-sizing: border-box;padding-bottom: 0.4em;background-color: white;}#sk-container-id-2 div.sk-label label {font-family: monospace;font-weight: bold;display: inline-block;line-height: 1.2em;}#sk-container-id-2 div.sk-label-container {text-align: center;}#sk-container-id-2 div.sk-container {/* jupyter's `normalize.less` sets `[hidden] { display: none; }` but bootstrap.min.css set `[hidden] { display: none !important; }` so we also need the `!important` here to be able to override the default hidden behavior on the sphinx rendered scikit-learn.org. See: https://github.com/scikit-learn/scikit-learn/issues/21755 */display: inline-block !important;position: relative;}#sk-container-id-2 div.sk-text-repr-fallback {display: none;}</style><div id=\"sk-container-id-2\" class=\"sk-top-container\"><div class=\"sk-text-repr-fallback\"><pre>KNeighborsClassifier()</pre><b>In a Jupyter environment, please rerun this cell to show the HTML representation or trust the notebook. <br />On GitHub, the HTML representation is unable to render, please try loading this page with nbviewer.org.</b></div><div class=\"sk-container\" hidden><div class=\"sk-item\"><div class=\"sk-estimator sk-toggleable\"><input class=\"sk-toggleable__control sk-hidden--visually\" id=\"sk-estimator-id-2\" type=\"checkbox\" checked><label for=\"sk-estimator-id-2\" class=\"sk-toggleable__label sk-toggleable__label-arrow\">KNeighborsClassifier</label><div class=\"sk-toggleable__content\"><pre>KNeighborsClassifier()</pre></div></div></div></div></div>"
      ],
      "text/plain": [
       "KNeighborsClassifier()"
      ]
     },
     "execution_count": 34,
     "metadata": {},
     "output_type": "execute_result"
    }
   ],
   "source": [
    "### 훈련시키기 (훈련데이터 사용), 이웃갯수는 기본값(5)\n",
    "kn = KNeighborsClassifier()\n",
    "kn.fit(train_input, train_target)"
   ]
  },
  {
   "cell_type": "code",
   "execution_count": 35,
   "id": "7db92f75",
   "metadata": {},
   "outputs": [
    {
     "data": {
      "text/plain": [
       "1.0"
      ]
     },
     "execution_count": 35,
     "metadata": {},
     "output_type": "execute_result"
    }
   ],
   "source": [
    "### 정확도 확인 (테스트 데이터)\n",
    "kn.score(test_input, test_target)"
   ]
  },
  {
   "cell_type": "code",
   "execution_count": 36,
   "id": "b5347d82",
   "metadata": {},
   "outputs": [
    {
     "data": {
      "text/plain": [
       "array([0.])"
      ]
     },
     "execution_count": 36,
     "metadata": {},
     "output_type": "execute_result"
    }
   ],
   "source": [
    "### 예측하기 (임의 데이터)\n",
    "kn.predict([[25, 150]]) \n",
    "\n",
    "### 해석 :  0은 빙어를 의미함"
   ]
  },
  {
   "cell_type": "code",
   "execution_count": 41,
   "id": "69ad195a",
   "metadata": {},
   "outputs": [
    {
     "name": "stdout",
     "output_type": "stream",
     "text": [
      "[[ 92.00086956 130.48375378 130.73859415 138.32150953 138.39320793]] [[21 33 19 30  1]]\n"
     ]
    }
   ],
   "source": [
    "### 사용된 이웃 확인하기 \n",
    "# distances : 이웃에 사용된 특성 까지의 거리\n",
    "# indexs : 이웃에 사용된 독립변수의 인덱스 위치 값\n",
    "distances, indexs = kn.kneighbors([[25,150]])\n",
    "print(distances, indexs)"
   ]
  },
  {
   "cell_type": "code",
   "execution_count": 42,
   "id": "fa55305e",
   "metadata": {},
   "outputs": [
    {
     "data": {
      "image/png": "[encoded data removed]",
      "text/plain": [
       "<Figure size 640x480 with 1 Axes>"
      ]
     },
     "metadata": {},
     "output_type": "display_data"
    }
   ],
   "source": [
    "### train, 임의데이터를 산점도로 그리기\n",
    "\n",
    "import matplotlib.pyplot as plt\n",
    "\n",
    "### 산점도(scatter) 시각화 그리기\n",
    "# - 훈련데이터 \n",
    "plt.scatter(train_input[:, 0], train_input[:, 1], c=\"red\", label=\"train\") \n",
    "\n",
    "# - 임의 생선 한개 추가\n",
    "plt.scatter(25, 150, c=\"green\", label=\"exe\", marker=\"^\") \n",
    "\n",
    "# - 이웃의 특성\n",
    "plt.scatter(train_input[indexs, 0], train_input[indexs, 1], c=\"blue\", label=\"neb\", marker=\"D\") \n",
    "\n",
    "plt.xlabel(\"length\")\n",
    "plt.ylabel(\"weight\")\n",
    "\n",
    "# - 범주 추가\n",
    "plt.legend()\n",
    "\n",
    "plt.show()"
   ]
  },
  {
   "cell_type": "code",
   "execution_count": 43,
   "id": "c559ef14",
   "metadata": {},
   "outputs": [
    {
     "data": {
      "text/plain": [
       "array([[1., 0., 0., 0., 0.]])"
      ]
     },
     "execution_count": 43,
     "metadata": {},
     "output_type": "execute_result"
    }
   ],
   "source": [
    "train_target[indexs]"
   ]
  },
  {
   "cell_type": "markdown",
   "id": "56587e4d",
   "metadata": {},
   "source": [
    "### x축과 y축의 범위 단위가 크게 차이남\n",
    "##### - x축과 y축의 범위를 동일하게 한 후 확인"
   ]
  },
  {
   "cell_type": "code",
   "execution_count": 45,
   "id": "bdf843b2",
   "metadata": {},
   "outputs": [
    {
     "data": {
      "image/png": "[encoded data removed]",
      "text/plain": [
       "<Figure size 640x480 with 1 Axes>"
      ]
     },
     "metadata": {},
     "output_type": "display_data"
    }
   ],
   "source": [
    "### train, 임의데이터를 산점도로 그리기\n",
    "\n",
    "import matplotlib.pyplot as plt\n",
    "\n",
    "### 산점도(scatter) 시각화 그리기\n",
    "# - 훈련데이터 \n",
    "plt.scatter(train_input[:, 0], train_input[:, 1], c=\"red\", label=\"train\") \n",
    "\n",
    "# - 임의 생선 한개 추가\n",
    "plt.scatter(25, 150, c=\"green\", label=\"exe\", marker=\"^\") \n",
    "\n",
    "# - 이웃의 특성\n",
    "plt.scatter(train_input[indexs, 0], train_input[indexs, 1], c=\"blue\", label=\"neb\", marker=\"D\") \n",
    "\n",
    "\n",
    "### - x축의 값의 범위를 y축과 동일하게 처리\n",
    "plt.xlim(0, 1000)\n",
    "\n",
    "plt.xlabel(\"length\")\n",
    "plt.ylabel(\"weight\")\n",
    "\n",
    "# - 범주 추가\n",
    "plt.legend()\n",
    "\n",
    "plt.show()"
   ]
  },
  {
   "cell_type": "markdown",
   "id": "d3db9bf2",
   "metadata": {},
   "source": [
    "### 스케일 맞추기 : 정규화(표준화) 라고 칭함"
   ]
  },
  {
   "cell_type": "code",
   "execution_count": null,
   "id": "10320eb4",
   "metadata": {},
   "outputs": [],
   "source": [
    "### 정규화 : 표준점수(standard score)를 사용\n",
    "# - 표준점수 : 각 데이터가 원점(0)에서 몇 표준편차 만큼 떨어져\n",
    "#              있는지를 나타냄\n",
    "# - 표준점수 = (각 데이터 - 데이터셋 전체평균) / 데이터셋 전체 표준편차\n",
    "# - 평균 및 표준편차는 numpy 의 함수 사용"
   ]
  },
  {
   "cell_type": "code",
   "execution_count": 46,
   "id": "5363611c",
   "metadata": {},
   "outputs": [
    {
     "data": {
      "text/plain": [
       "array([ 27.29722222, 454.09722222])"
      ]
     },
     "execution_count": 46,
     "metadata": {},
     "output_type": "execute_result"
    }
   ],
   "source": [
    "### 길이와 무게 각각에 대한 전체 평균 구하기\n",
    "# axis = 0 : 행단위, axis = 1 : 열단위\n",
    "mean = np.mean(train_input, axis = 0)\n",
    "mean"
   ]
  },
  {
   "cell_type": "code",
   "execution_count": 47,
   "id": "6acdc1df",
   "metadata": {},
   "outputs": [
    {
     "data": {
      "text/plain": [
       "array([  9.98244253, 323.29893931])"
      ]
     },
     "execution_count": 47,
     "metadata": {},
     "output_type": "execute_result"
    }
   ],
   "source": [
    "### 길이와 무게 각각에 대한 전체 표준편차 구하기\n",
    "std = np.std(train_input, axis = 0)\n",
    "std"
   ]
  },
  {
   "cell_type": "code",
   "execution_count": 48,
   "id": "511a7213",
   "metadata": {},
   "outputs": [
    {
     "data": {
      "text/plain": [
       "array([[ 0.24070039,  0.14198246],\n",
       "       [-1.51237757, -1.36683783],\n",
       "       [ 0.5712808 ,  0.76060496],\n",
       "       [-1.60253587, -1.37766373],\n",
       "       [ 1.22242404,  1.45655528],\n",
       "       [ 0.17057727, -0.07453542],\n",
       "       [ 0.87180845,  0.80390854],\n",
       "       [ 0.87180845,  1.22457184],\n",
       "       [ 0.37092904,  0.06465464],\n",
       "       [ 0.77163257,  0.82246721],\n",
       "       [ 0.97198434,  1.68853872],\n",
       "       [-1.61255346, -1.3742613 ],\n",
       "       [ 0.72154463,  0.51315596],\n",
       "       [-1.53241275, -1.3742613 ],\n",
       "       [ 0.17057727, -0.28177396],\n",
       "       [ 0.5712808 ,  0.76060496],\n",
       "       [ 0.34087627,  0.14198246],\n",
       "       [ 1.12224816,  1.54934866],\n",
       "       [ 0.62136874,  0.60594934],\n",
       "       [-1.30200822, -1.34363949],\n",
       "       [ 0.42101698,  0.14198246],\n",
       "       [-0.19005591, -0.65604058],\n",
       "       [-1.75279969, -1.38384995],\n",
       "       [ 0.47110492,  0.45129371],\n",
       "       [-1.68267658, -1.38137546],\n",
       "       [ 0.62136874,  0.48222484],\n",
       "       [-1.67265899, -1.38292202],\n",
       "       [ 0.77163257,  0.76060496],\n",
       "       [ 0.47110492,  0.45129371],\n",
       "       [ 0.77163257,  0.83793278],\n",
       "       [-1.43223687, -1.36683783],\n",
       "       [ 0.27075315, -0.01267317],\n",
       "       [ 0.47110492, -0.35291555],\n",
       "       [-1.2318851 , -1.34302087],\n",
       "       [ 0.27075315, -0.19825992],\n",
       "       [ 1.37268787,  1.61121091]])"
      ]
     },
     "execution_count": 48,
     "metadata": {},
     "output_type": "execute_result"
    }
   ],
   "source": [
    "### 표준점수 계산하기\n",
    "train_scaled = (train_input - mean) / std\n",
    "train_scaled"
   ]
  },
  {
   "cell_type": "code",
   "execution_count": 50,
   "id": "87af2a7e",
   "metadata": {},
   "outputs": [
    {
     "data": {
      "image/png": "[encoded data removed]",
      "text/plain": [
       "<Figure size 640x480 with 1 Axes>"
      ]
     },
     "metadata": {},
     "output_type": "display_data"
    }
   ],
   "source": [
    "### train, 임의데이터를 산점도로 그리기\n",
    "\n",
    "import matplotlib.pyplot as plt\n",
    "\n",
    "### 산점도(scatter) 시각화 그리기\n",
    "# - 훈련데이터 \n",
    "plt.scatter(train_scaled[:, 0], train_scaled[:, 1], c=\"red\", label=\"train\") \n",
    "\n",
    "# - 임의 생선 한개 추가\n",
    "plt.scatter(25, 150, c=\"green\", label=\"exe\", marker=\"^\") \n",
    "\n",
    "plt.xlabel(\"length\")\n",
    "plt.ylabel(\"weight\")\n",
    "\n",
    "# - 범주 추가\n",
    "plt.legend()\n",
    "\n",
    "plt.show()"
   ]
  },
  {
   "cell_type": "code",
   "execution_count": 51,
   "id": "43aaad7f",
   "metadata": {},
   "outputs": [
    {
     "data": {
      "text/plain": [
       "array([-0.23012627, -0.94060693])"
      ]
     },
     "execution_count": 51,
     "metadata": {},
     "output_type": "execute_result"
    }
   ],
   "source": [
    "### 임의 데이터도 표준화 시키기\n",
    "# - 훈련데이터 표준화가 진행되면\n",
    "# - 임의 데이터 및 테스트 데이터도 표준화 해야함\n",
    "new = ([25, 150] - mean) / std\n",
    "new"
   ]
  },
  {
   "cell_type": "code",
   "execution_count": 52,
   "id": "e6197853",
   "metadata": {},
   "outputs": [
    {
     "data": {
      "image/png": "[encoded data removed]",
      "text/plain": [
       "<Figure size 640x480 with 1 Axes>"
      ]
     },
     "metadata": {},
     "output_type": "display_data"
    }
   ],
   "source": [
    "### train, 임의데이터를 산점도로 그리기\n",
    "\n",
    "import matplotlib.pyplot as plt\n",
    "\n",
    "### 산점도(scatter) 시각화 그리기\n",
    "# - 훈련데이터 \n",
    "plt.scatter(train_scaled[:, 0], train_scaled[:, 1], c=\"red\", label=\"train\") \n",
    "\n",
    "# - 임의 생선 한개 추가\n",
    "plt.scatter(new[0], new[1], c=\"green\", label=\"exe\", marker=\"^\") \n",
    "\n",
    "plt.xlabel(\"length\")\n",
    "plt.ylabel(\"weight\")\n",
    "\n",
    "# - 범주 추가\n",
    "plt.legend()\n",
    "\n",
    "plt.show()"
   ]
  },
  {
   "cell_type": "code",
   "execution_count": 57,
   "id": "2d7832d1",
   "metadata": {},
   "outputs": [
    {
     "data": {
      "text/html": [
       "<style>#sk-container-id-4 {color: black;background-color: white;}#sk-container-id-4 pre{padding: 0;}#sk-container-id-4 div.sk-toggleable {background-color: white;}#sk-container-id-4 label.sk-toggleable__label {cursor: pointer;display: block;width: 100%;margin-bottom: 0;padding: 0.3em;box-sizing: border-box;text-align: center;}#sk-container-id-4 label.sk-toggleable__label-arrow:before {content: \"▸\";float: left;margin-right: 0.25em;color: #696969;}#sk-container-id-4 label.sk-toggleable__label-arrow:hover:before {color: black;}#sk-container-id-4 div.sk-estimator:hover label.sk-toggleable__label-arrow:before {color: black;}#sk-container-id-4 div.sk-toggleable__content {max-height: 0;max-width: 0;overflow: hidden;text-align: left;background-color: #f0f8ff;}#sk-container-id-4 div.sk-toggleable__content pre {margin: 0.2em;color: black;border-radius: 0.25em;background-color: #f0f8ff;}#sk-container-id-4 input.sk-toggleable__control:checked~div.sk-toggleable__content {max-height: 200px;max-width: 100%;overflow: auto;}#sk-container-id-4 input.sk-toggleable__control:checked~label.sk-toggleable__label-arrow:before {content: \"▾\";}#sk-container-id-4 div.sk-estimator input.sk-toggleable__control:checked~label.sk-toggleable__label {background-color: #d4ebff;}#sk-container-id-4 div.sk-label input.sk-toggleable__control:checked~label.sk-toggleable__label {background-color: #d4ebff;}#sk-container-id-4 input.sk-hidden--visually {border: 0;clip: rect(1px 1px 1px 1px);clip: rect(1px, 1px, 1px, 1px);height: 1px;margin: -1px;overflow: hidden;padding: 0;position: absolute;width: 1px;}#sk-container-id-4 div.sk-estimator {font-family: monospace;background-color: #f0f8ff;border: 1px dotted black;border-radius: 0.25em;box-sizing: border-box;margin-bottom: 0.5em;}#sk-container-id-4 div.sk-estimator:hover {background-color: #d4ebff;}#sk-container-id-4 div.sk-parallel-item::after {content: \"\";width: 100%;border-bottom: 1px solid gray;flex-grow: 1;}#sk-container-id-4 div.sk-label:hover label.sk-toggleable__label {background-color: #d4ebff;}#sk-container-id-4 div.sk-serial::before {content: \"\";position: absolute;border-left: 1px solid gray;box-sizing: border-box;top: 0;bottom: 0;left: 50%;z-index: 0;}#sk-container-id-4 div.sk-serial {display: flex;flex-direction: column;align-items: center;background-color: white;padding-right: 0.2em;padding-left: 0.2em;position: relative;}#sk-container-id-4 div.sk-item {position: relative;z-index: 1;}#sk-container-id-4 div.sk-parallel {display: flex;align-items: stretch;justify-content: center;background-color: white;position: relative;}#sk-container-id-4 div.sk-item::before, #sk-container-id-4 div.sk-parallel-item::before {content: \"\";position: absolute;border-left: 1px solid gray;box-sizing: border-box;top: 0;bottom: 0;left: 50%;z-index: -1;}#sk-container-id-4 div.sk-parallel-item {display: flex;flex-direction: column;z-index: 1;position: relative;background-color: white;}#sk-container-id-4 div.sk-parallel-item:first-child::after {align-self: flex-end;width: 50%;}#sk-container-id-4 div.sk-parallel-item:last-child::after {align-self: flex-start;width: 50%;}#sk-container-id-4 div.sk-parallel-item:only-child::after {width: 0;}#sk-container-id-4 div.sk-dashed-wrapped {border: 1px dashed gray;margin: 0 0.4em 0.5em 0.4em;box-sizing: border-box;padding-bottom: 0.4em;background-color: white;}#sk-container-id-4 div.sk-label label {font-family: monospace;font-weight: bold;display: inline-block;line-height: 1.2em;}#sk-container-id-4 div.sk-label-container {text-align: center;}#sk-container-id-4 div.sk-container {/* jupyter's `normalize.less` sets `[hidden] { display: none; }` but bootstrap.min.css set `[hidden] { display: none !important; }` so we also need the `!important` here to be able to override the default hidden behavior on the sphinx rendered scikit-learn.org. See: https://github.com/scikit-learn/scikit-learn/issues/21755 */display: inline-block !important;position: relative;}#sk-container-id-4 div.sk-text-repr-fallback {display: none;}</style><div id=\"sk-container-id-4\" class=\"sk-top-container\"><div class=\"sk-text-repr-fallback\"><pre>KNeighborsClassifier()</pre><b>In a Jupyter environment, please rerun this cell to show the HTML representation or trust the notebook. <br />On GitHub, the HTML representation is unable to render, please try loading this page with nbviewer.org.</b></div><div class=\"sk-container\" hidden><div class=\"sk-item\"><div class=\"sk-estimator sk-toggleable\"><input class=\"sk-toggleable__control sk-hidden--visually\" id=\"sk-estimator-id-4\" type=\"checkbox\" checked><label for=\"sk-estimator-id-4\" class=\"sk-toggleable__label sk-toggleable__label-arrow\">KNeighborsClassifier</label><div class=\"sk-toggleable__content\"><pre>KNeighborsClassifier()</pre></div></div></div></div></div>"
      ],
      "text/plain": [
       "KNeighborsClassifier()"
      ]
     },
     "execution_count": 57,
     "metadata": {},
     "output_type": "execute_result"
    }
   ],
   "source": [
    "### 훈련/정확도/예측하기\n",
    "# - 훈련 시키기 \n",
    "kn.fit(train_scaled, train_target)"
   ]
  },
  {
   "cell_type": "code",
   "execution_count": 58,
   "id": "5441e3bb",
   "metadata": {},
   "outputs": [
    {
     "data": {
      "text/plain": [
       "1.0"
      ]
     },
     "execution_count": 58,
     "metadata": {},
     "output_type": "execute_result"
    }
   ],
   "source": [
    "### 정확도 확인\n",
    "# - 테스트 데이터 정규화해서 사용\n",
    "test_scaled = (test_input - mean) / std\n",
    "kn.score(test_scaled, test_target)"
   ]
  },
  {
   "cell_type": "code",
   "execution_count": 60,
   "id": "b01b50ca",
   "metadata": {},
   "outputs": [
    {
     "data": {
      "text/plain": [
       "array([1.])"
      ]
     },
     "execution_count": 60,
     "metadata": {},
     "output_type": "execute_result"
    }
   ],
   "source": [
    "### 예측(분류)하기\n",
    "kn.predict([new])"
   ]
  },
  {
   "cell_type": "code",
   "execution_count": 67,
   "id": "6c170108",
   "metadata": {},
   "outputs": [
    {
     "data": {
      "text/plain": [
       "array([[21, 14, 34, 32,  5]], dtype=int64)"
      ]
     },
     "execution_count": 67,
     "metadata": {},
     "output_type": "execute_result"
    }
   ],
   "source": [
    "### 사용된 이웃 확인하기 \n",
    "# distances : 이웃에 사용된 특성 까지의 거리\n",
    "# indexs : 이웃에 사용된 독립변수의 인덱스 위치 값\n",
    "distances, indexs = kn.kneighbors([new])\n",
    "indexs"
   ]
  },
  {
   "cell_type": "code",
   "execution_count": 66,
   "id": "466b023c",
   "metadata": {},
   "outputs": [
    {
     "data": {
      "image/png": "[encoded data removed]",
      "text/plain": [
       "<Figure size 640x480 with 1 Axes>"
      ]
     },
     "metadata": {},
     "output_type": "display_data"
    }
   ],
   "source": [
    "### train, 임의데이터를 산점도로 그리기\n",
    "\n",
    "import matplotlib.pyplot as plt\n",
    "\n",
    "### 산점도(scatter) 시각화 그리기\n",
    "# - 훈련데이터 \n",
    "plt.scatter(train_scaled[:, 0], train_scaled[:, 1], c=\"red\", label=\"train\") \n",
    "\n",
    "# - 임의 생선 한개 추가\n",
    "plt.scatter(new[0], new[1], c=\"green\", label=\"exe\", marker=\"^\") \n",
    "\n",
    "# - 이웃의 특성\n",
    "plt.scatter(train_scaled[indexs, 0], train_scaled[indexs, 1], c=\"blue\", label=\"neb\", marker=\"D\") \n",
    "\n",
    "\n",
    "plt.xlabel(\"length\")\n",
    "plt.ylabel(\"weight\")\n",
    "\n",
    "# - 범주 추가\n",
    "plt.legend()\n",
    "\n",
    "plt.show()"
   ]
  },
  {
   "cell_type": "code",
   "execution_count": null,
   "id": "9bb6d8a9",
   "metadata": {},
   "outputs": [],
   "source": []
  },
  {
   "cell_type": "code",
   "execution_count": null,
   "id": "ed1a192b",
   "metadata": {},
   "outputs": [],
   "source": []
  },
  {
   "cell_type": "code",
   "execution_count": null,
   "id": "e9404b2a",
   "metadata": {},
   "outputs": [],
   "source": []
  },
  {
   "cell_type": "code",
   "execution_count": null,
   "id": "99508c99",
   "metadata": {},
   "outputs": [],
   "source": []
  }
 ],
 "metadata": {
  "kernelspec": {
   "display_name": "sejong_ml_kernel",
   "language": "python",
   "name": "sejong_ml"
  },
  "language_info": {
   "codemirror_mode": {
    "name": "ipython",
    "version": 3
   },
   "file_extension": ".py",
   "mimetype": "text/x-python",
   "name": "python",
   "nbconvert_exporter": "python",
   "pygments_lexer": "ipython3",
   "version": "3.9.16"
  }
 },
 "nbformat": 4,
 "nbformat_minor": 5
}
