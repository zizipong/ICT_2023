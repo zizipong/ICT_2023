{
 "cells": [
  {
   "cell_type": "markdown",
   "id": "a6e03392",
   "metadata": {},
   "source": [
    "# 1. 사용법\n",
    "### - 제목 : 영문자 m 을 클릭하여 주석달기\n",
    "###              영문자 y 를 클릭하여 코드창으로 변환"
   ]
  },
  {
   "cell_type": "code",
   "execution_count": 5,
   "id": "1663239c",
   "metadata": {},
   "outputs": [
    {
     "data": {
      "text/plain": [
       "11"
      ]
     },
     "execution_count": 5,
     "metadata": {},
     "output_type": "execute_result"
    }
   ],
   "source": [
    "# 주석\n",
    "a = 1\n",
    "b = 10\n",
    "a+b"
   ]
  },
  {
   "cell_type": "code",
   "execution_count": 4,
   "id": "a055dfd3",
   "metadata": {},
   "outputs": [
    {
     "name": "stdout",
     "output_type": "stream",
     "text": [
      "Hello Python\n"
     ]
    }
   ],
   "source": [
    "print(\"Hello Python\")"
   ]
  },
  {
   "cell_type": "code",
   "execution_count": 3,
   "id": "114823cb",
   "metadata": {},
   "outputs": [
    {
     "name": "stdout",
     "output_type": "stream",
     "text": [
      "Hello Python2\n"
     ]
    }
   ],
   "source": [
    "print(\"Hello Python2\")"
   ]
  }
 ],
 "metadata": {
  "kernelspec": {
   "display_name": "sejong_ml_kernel",
   "language": "python",
   "name": "sejong_ml"
  },
  "language_info": {
   "codemirror_mode": {
    "name": "ipython",
    "version": 3
   },
   "file_extension": ".py",
   "mimetype": "text/x-python",
   "name": "python",
   "nbconvert_exporter": "python",
   "pygments_lexer": "ipython3",
   "version": "3.9.16"
  }
 },
 "nbformat": 4,
 "nbformat_minor": 5
}
