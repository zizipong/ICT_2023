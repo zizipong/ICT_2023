{
 "cells": [
  {
   "cell_type": "code",
   "execution_count": null,
   "id": "c092c1cb",
   "metadata": {},
   "outputs": [],
   "source": [
    "\"\"\"\n",
    "[] : 리스트(python), 배열(numpy)\n",
    "{} : 딕션너리\n",
    "() : 튜플\n",
    "\n",
    "[(), ()] --> [{컬럼명1:값, 컬럼명2:값, ....}, {}]\n",
    "\"\"\""
   ]
  },
  {
   "cell_type": "code",
   "execution_count": 1,
   "id": "9939ab60",
   "metadata": {},
   "outputs": [],
   "source": [
    "# 배열 [] 같은타입만 넣을수있다.\n",
    "a = [1, 2]\n",
    "\n",
    "# 리스트 [] 어떤타입이든, 어떤 객체든 넣을수 있다.\n",
    "b = 1\n",
    "#a = [b, 1.2, \"1234\", {[], }, ({[]})]\n",
    "a = [b, 1.2, \"1234\"]"
   ]
  },
  {
   "cell_type": "code",
   "execution_count": 4,
   "id": "0d72213e",
   "metadata": {},
   "outputs": [
    {
     "name": "stdout",
     "output_type": "stream",
     "text": [
      "이름 =  홍길동  / 나이= 21\n",
      "이름 = 홍길동 / 나이 = 21\n"
     ]
    }
   ],
   "source": [
    "# 일반변수 \n",
    "name = \"홍길동\"\n",
    "age = 21\n",
    "print(\"이름 = \", name, \" / 나이=\", age)\n",
    "print(\"이름 = {} / 나이 = {}\".format(name, age))"
   ]
  },
  {
   "cell_type": "code",
   "execution_count": 7,
   "id": "781e19dd",
   "metadata": {},
   "outputs": [
    {
     "data": {
      "text/plain": [
       "1"
      ]
     },
     "execution_count": 7,
     "metadata": {},
     "output_type": "execute_result"
    }
   ],
   "source": [
    "name = 1\n",
    "name"
   ]
  },
  {
   "cell_type": "code",
   "execution_count": 10,
   "id": "c7fbb080",
   "metadata": {},
   "outputs": [
    {
     "data": {
      "text/plain": [
       "'홍길동'"
      ]
     },
     "execution_count": 10,
     "metadata": {},
     "output_type": "execute_result"
    }
   ],
   "source": [
    "list_v = []\n",
    "list_v = [1, \"홍길동\"]\n",
    "list_v[1]"
   ]
  },
  {
   "cell_type": "code",
   "execution_count": 20,
   "id": "3805a537",
   "metadata": {},
   "outputs": [
    {
     "data": {
      "text/plain": [
       "dict_items([('name', '홍길동'), ('age', 21), ('list_v', [1, '홍길동'])])"
      ]
     },
     "execution_count": 20,
     "metadata": {},
     "output_type": "execute_result"
    }
   ],
   "source": [
    "dict_v = {}\n",
    "dict_v = {\"name\" : \"홍길동\", \n",
    "          \"age\" : 21,\n",
    "          \"list_v\" : list_v}\n",
    "dict_v\n",
    "dict_v[\"name\"]\n",
    "dict_v[\"age\"]\n",
    "dict_v[\"list_v\"][1]\n",
    "\n",
    "dict_v.values()  # 값들만 추출\n",
    "dict_v.keys()    # key값만 추출\n",
    "dict_v.items()   #key와 값의 세트로 추출"
   ]
  },
  {
   "cell_type": "code",
   "execution_count": 24,
   "id": "98557fad",
   "metadata": {},
   "outputs": [
    {
     "data": {
      "text/plain": [
       "{'name': '홍길동', 'age': 21, 'list_v': [1, '홍길동']}"
      ]
     },
     "execution_count": 24,
     "metadata": {},
     "output_type": "execute_result"
    }
   ],
   "source": [
    "# 튜플은 수정이안됨, 리스트는 수정 가능\n",
    "tu_v = ()\n",
    "tu_v = (1, \"홍길동\", list_v, dict_v)\n",
    "tu_v\n",
    "tu_v[0]\n",
    "tu_v[2]\n",
    "tu_v[3]"
   ]
  },
  {
   "cell_type": "code",
   "execution_count": 25,
   "id": "4c85df49",
   "metadata": {},
   "outputs": [
    {
     "data": {
      "text/plain": [
       "[1, '홍길동']"
      ]
     },
     "execution_count": 25,
     "metadata": {},
     "output_type": "execute_result"
    }
   ],
   "source": [
    "list_v"
   ]
  },
  {
   "cell_type": "code",
   "execution_count": 28,
   "id": "ceb2818b",
   "metadata": {},
   "outputs": [
    {
     "data": {
      "text/plain": [
       "[1, '홍길동', '홍길동3', '홍길동2', '홍길동2']"
      ]
     },
     "execution_count": 28,
     "metadata": {},
     "output_type": "execute_result"
    }
   ],
   "source": [
    "# 리스트에 값 추가하기\n",
    "list_v.append(\"홍길동2\")\n",
    "list_v"
   ]
  },
  {
   "cell_type": "code",
   "execution_count": 33,
   "id": "e0c0ece5",
   "metadata": {},
   "outputs": [
    {
     "data": {
      "text/plain": [
       "5"
      ]
     },
     "execution_count": 33,
     "metadata": {},
     "output_type": "execute_result"
    }
   ],
   "source": [
    "list_v[4] = \"홍길동3\"\n",
    "list_v\n",
    "len(list_v)"
   ]
  },
  {
   "cell_type": "code",
   "execution_count": 32,
   "id": "4dc7c1ac",
   "metadata": {},
   "outputs": [
    {
     "name": "stdout",
     "output_type": "stream",
     "text": [
      "1\n",
      "홍길동\n",
      "홍길동3\n",
      "홍길동2\n",
      "홍길동3\n"
     ]
    }
   ],
   "source": [
    "### for문을 이용해서 리스트의 값 출력하기 \n",
    "# 내가 한거\n",
    "for i in list_v:\n",
    "    print(i)"
   ]
  },
  {
   "cell_type": "code",
   "execution_count": 34,
   "id": "fbd6f163",
   "metadata": {},
   "outputs": [
    {
     "name": "stdout",
     "output_type": "stream",
     "text": [
      "1\n",
      "홍길동\n",
      "홍길동3\n",
      "홍길동2\n",
      "홍길동3\n"
     ]
    }
   ],
   "source": [
    "### for문을 이용해서 리스트의 값 출력하기\n",
    "# (인텍스 번호)를 이용하는 방식\n",
    "for i in range(0, len(list_v), 1) :\n",
    "    print(list_v[i])"
   ]
  },
  {
   "cell_type": "code",
   "execution_count": 35,
   "id": "2255b040",
   "metadata": {},
   "outputs": [
    {
     "name": "stdout",
     "output_type": "stream",
     "text": [
      "1\n",
      "홍길동\n",
      "홍길동3\n",
      "홍길동2\n",
      "홍길동3\n"
     ]
    }
   ],
   "source": [
    "### for문을 이용해서 리스트의 값 출력하기\n",
    "# (값을 이용하는 방식)\n",
    "for val in list_v : \n",
    "    print(val)"
   ]
  },
  {
   "cell_type": "code",
   "execution_count": 43,
   "id": "fabbe163",
   "metadata": {},
   "outputs": [
    {
     "data": {
      "text/plain": [
       "[1,\n",
       " 2,\n",
       " 3,\n",
       " 4,\n",
       " 5,\n",
       " 6,\n",
       " 7,\n",
       " 8,\n",
       " 9,\n",
       " 10,\n",
       " 11,\n",
       " 12,\n",
       " 13,\n",
       " 14,\n",
       " 15,\n",
       " 16,\n",
       " 17,\n",
       " 18,\n",
       " 19,\n",
       " 20,\n",
       " 21,\n",
       " 22,\n",
       " 23,\n",
       " 24,\n",
       " 25,\n",
       " 26,\n",
       " 27,\n",
       " 28,\n",
       " 29,\n",
       " 30,\n",
       " 31,\n",
       " 32,\n",
       " 33,\n",
       " 34,\n",
       " 35,\n",
       " 36,\n",
       " 37,\n",
       " 38,\n",
       " 39,\n",
       " 40,\n",
       " 41,\n",
       " 42,\n",
       " 43,\n",
       " 44,\n",
       " 45,\n",
       " 46,\n",
       " 47,\n",
       " 48,\n",
       " 49,\n",
       " 50,\n",
       " 51,\n",
       " 52,\n",
       " 53,\n",
       " 54,\n",
       " 55,\n",
       " 56,\n",
       " 57,\n",
       " 58,\n",
       " 59,\n",
       " 60,\n",
       " 61,\n",
       " 62,\n",
       " 63,\n",
       " 64,\n",
       " 65,\n",
       " 66,\n",
       " 67,\n",
       " 68,\n",
       " 69,\n",
       " 70,\n",
       " 71,\n",
       " 72,\n",
       " 73,\n",
       " 74,\n",
       " 75,\n",
       " 76,\n",
       " 77,\n",
       " 78,\n",
       " 79,\n",
       " 80,\n",
       " 81,\n",
       " 82,\n",
       " 83,\n",
       " 84,\n",
       " 85,\n",
       " 86,\n",
       " 87,\n",
       " 88,\n",
       " 89,\n",
       " 90,\n",
       " 91,\n",
       " 92,\n",
       " 93,\n",
       " 94,\n",
       " 95,\n",
       " 96,\n",
       " 97,\n",
       " 98,\n",
       " 99,\n",
       " 100]"
      ]
     },
     "execution_count": 43,
     "metadata": {},
     "output_type": "execute_result"
    }
   ],
   "source": [
    "### list_v2 변수 선언\n",
    "### 값을 1부터 100까지 추가해 주세요.\n",
    "list_v2 = []\n",
    "for i in range(1, 101, 1) :\n",
    "    list_v2.append(i)\n",
    "    \n",
    "list_v2"
   ]
  },
  {
   "cell_type": "code",
   "execution_count": 44,
   "id": "7b6b199f",
   "metadata": {},
   "outputs": [
    {
     "data": {
      "text/plain": [
       "{'name': '홍길동', 'age': 21, 'list_v': [1, '홍길동', '홍길동3', '홍길동2', '홍길동3']}"
      ]
     },
     "execution_count": 44,
     "metadata": {},
     "output_type": "execute_result"
    }
   ],
   "source": [
    "dict_v"
   ]
  },
  {
   "cell_type": "code",
   "execution_count": 45,
   "id": "f7e3981d",
   "metadata": {},
   "outputs": [],
   "source": [
    "dict_v[\"add\"] = \"세종\" # 기존에 없는값이면 추가"
   ]
  },
  {
   "cell_type": "code",
   "execution_count": 46,
   "id": "7b7dd7ac",
   "metadata": {},
   "outputs": [
    {
     "data": {
      "text/plain": [
       "{'name': '홍길동',\n",
       " 'age': 21,\n",
       " 'list_v': [1, '홍길동', '홍길동3', '홍길동2', '홍길동3'],\n",
       " 'add': '세종'}"
      ]
     },
     "execution_count": 46,
     "metadata": {},
     "output_type": "execute_result"
    }
   ],
   "source": [
    "dict_v"
   ]
  },
  {
   "cell_type": "code",
   "execution_count": 47,
   "id": "5aeacdd5",
   "metadata": {},
   "outputs": [],
   "source": [
    "dict_v[\"add\"] = \"세종2\" # 기존에 있는값이면 수정"
   ]
  },
  {
   "cell_type": "code",
   "execution_count": 48,
   "id": "dc034dc0",
   "metadata": {},
   "outputs": [
    {
     "data": {
      "text/plain": [
       "{'name': '홍길동',\n",
       " 'age': 21,\n",
       " 'list_v': [1, '홍길동', '홍길동3', '홍길동2', '홍길동3'],\n",
       " 'add': '세종2'}"
      ]
     },
     "execution_count": 48,
     "metadata": {},
     "output_type": "execute_result"
    }
   ],
   "source": [
    "dict_v"
   ]
  },
  {
   "cell_type": "code",
   "execution_count": 51,
   "id": "ae5ec111",
   "metadata": {},
   "outputs": [
    {
     "data": {
      "text/plain": [
       "dict_keys(['name', 'age', 'list_v', 'add'])"
      ]
     },
     "execution_count": 51,
     "metadata": {},
     "output_type": "execute_result"
    }
   ],
   "source": [
    "dict_v.keys()"
   ]
  },
  {
   "cell_type": "code",
   "execution_count": 52,
   "id": "c8adf8f8",
   "metadata": {},
   "outputs": [
    {
     "name": "stdout",
     "output_type": "stream",
     "text": [
      "홍길동\n",
      "21\n",
      "[1, '홍길동', '홍길동3', '홍길동2', '홍길동3']\n",
      "세종2\n"
     ]
    }
   ],
   "source": [
    "### key값을 이용해서 value값을 출력하는 for문 만들기\n",
    "for k in dict_v :    # for k in dict_v.keys() :  와 동일\n",
    "    print(dict_v[k])"
   ]
  },
  {
   "cell_type": "code",
   "execution_count": 64,
   "id": "2d8def2f",
   "metadata": {},
   "outputs": [
    {
     "name": "stdout",
     "output_type": "stream",
     "text": [
      "1\n",
      "홍길동\n",
      "홍길동3\n",
      "홍길동2\n",
      "홍길동3\n"
     ]
    }
   ],
   "source": [
    "### 딕셔너리의 list_v 키에 대한 값을 추출 ---> 내가 한거\n",
    "dict_v[\"list_v\"]\n",
    "\n",
    "for i in dict_v[\"list_v\"] :\n",
    "    print(i)"
   ]
  },
  {
   "cell_type": "code",
   "execution_count": 65,
   "id": "d62d2967",
   "metadata": {},
   "outputs": [
    {
     "name": "stdout",
     "output_type": "stream",
     "text": [
      "1\n",
      "홍길동\n",
      "홍길동3\n",
      "홍길동2\n",
      "홍길동3\n"
     ]
    }
   ],
   "source": [
    "### 딕셔너리의 list_v 키에 대한 값을 추출 ---> 강사님이 알려주신거\n",
    "for k in dict_v :\n",
    "    #print(k)\n",
    "    if k == \"list_v\" :\n",
    "        #print(k)\n",
    "        for v in dict_v[k] :\n",
    "            print(v)"
   ]
  },
  {
   "cell_type": "code",
   "execution_count": null,
   "id": "3d89ea12",
   "metadata": {},
   "outputs": [],
   "source": [
    "list_v2 = []\n",
    "dict_v1 = {}\n",
    "dict_v2 = {}\n",
    "dict_v3 = {}\n",
    "\"\"\"위 변수를 이용해서 아래처럼 만들어 주세요..\n",
    "[{1: '홍길동1', 2: '홍길동2'},\n",
    " {1: '이순신1', 2: '이순신2'},\n",
    " {1: '강감찬1', 2: '강감찬2'}]\n",
    "\"\"\""
   ]
  },
  {
   "cell_type": "code",
   "execution_count": 69,
   "id": "b407d9ee",
   "metadata": {},
   "outputs": [
    {
     "data": {
      "text/plain": [
       "[{1: '홍길동1', 2: '홍길동2'}, {1: '이순신1', 2: '이순신2'}, {1: '강감찬1', 2: '강감찬2'}]"
      ]
     },
     "execution_count": 69,
     "metadata": {},
     "output_type": "execute_result"
    }
   ],
   "source": [
    "# 내가 한거임\n",
    "dict_v1 = {1: '홍길동1', 2: '홍길동2'}\n",
    "dict_v2 = {1: '이순신1', 2: '이순신2'}\n",
    "dict_v3 = {1: '강감찬1', 2: '강감찬2'}\n",
    "list_v2 = [dict_v1, dict_v2, dict_v3]\n",
    "list_v2"
   ]
  },
  {
   "cell_type": "code",
   "execution_count": 71,
   "id": "cb4e4082",
   "metadata": {},
   "outputs": [],
   "source": [
    "# 강사님이 알려주신거\n",
    "list_v2 = []\n",
    "dict_v1[1] = \"홍길동1\"\n",
    "dict_v1[2] = \"홍길동2\" \n",
    "dict_v1\n",
    "list_v2.append(dict_v1)"
   ]
  },
  {
   "cell_type": "code",
   "execution_count": 72,
   "id": "84afaeb7",
   "metadata": {},
   "outputs": [
    {
     "data": {
      "text/plain": [
       "[{1: '홍길동1', 2: '홍길동2'}]"
      ]
     },
     "execution_count": 72,
     "metadata": {},
     "output_type": "execute_result"
    }
   ],
   "source": [
    "list_v2"
   ]
  },
  {
   "cell_type": "code",
   "execution_count": 73,
   "id": "9dda5ae7",
   "metadata": {},
   "outputs": [],
   "source": [
    "dict_v2[1] = \"이순신1\"\n",
    "dict_v2[2] = \"이순신2\" \n",
    "dict_v2\n",
    "list_v2.append(dict_v2)"
   ]
  },
  {
   "cell_type": "code",
   "execution_count": 74,
   "id": "c4c7c595",
   "metadata": {},
   "outputs": [
    {
     "data": {
      "text/plain": [
       "[{1: '홍길동1', 2: '홍길동2'}, {1: '이순신1', 2: '이순신2'}]"
      ]
     },
     "execution_count": 74,
     "metadata": {},
     "output_type": "execute_result"
    }
   ],
   "source": [
    "list_v2"
   ]
  },
  {
   "cell_type": "code",
   "execution_count": 75,
   "id": "c3be2990",
   "metadata": {},
   "outputs": [],
   "source": [
    "dict_v3[1] = \"강감찬1\"\n",
    "dict_v3[2] = \"강감찬2\" \n",
    "dict_v3\n",
    "list_v2.append(dict_v3)"
   ]
  },
  {
   "cell_type": "code",
   "execution_count": 76,
   "id": "abc162ba",
   "metadata": {},
   "outputs": [
    {
     "data": {
      "text/plain": [
       "[{1: '홍길동1', 2: '홍길동2'}, {1: '이순신1', 2: '이순신2'}, {1: '강감찬1', 2: '강감찬2'}]"
      ]
     },
     "execution_count": 76,
     "metadata": {},
     "output_type": "execute_result"
    }
   ],
   "source": [
    "list_v2"
   ]
  },
  {
   "cell_type": "code",
   "execution_count": 93,
   "id": "d8d85d40",
   "metadata": {},
   "outputs": [
    {
     "name": "stdout",
     "output_type": "stream",
     "text": [
      "key : 1 / values 홍길동1\n",
      "key : 2 / values 홍길동2\n",
      "key : 1 / values 이순신1\n",
      "key : 2 / values 이순신2\n",
      "key : 1 / values 강감찬1\n",
      "key : 2 / values 강감찬2\n"
     ]
    }
   ],
   "source": [
    "\"\"\"\n",
    "key : 1 / values : 홍길동1\n",
    "key : 2 / values : 홍길동2\n",
    "key : 1 / values : 이순신1\n",
    "key : 2 / values : 이순신2\n",
    "key : 1 / values : 강감찬1\n",
    "key : 2 / values : 강감찬2\n",
    "\n",
    "이렇게 출력해보세요.\n",
    "\"\"\"\n",
    "\n",
    "# 리스트 처리\n",
    "for d in list_v2 :\n",
    "    #print(d)\n",
    "    # 딕셔너리 처리\n",
    "    for k in d : \n",
    "        #print(d[k])\n",
    "        print(\"key : {} / values {}\".format(k, d[k]))"
   ]
  },
  {
   "cell_type": "code",
   "execution_count": 101,
   "id": "5b56a2b1",
   "metadata": {},
   "outputs": [
    {
     "name": "stdout",
     "output_type": "stream",
     "text": [
      "key : 1 / values 강감찬1\n"
     ]
    }
   ],
   "source": [
    "## \"강감찬1\"이 있는 딕셔너리의 key와 values 값만 출력해주세요.\n",
    "# - key : 1  / values : 강감찬1\n",
    "\n",
    "# 리스트 처리\n",
    "for d in list_v2 :\n",
    "    #print(d) \n",
    "    # 딕셔너리 처리\n",
    "    for k in d : \n",
    "        #print(d[k])\n",
    "        if d[k] == '강감찬1' :\n",
    "            print(\"key : {} / values {}\".format(k, d[k]))\n",
    "            break"
   ]
  },
  {
   "cell_type": "code",
   "execution_count": 115,
   "id": "e294213e",
   "metadata": {},
   "outputs": [
    {
     "name": "stdout",
     "output_type": "stream",
     "text": [
      "dict_values(['홍길동1', '홍길동2'])\n",
      "dict_values(['이순신1', '이순신2'])\n",
      "dict_values(['강감찬1', '강감찬2'])\n",
      "key : 1 / values 강감찬1\n",
      "key : 2 / values 강감찬2\n"
     ]
    }
   ],
   "source": [
    "### \"강감찬1\" 이라는 값이 포함되어 있는\n",
    "# 딕션너리의 전체 key와 values 값을 출력해 주세요.\n",
    "\"\"\" 출력값..\n",
    "key : 1 / values : 강감찬1\n",
    "key : 2 / values : 강감찬2\n",
    "\"\"\"\n",
    "\n",
    "\n",
    "# 리스트 처리\n",
    "for d in list_v2 :\n",
    "    print(d.values())  \n",
    "    if \"강감찬1\" in d.values() : \n",
    "        for k in d :\n",
    "            print(\"key : {} / values {}\".format(k, d[k]))\n",
    "        break    "
   ]
  },
  {
   "cell_type": "markdown",
   "id": "31780829",
   "metadata": {},
   "source": [
    "# 딕셔너리 처리"
   ]
  },
  {
   "cell_type": "code",
   "execution_count": 125,
   "id": "45178a78",
   "metadata": {},
   "outputs": [
    {
     "data": {
      "text/plain": [
       "\" 아래처럼 딕셔너리를 출력해 주세요.\\n{'name': ['홍길동1','홍길동2','홍길동3'],\\n 'age': ['18', '20', '25'],\\n 'local': ['서울', '경기', '대전']}\\n\""
      ]
     },
     "execution_count": 125,
     "metadata": {},
     "output_type": "execute_result"
    }
   ],
   "source": [
    "ditc_1 = {}\n",
    "list_c1 = []\n",
    "list_c2 = []\n",
    "list_c3 = []\n",
    "\n",
    "\"\"\" 아래처럼 딕셔너리를 출력해 주세요.\n",
    "{'name': ['홍길동1','홍길동2','홍길동3'],\n",
    " 'age': ['18', '20', '25'],\n",
    " 'local': ['서울', '경기', '대전']}\n",
    "\"\"\""
   ]
  },
  {
   "cell_type": "code",
   "execution_count": 126,
   "id": "209db1ff",
   "metadata": {},
   "outputs": [],
   "source": [
    "list_c1.append(\"홍길동1\")\n",
    "list_c1.append(\"홍길동2\")\n",
    "list_c1.append(\"홍길동3\")\n",
    "ditc_1[\"name\"] = list_c1"
   ]
  },
  {
   "cell_type": "code",
   "execution_count": 127,
   "id": "627d7c67",
   "metadata": {},
   "outputs": [],
   "source": [
    "list_c2.append(\"18\")\n",
    "list_c2.append(\"20\")\n",
    "list_c2.append(\"25\")\n",
    "ditc_1[\"age\"] = list_c2"
   ]
  },
  {
   "cell_type": "code",
   "execution_count": 128,
   "id": "d2c120e1",
   "metadata": {},
   "outputs": [],
   "source": [
    "list_c3.append(\"18\")\n",
    "list_c3.append(\"20\")\n",
    "list_c3.append(\"25\")\n",
    "ditc_1[\"local\"] = list_c3"
   ]
  },
  {
   "cell_type": "code",
   "execution_count": 130,
   "id": "baa2c4da",
   "metadata": {},
   "outputs": [
    {
     "data": {
      "text/plain": [
       "{'name': ['홍길동1', '홍길동2', '홍길동3'],\n",
       " 'age': ['18', '20', '25'],\n",
       " 'local': ['18', '20', '25']}"
      ]
     },
     "execution_count": 130,
     "metadata": {},
     "output_type": "execute_result"
    }
   ],
   "source": [
    "ditc_1"
   ]
  },
  {
   "cell_type": "code",
   "execution_count": 138,
   "id": "19500840",
   "metadata": {},
   "outputs": [
    {
     "name": "stdout",
     "output_type": "stream",
     "text": [
      "key : name / values 홍길동1\n",
      "key : name / values 홍길동2\n",
      "key : name / values 홍길동3\n",
      "key : age / values 18\n",
      "key : age / values 20\n",
      "key : age / values 25\n",
      "key : local / values 18\n",
      "key : local / values 20\n",
      "key : local / values 25\n"
     ]
    }
   ],
   "source": [
    "\"\"\"\n",
    "key : name / values : 홍길동1\n",
    "key : name / values : 홍길동2\n",
    "key : name / values : 홍길동3\n",
    "key : age / values : 18\n",
    "key : age / values : 20\n",
    "key : age / values : 25\n",
    "key : local / values : 서울\n",
    "key : local / values : 경기\n",
    "key : local / values : 대전\n",
    "\"\"\"\n",
    "\n",
    "for k in ditc_1 :\n",
    "    #print(k)\n",
    "    for v in ditc_1[k] :  # dict_1[k] 가 리스트임\n",
    "        print(\"key : {} / values {}\".format(k, v))"
   ]
  },
  {
   "cell_type": "code",
   "execution_count": null,
   "id": "dd2d26bb",
   "metadata": {},
   "outputs": [],
   "source": [
    "\"\"\"\n",
    "{'name': ['홍길동1', '홍길동2'....., '홍길동100'],\n",
    " 'age': [1, 2, ~ , 100],\n",
    " 'local': ['서울1', '서울2'....., '서울100']}\n",
    "\"\"\""
   ]
  },
  {
   "cell_type": "code",
   "execution_count": 145,
   "id": "20e84d29",
   "metadata": {},
   "outputs": [],
   "source": [
    "# 내가 한거...\n",
    "ditc_11 = {}\n",
    "list_c11 = []\n",
    "list_c21 = []\n",
    "list_c31 = []"
   ]
  },
  {
   "cell_type": "code",
   "execution_count": 146,
   "id": "40572ee8",
   "metadata": {},
   "outputs": [],
   "source": [
    "for i in range(1,101, 1) :\n",
    "    list_c11.append(\"홍길동\"+str(i))"
   ]
  },
  {
   "cell_type": "code",
   "execution_count": 148,
   "id": "73169118",
   "metadata": {},
   "outputs": [],
   "source": [
    "ditc_1[\"name\"] = list_c11"
   ]
  },
  {
   "cell_type": "code",
   "execution_count": 150,
   "id": "9b7d30ae",
   "metadata": {},
   "outputs": [
    {
     "data": {
      "text/plain": [
       "{'name': ['홍길동1',\n",
       "  '홍길동2',\n",
       "  '홍길동3',\n",
       "  '홍길동4',\n",
       "  '홍길동5',\n",
       "  '홍길동6',\n",
       "  '홍길동7',\n",
       "  '홍길동8',\n",
       "  '홍길동9',\n",
       "  '홍길동10',\n",
       "  '홍길동11',\n",
       "  '홍길동12',\n",
       "  '홍길동13',\n",
       "  '홍길동14',\n",
       "  '홍길동15',\n",
       "  '홍길동16',\n",
       "  '홍길동17',\n",
       "  '홍길동18',\n",
       "  '홍길동19',\n",
       "  '홍길동20',\n",
       "  '홍길동21',\n",
       "  '홍길동22',\n",
       "  '홍길동23',\n",
       "  '홍길동24',\n",
       "  '홍길동25',\n",
       "  '홍길동26',\n",
       "  '홍길동27',\n",
       "  '홍길동28',\n",
       "  '홍길동29',\n",
       "  '홍길동30',\n",
       "  '홍길동31',\n",
       "  '홍길동32',\n",
       "  '홍길동33',\n",
       "  '홍길동34',\n",
       "  '홍길동35',\n",
       "  '홍길동36',\n",
       "  '홍길동37',\n",
       "  '홍길동38',\n",
       "  '홍길동39',\n",
       "  '홍길동40',\n",
       "  '홍길동41',\n",
       "  '홍길동42',\n",
       "  '홍길동43',\n",
       "  '홍길동44',\n",
       "  '홍길동45',\n",
       "  '홍길동46',\n",
       "  '홍길동47',\n",
       "  '홍길동48',\n",
       "  '홍길동49',\n",
       "  '홍길동50',\n",
       "  '홍길동51',\n",
       "  '홍길동52',\n",
       "  '홍길동53',\n",
       "  '홍길동54',\n",
       "  '홍길동55',\n",
       "  '홍길동56',\n",
       "  '홍길동57',\n",
       "  '홍길동58',\n",
       "  '홍길동59',\n",
       "  '홍길동60',\n",
       "  '홍길동61',\n",
       "  '홍길동62',\n",
       "  '홍길동63',\n",
       "  '홍길동64',\n",
       "  '홍길동65',\n",
       "  '홍길동66',\n",
       "  '홍길동67',\n",
       "  '홍길동68',\n",
       "  '홍길동69',\n",
       "  '홍길동70',\n",
       "  '홍길동71',\n",
       "  '홍길동72',\n",
       "  '홍길동73',\n",
       "  '홍길동74',\n",
       "  '홍길동75',\n",
       "  '홍길동76',\n",
       "  '홍길동77',\n",
       "  '홍길동78',\n",
       "  '홍길동79',\n",
       "  '홍길동80',\n",
       "  '홍길동81',\n",
       "  '홍길동82',\n",
       "  '홍길동83',\n",
       "  '홍길동84',\n",
       "  '홍길동85',\n",
       "  '홍길동86',\n",
       "  '홍길동87',\n",
       "  '홍길동88',\n",
       "  '홍길동89',\n",
       "  '홍길동90',\n",
       "  '홍길동91',\n",
       "  '홍길동92',\n",
       "  '홍길동93',\n",
       "  '홍길동94',\n",
       "  '홍길동95',\n",
       "  '홍길동96',\n",
       "  '홍길동97',\n",
       "  '홍길동98',\n",
       "  '홍길동99',\n",
       "  '홍길동100'],\n",
       " 'age': ['18', '20', '25'],\n",
       " 'local': ['18', '20', '25']}"
      ]
     },
     "execution_count": 150,
     "metadata": {},
     "output_type": "execute_result"
    }
   ],
   "source": [
    "ditc_1"
   ]
  },
  {
   "cell_type": "code",
   "execution_count": 151,
   "id": "d59358a9",
   "metadata": {},
   "outputs": [],
   "source": [
    "for i in range(1,101, 1) :\n",
    "    list_c21.append(str(i))\n",
    "    \n",
    "ditc_1[\"age\"] = list_c21    "
   ]
  },
  {
   "cell_type": "code",
   "execution_count": 152,
   "id": "ea9e73a2",
   "metadata": {},
   "outputs": [],
   "source": [
    "for i in range(1,101, 1) :\n",
    "    list_c31.append(\"서울\"+str(i))\n",
    "    \n",
    "ditc_1[\"age\"] = list_c31   "
   ]
  },
  {
   "cell_type": "code",
   "execution_count": 153,
   "id": "2f722b9e",
   "metadata": {},
   "outputs": [
    {
     "data": {
      "text/plain": [
       "{'name': ['홍길동1',\n",
       "  '홍길동2',\n",
       "  '홍길동3',\n",
       "  '홍길동4',\n",
       "  '홍길동5',\n",
       "  '홍길동6',\n",
       "  '홍길동7',\n",
       "  '홍길동8',\n",
       "  '홍길동9',\n",
       "  '홍길동10',\n",
       "  '홍길동11',\n",
       "  '홍길동12',\n",
       "  '홍길동13',\n",
       "  '홍길동14',\n",
       "  '홍길동15',\n",
       "  '홍길동16',\n",
       "  '홍길동17',\n",
       "  '홍길동18',\n",
       "  '홍길동19',\n",
       "  '홍길동20',\n",
       "  '홍길동21',\n",
       "  '홍길동22',\n",
       "  '홍길동23',\n",
       "  '홍길동24',\n",
       "  '홍길동25',\n",
       "  '홍길동26',\n",
       "  '홍길동27',\n",
       "  '홍길동28',\n",
       "  '홍길동29',\n",
       "  '홍길동30',\n",
       "  '홍길동31',\n",
       "  '홍길동32',\n",
       "  '홍길동33',\n",
       "  '홍길동34',\n",
       "  '홍길동35',\n",
       "  '홍길동36',\n",
       "  '홍길동37',\n",
       "  '홍길동38',\n",
       "  '홍길동39',\n",
       "  '홍길동40',\n",
       "  '홍길동41',\n",
       "  '홍길동42',\n",
       "  '홍길동43',\n",
       "  '홍길동44',\n",
       "  '홍길동45',\n",
       "  '홍길동46',\n",
       "  '홍길동47',\n",
       "  '홍길동48',\n",
       "  '홍길동49',\n",
       "  '홍길동50',\n",
       "  '홍길동51',\n",
       "  '홍길동52',\n",
       "  '홍길동53',\n",
       "  '홍길동54',\n",
       "  '홍길동55',\n",
       "  '홍길동56',\n",
       "  '홍길동57',\n",
       "  '홍길동58',\n",
       "  '홍길동59',\n",
       "  '홍길동60',\n",
       "  '홍길동61',\n",
       "  '홍길동62',\n",
       "  '홍길동63',\n",
       "  '홍길동64',\n",
       "  '홍길동65',\n",
       "  '홍길동66',\n",
       "  '홍길동67',\n",
       "  '홍길동68',\n",
       "  '홍길동69',\n",
       "  '홍길동70',\n",
       "  '홍길동71',\n",
       "  '홍길동72',\n",
       "  '홍길동73',\n",
       "  '홍길동74',\n",
       "  '홍길동75',\n",
       "  '홍길동76',\n",
       "  '홍길동77',\n",
       "  '홍길동78',\n",
       "  '홍길동79',\n",
       "  '홍길동80',\n",
       "  '홍길동81',\n",
       "  '홍길동82',\n",
       "  '홍길동83',\n",
       "  '홍길동84',\n",
       "  '홍길동85',\n",
       "  '홍길동86',\n",
       "  '홍길동87',\n",
       "  '홍길동88',\n",
       "  '홍길동89',\n",
       "  '홍길동90',\n",
       "  '홍길동91',\n",
       "  '홍길동92',\n",
       "  '홍길동93',\n",
       "  '홍길동94',\n",
       "  '홍길동95',\n",
       "  '홍길동96',\n",
       "  '홍길동97',\n",
       "  '홍길동98',\n",
       "  '홍길동99',\n",
       "  '홍길동100'],\n",
       " 'age': ['서울1',\n",
       "  '서울2',\n",
       "  '서울3',\n",
       "  '서울4',\n",
       "  '서울5',\n",
       "  '서울6',\n",
       "  '서울7',\n",
       "  '서울8',\n",
       "  '서울9',\n",
       "  '서울10',\n",
       "  '서울11',\n",
       "  '서울12',\n",
       "  '서울13',\n",
       "  '서울14',\n",
       "  '서울15',\n",
       "  '서울16',\n",
       "  '서울17',\n",
       "  '서울18',\n",
       "  '서울19',\n",
       "  '서울20',\n",
       "  '서울21',\n",
       "  '서울22',\n",
       "  '서울23',\n",
       "  '서울24',\n",
       "  '서울25',\n",
       "  '서울26',\n",
       "  '서울27',\n",
       "  '서울28',\n",
       "  '서울29',\n",
       "  '서울30',\n",
       "  '서울31',\n",
       "  '서울32',\n",
       "  '서울33',\n",
       "  '서울34',\n",
       "  '서울35',\n",
       "  '서울36',\n",
       "  '서울37',\n",
       "  '서울38',\n",
       "  '서울39',\n",
       "  '서울40',\n",
       "  '서울41',\n",
       "  '서울42',\n",
       "  '서울43',\n",
       "  '서울44',\n",
       "  '서울45',\n",
       "  '서울46',\n",
       "  '서울47',\n",
       "  '서울48',\n",
       "  '서울49',\n",
       "  '서울50',\n",
       "  '서울51',\n",
       "  '서울52',\n",
       "  '서울53',\n",
       "  '서울54',\n",
       "  '서울55',\n",
       "  '서울56',\n",
       "  '서울57',\n",
       "  '서울58',\n",
       "  '서울59',\n",
       "  '서울60',\n",
       "  '서울61',\n",
       "  '서울62',\n",
       "  '서울63',\n",
       "  '서울64',\n",
       "  '서울65',\n",
       "  '서울66',\n",
       "  '서울67',\n",
       "  '서울68',\n",
       "  '서울69',\n",
       "  '서울70',\n",
       "  '서울71',\n",
       "  '서울72',\n",
       "  '서울73',\n",
       "  '서울74',\n",
       "  '서울75',\n",
       "  '서울76',\n",
       "  '서울77',\n",
       "  '서울78',\n",
       "  '서울79',\n",
       "  '서울80',\n",
       "  '서울81',\n",
       "  '서울82',\n",
       "  '서울83',\n",
       "  '서울84',\n",
       "  '서울85',\n",
       "  '서울86',\n",
       "  '서울87',\n",
       "  '서울88',\n",
       "  '서울89',\n",
       "  '서울90',\n",
       "  '서울91',\n",
       "  '서울92',\n",
       "  '서울93',\n",
       "  '서울94',\n",
       "  '서울95',\n",
       "  '서울96',\n",
       "  '서울97',\n",
       "  '서울98',\n",
       "  '서울99',\n",
       "  '서울100'],\n",
       " 'local': ['18', '20', '25']}"
      ]
     },
     "execution_count": 153,
     "metadata": {},
     "output_type": "execute_result"
    }
   ],
   "source": [
    "ditc_1"
   ]
  },
  {
   "cell_type": "code",
   "execution_count": 155,
   "id": "5cccb9dd",
   "metadata": {},
   "outputs": [],
   "source": [
    "# 강사님이 알려주신거\n",
    "dict_class = {}\n",
    "list_name = []\n",
    "list_age = []\n",
    "list_local = []\n",
    "\n",
    "for i in range(1,101, 1) :\n",
    "    list_name.append(\"홍길동{}\".format(i))\n",
    "    list_age.append(i)\n",
    "    list_local.append(\"서울{}\".format(i))\n",
    "\n",
    "dict_class[\"name\"] = list_name\n",
    "dict_class[\"age\"] = list_age\n",
    "dict_class[\"local\"] = list_local "
   ]
  },
  {
   "cell_type": "code",
   "execution_count": 156,
   "id": "b6f9f293",
   "metadata": {},
   "outputs": [
    {
     "data": {
      "text/plain": [
       "{'name': ['홍길동1',\n",
       "  '홍길동2',\n",
       "  '홍길동3',\n",
       "  '홍길동4',\n",
       "  '홍길동5',\n",
       "  '홍길동6',\n",
       "  '홍길동7',\n",
       "  '홍길동8',\n",
       "  '홍길동9',\n",
       "  '홍길동10',\n",
       "  '홍길동11',\n",
       "  '홍길동12',\n",
       "  '홍길동13',\n",
       "  '홍길동14',\n",
       "  '홍길동15',\n",
       "  '홍길동16',\n",
       "  '홍길동17',\n",
       "  '홍길동18',\n",
       "  '홍길동19',\n",
       "  '홍길동20',\n",
       "  '홍길동21',\n",
       "  '홍길동22',\n",
       "  '홍길동23',\n",
       "  '홍길동24',\n",
       "  '홍길동25',\n",
       "  '홍길동26',\n",
       "  '홍길동27',\n",
       "  '홍길동28',\n",
       "  '홍길동29',\n",
       "  '홍길동30',\n",
       "  '홍길동31',\n",
       "  '홍길동32',\n",
       "  '홍길동33',\n",
       "  '홍길동34',\n",
       "  '홍길동35',\n",
       "  '홍길동36',\n",
       "  '홍길동37',\n",
       "  '홍길동38',\n",
       "  '홍길동39',\n",
       "  '홍길동40',\n",
       "  '홍길동41',\n",
       "  '홍길동42',\n",
       "  '홍길동43',\n",
       "  '홍길동44',\n",
       "  '홍길동45',\n",
       "  '홍길동46',\n",
       "  '홍길동47',\n",
       "  '홍길동48',\n",
       "  '홍길동49',\n",
       "  '홍길동50',\n",
       "  '홍길동51',\n",
       "  '홍길동52',\n",
       "  '홍길동53',\n",
       "  '홍길동54',\n",
       "  '홍길동55',\n",
       "  '홍길동56',\n",
       "  '홍길동57',\n",
       "  '홍길동58',\n",
       "  '홍길동59',\n",
       "  '홍길동60',\n",
       "  '홍길동61',\n",
       "  '홍길동62',\n",
       "  '홍길동63',\n",
       "  '홍길동64',\n",
       "  '홍길동65',\n",
       "  '홍길동66',\n",
       "  '홍길동67',\n",
       "  '홍길동68',\n",
       "  '홍길동69',\n",
       "  '홍길동70',\n",
       "  '홍길동71',\n",
       "  '홍길동72',\n",
       "  '홍길동73',\n",
       "  '홍길동74',\n",
       "  '홍길동75',\n",
       "  '홍길동76',\n",
       "  '홍길동77',\n",
       "  '홍길동78',\n",
       "  '홍길동79',\n",
       "  '홍길동80',\n",
       "  '홍길동81',\n",
       "  '홍길동82',\n",
       "  '홍길동83',\n",
       "  '홍길동84',\n",
       "  '홍길동85',\n",
       "  '홍길동86',\n",
       "  '홍길동87',\n",
       "  '홍길동88',\n",
       "  '홍길동89',\n",
       "  '홍길동90',\n",
       "  '홍길동91',\n",
       "  '홍길동92',\n",
       "  '홍길동93',\n",
       "  '홍길동94',\n",
       "  '홍길동95',\n",
       "  '홍길동96',\n",
       "  '홍길동97',\n",
       "  '홍길동98',\n",
       "  '홍길동99',\n",
       "  '홍길동100'],\n",
       " 'age': [1,\n",
       "  2,\n",
       "  3,\n",
       "  4,\n",
       "  5,\n",
       "  6,\n",
       "  7,\n",
       "  8,\n",
       "  9,\n",
       "  10,\n",
       "  11,\n",
       "  12,\n",
       "  13,\n",
       "  14,\n",
       "  15,\n",
       "  16,\n",
       "  17,\n",
       "  18,\n",
       "  19,\n",
       "  20,\n",
       "  21,\n",
       "  22,\n",
       "  23,\n",
       "  24,\n",
       "  25,\n",
       "  26,\n",
       "  27,\n",
       "  28,\n",
       "  29,\n",
       "  30,\n",
       "  31,\n",
       "  32,\n",
       "  33,\n",
       "  34,\n",
       "  35,\n",
       "  36,\n",
       "  37,\n",
       "  38,\n",
       "  39,\n",
       "  40,\n",
       "  41,\n",
       "  42,\n",
       "  43,\n",
       "  44,\n",
       "  45,\n",
       "  46,\n",
       "  47,\n",
       "  48,\n",
       "  49,\n",
       "  50,\n",
       "  51,\n",
       "  52,\n",
       "  53,\n",
       "  54,\n",
       "  55,\n",
       "  56,\n",
       "  57,\n",
       "  58,\n",
       "  59,\n",
       "  60,\n",
       "  61,\n",
       "  62,\n",
       "  63,\n",
       "  64,\n",
       "  65,\n",
       "  66,\n",
       "  67,\n",
       "  68,\n",
       "  69,\n",
       "  70,\n",
       "  71,\n",
       "  72,\n",
       "  73,\n",
       "  74,\n",
       "  75,\n",
       "  76,\n",
       "  77,\n",
       "  78,\n",
       "  79,\n",
       "  80,\n",
       "  81,\n",
       "  82,\n",
       "  83,\n",
       "  84,\n",
       "  85,\n",
       "  86,\n",
       "  87,\n",
       "  88,\n",
       "  89,\n",
       "  90,\n",
       "  91,\n",
       "  92,\n",
       "  93,\n",
       "  94,\n",
       "  95,\n",
       "  96,\n",
       "  97,\n",
       "  98,\n",
       "  99,\n",
       "  100],\n",
       " 'local': ['서울1',\n",
       "  '서울2',\n",
       "  '서울3',\n",
       "  '서울4',\n",
       "  '서울5',\n",
       "  '서울6',\n",
       "  '서울7',\n",
       "  '서울8',\n",
       "  '서울9',\n",
       "  '서울10',\n",
       "  '서울11',\n",
       "  '서울12',\n",
       "  '서울13',\n",
       "  '서울14',\n",
       "  '서울15',\n",
       "  '서울16',\n",
       "  '서울17',\n",
       "  '서울18',\n",
       "  '서울19',\n",
       "  '서울20',\n",
       "  '서울21',\n",
       "  '서울22',\n",
       "  '서울23',\n",
       "  '서울24',\n",
       "  '서울25',\n",
       "  '서울26',\n",
       "  '서울27',\n",
       "  '서울28',\n",
       "  '서울29',\n",
       "  '서울30',\n",
       "  '서울31',\n",
       "  '서울32',\n",
       "  '서울33',\n",
       "  '서울34',\n",
       "  '서울35',\n",
       "  '서울36',\n",
       "  '서울37',\n",
       "  '서울38',\n",
       "  '서울39',\n",
       "  '서울40',\n",
       "  '서울41',\n",
       "  '서울42',\n",
       "  '서울43',\n",
       "  '서울44',\n",
       "  '서울45',\n",
       "  '서울46',\n",
       "  '서울47',\n",
       "  '서울48',\n",
       "  '서울49',\n",
       "  '서울50',\n",
       "  '서울51',\n",
       "  '서울52',\n",
       "  '서울53',\n",
       "  '서울54',\n",
       "  '서울55',\n",
       "  '서울56',\n",
       "  '서울57',\n",
       "  '서울58',\n",
       "  '서울59',\n",
       "  '서울60',\n",
       "  '서울61',\n",
       "  '서울62',\n",
       "  '서울63',\n",
       "  '서울64',\n",
       "  '서울65',\n",
       "  '서울66',\n",
       "  '서울67',\n",
       "  '서울68',\n",
       "  '서울69',\n",
       "  '서울70',\n",
       "  '서울71',\n",
       "  '서울72',\n",
       "  '서울73',\n",
       "  '서울74',\n",
       "  '서울75',\n",
       "  '서울76',\n",
       "  '서울77',\n",
       "  '서울78',\n",
       "  '서울79',\n",
       "  '서울80',\n",
       "  '서울81',\n",
       "  '서울82',\n",
       "  '서울83',\n",
       "  '서울84',\n",
       "  '서울85',\n",
       "  '서울86',\n",
       "  '서울87',\n",
       "  '서울88',\n",
       "  '서울89',\n",
       "  '서울90',\n",
       "  '서울91',\n",
       "  '서울92',\n",
       "  '서울93',\n",
       "  '서울94',\n",
       "  '서울95',\n",
       "  '서울96',\n",
       "  '서울97',\n",
       "  '서울98',\n",
       "  '서울99',\n",
       "  '서울100']}"
      ]
     },
     "execution_count": 156,
     "metadata": {},
     "output_type": "execute_result"
    }
   ],
   "source": [
    "dict_class"
   ]
  },
  {
   "cell_type": "code",
   "execution_count": null,
   "id": "7d17b26c",
   "metadata": {},
   "outputs": [],
   "source": [
    "\"\"\"\n",
    "{'name' : ['홍길동1', '홍길동2', ...'홍길동100'],\n",
    " 'age' : [1, 2, ... , 100],\n",
    " 'local' : ['서울1','서울2',..., '서울100']}\n",
    " \n",
    "dict_class\n",
    "\n",
    "아래처럼 바꿔서 출력해보기\n",
    "\n",
    "[{\"name\" : '홍길동1', \"age\" : 1, \"local\" : \"서울1\"},\n",
    " {\"name\" : '홍길동2', \"age\" : 2, \"local\" : \"서울2\"},\n",
    " ...\n",
    " {\"name\" : '홍길동100', \"age\" : 100, \"local\" : \"서울100\"},]\n",
    "\"\"\""
   ]
  },
  {
   "cell_type": "code",
   "execution_count": 165,
   "id": "e3146d2c",
   "metadata": {},
   "outputs": [
    {
     "data": {
      "text/plain": [
       "[{'name': '홍길동1', 'age': 1, 'local': '서울1'},\n",
       " {'name': '홍길동2', 'age': 2, 'local': '서울2'},\n",
       " {'name': '홍길동3', 'age': 3, 'local': '서울3'},\n",
       " {'name': '홍길동4', 'age': 4, 'local': '서울4'},\n",
       " {'name': '홍길동5', 'age': 5, 'local': '서울5'},\n",
       " {'name': '홍길동6', 'age': 6, 'local': '서울6'},\n",
       " {'name': '홍길동7', 'age': 7, 'local': '서울7'},\n",
       " {'name': '홍길동8', 'age': 8, 'local': '서울8'},\n",
       " {'name': '홍길동9', 'age': 9, 'local': '서울9'},\n",
       " {'name': '홍길동10', 'age': 10, 'local': '서울10'},\n",
       " {'name': '홍길동11', 'age': 11, 'local': '서울11'},\n",
       " {'name': '홍길동12', 'age': 12, 'local': '서울12'},\n",
       " {'name': '홍길동13', 'age': 13, 'local': '서울13'},\n",
       " {'name': '홍길동14', 'age': 14, 'local': '서울14'},\n",
       " {'name': '홍길동15', 'age': 15, 'local': '서울15'},\n",
       " {'name': '홍길동16', 'age': 16, 'local': '서울16'},\n",
       " {'name': '홍길동17', 'age': 17, 'local': '서울17'},\n",
       " {'name': '홍길동18', 'age': 18, 'local': '서울18'},\n",
       " {'name': '홍길동19', 'age': 19, 'local': '서울19'},\n",
       " {'name': '홍길동20', 'age': 20, 'local': '서울20'},\n",
       " {'name': '홍길동21', 'age': 21, 'local': '서울21'},\n",
       " {'name': '홍길동22', 'age': 22, 'local': '서울22'},\n",
       " {'name': '홍길동23', 'age': 23, 'local': '서울23'},\n",
       " {'name': '홍길동24', 'age': 24, 'local': '서울24'},\n",
       " {'name': '홍길동25', 'age': 25, 'local': '서울25'},\n",
       " {'name': '홍길동26', 'age': 26, 'local': '서울26'},\n",
       " {'name': '홍길동27', 'age': 27, 'local': '서울27'},\n",
       " {'name': '홍길동28', 'age': 28, 'local': '서울28'},\n",
       " {'name': '홍길동29', 'age': 29, 'local': '서울29'},\n",
       " {'name': '홍길동30', 'age': 30, 'local': '서울30'},\n",
       " {'name': '홍길동31', 'age': 31, 'local': '서울31'},\n",
       " {'name': '홍길동32', 'age': 32, 'local': '서울32'},\n",
       " {'name': '홍길동33', 'age': 33, 'local': '서울33'},\n",
       " {'name': '홍길동34', 'age': 34, 'local': '서울34'},\n",
       " {'name': '홍길동35', 'age': 35, 'local': '서울35'},\n",
       " {'name': '홍길동36', 'age': 36, 'local': '서울36'},\n",
       " {'name': '홍길동37', 'age': 37, 'local': '서울37'},\n",
       " {'name': '홍길동38', 'age': 38, 'local': '서울38'},\n",
       " {'name': '홍길동39', 'age': 39, 'local': '서울39'},\n",
       " {'name': '홍길동40', 'age': 40, 'local': '서울40'},\n",
       " {'name': '홍길동41', 'age': 41, 'local': '서울41'},\n",
       " {'name': '홍길동42', 'age': 42, 'local': '서울42'},\n",
       " {'name': '홍길동43', 'age': 43, 'local': '서울43'},\n",
       " {'name': '홍길동44', 'age': 44, 'local': '서울44'},\n",
       " {'name': '홍길동45', 'age': 45, 'local': '서울45'},\n",
       " {'name': '홍길동46', 'age': 46, 'local': '서울46'},\n",
       " {'name': '홍길동47', 'age': 47, 'local': '서울47'},\n",
       " {'name': '홍길동48', 'age': 48, 'local': '서울48'},\n",
       " {'name': '홍길동49', 'age': 49, 'local': '서울49'},\n",
       " {'name': '홍길동50', 'age': 50, 'local': '서울50'},\n",
       " {'name': '홍길동51', 'age': 51, 'local': '서울51'},\n",
       " {'name': '홍길동52', 'age': 52, 'local': '서울52'},\n",
       " {'name': '홍길동53', 'age': 53, 'local': '서울53'},\n",
       " {'name': '홍길동54', 'age': 54, 'local': '서울54'},\n",
       " {'name': '홍길동55', 'age': 55, 'local': '서울55'},\n",
       " {'name': '홍길동56', 'age': 56, 'local': '서울56'},\n",
       " {'name': '홍길동57', 'age': 57, 'local': '서울57'},\n",
       " {'name': '홍길동58', 'age': 58, 'local': '서울58'},\n",
       " {'name': '홍길동59', 'age': 59, 'local': '서울59'},\n",
       " {'name': '홍길동60', 'age': 60, 'local': '서울60'},\n",
       " {'name': '홍길동61', 'age': 61, 'local': '서울61'},\n",
       " {'name': '홍길동62', 'age': 62, 'local': '서울62'},\n",
       " {'name': '홍길동63', 'age': 63, 'local': '서울63'},\n",
       " {'name': '홍길동64', 'age': 64, 'local': '서울64'},\n",
       " {'name': '홍길동65', 'age': 65, 'local': '서울65'},\n",
       " {'name': '홍길동66', 'age': 66, 'local': '서울66'},\n",
       " {'name': '홍길동67', 'age': 67, 'local': '서울67'},\n",
       " {'name': '홍길동68', 'age': 68, 'local': '서울68'},\n",
       " {'name': '홍길동69', 'age': 69, 'local': '서울69'},\n",
       " {'name': '홍길동70', 'age': 70, 'local': '서울70'},\n",
       " {'name': '홍길동71', 'age': 71, 'local': '서울71'},\n",
       " {'name': '홍길동72', 'age': 72, 'local': '서울72'},\n",
       " {'name': '홍길동73', 'age': 73, 'local': '서울73'},\n",
       " {'name': '홍길동74', 'age': 74, 'local': '서울74'},\n",
       " {'name': '홍길동75', 'age': 75, 'local': '서울75'},\n",
       " {'name': '홍길동76', 'age': 76, 'local': '서울76'},\n",
       " {'name': '홍길동77', 'age': 77, 'local': '서울77'},\n",
       " {'name': '홍길동78', 'age': 78, 'local': '서울78'},\n",
       " {'name': '홍길동79', 'age': 79, 'local': '서울79'},\n",
       " {'name': '홍길동80', 'age': 80, 'local': '서울80'},\n",
       " {'name': '홍길동81', 'age': 81, 'local': '서울81'},\n",
       " {'name': '홍길동82', 'age': 82, 'local': '서울82'},\n",
       " {'name': '홍길동83', 'age': 83, 'local': '서울83'},\n",
       " {'name': '홍길동84', 'age': 84, 'local': '서울84'},\n",
       " {'name': '홍길동85', 'age': 85, 'local': '서울85'},\n",
       " {'name': '홍길동86', 'age': 86, 'local': '서울86'},\n",
       " {'name': '홍길동87', 'age': 87, 'local': '서울87'},\n",
       " {'name': '홍길동88', 'age': 88, 'local': '서울88'},\n",
       " {'name': '홍길동89', 'age': 89, 'local': '서울89'},\n",
       " {'name': '홍길동90', 'age': 90, 'local': '서울90'},\n",
       " {'name': '홍길동91', 'age': 91, 'local': '서울91'},\n",
       " {'name': '홍길동92', 'age': 92, 'local': '서울92'},\n",
       " {'name': '홍길동93', 'age': 93, 'local': '서울93'},\n",
       " {'name': '홍길동94', 'age': 94, 'local': '서울94'},\n",
       " {'name': '홍길동95', 'age': 95, 'local': '서울95'},\n",
       " {'name': '홍길동96', 'age': 96, 'local': '서울96'},\n",
       " {'name': '홍길동97', 'age': 97, 'local': '서울97'},\n",
       " {'name': '홍길동98', 'age': 98, 'local': '서울98'},\n",
       " {'name': '홍길동99', 'age': 99, 'local': '서울99'},\n",
       " {'name': '홍길동100', 'age': 100, 'local': '서울100'}]"
      ]
     },
     "execution_count": 165,
     "metadata": {},
     "output_type": "execute_result"
    }
   ],
   "source": [
    "# 강사님이 알려주신거\n",
    "list_temp = []\n",
    "for i in range(0, len(dict_class[\"name\"])) : \n",
    "    #print(dict_class[\"name\"][i])\n",
    "    dict_temp = {}\n",
    "    dict_temp[\"name\"] = dict_class[\"name\"][i]\n",
    "    dict_temp[\"age\"] = dict_class[\"age\"][i]\n",
    "    dict_temp[\"local\"] = dict_class[\"local\"][i]\n",
    "    list_temp.append(dict_temp)\n",
    "list_temp    "
   ]
  },
  {
   "cell_type": "code",
   "execution_count": 166,
   "id": "edb3c904",
   "metadata": {},
   "outputs": [
    {
     "data": {
      "text/plain": [
       "50"
      ]
     },
     "execution_count": 166,
     "metadata": {},
     "output_type": "execute_result"
    }
   ],
   "source": [
    "a = 20\n",
    "b = 30\n",
    "hap = a + b\n",
    "hap"
   ]
  },
  {
   "cell_type": "code",
   "execution_count": null,
   "id": "02e1f619",
   "metadata": {},
   "outputs": [],
   "source": [
    "### 2개의 매개변수를 전달 받아서\n",
    "# 매개변수들의 합을 리턴하는 함수 생성하기\n",
    "# 함수 이름 : getHap\n",
    "def getHap(a, b) : \n",
    "    return a + b"
   ]
  },
  {
   "cell_type": "code",
   "execution_count": 170,
   "id": "db48848a",
   "metadata": {},
   "outputs": [
    {
     "data": {
      "text/plain": [
       "60"
      ]
     },
     "execution_count": 170,
     "metadata": {},
     "output_type": "execute_result"
    }
   ],
   "source": [
    "getHap(10, 50)"
   ]
  },
  {
   "cell_type": "code",
   "execution_count": 172,
   "id": "c7ec89cf",
   "metadata": {},
   "outputs": [],
   "source": [
    "def getHap(a, b=10) : \n",
    "    return a + b"
   ]
  },
  {
   "cell_type": "code",
   "execution_count": 176,
   "id": "bb4f5f2d",
   "metadata": {},
   "outputs": [
    {
     "data": {
      "text/plain": [
       "70"
      ]
     },
     "execution_count": 176,
     "metadata": {},
     "output_type": "execute_result"
    }
   ],
   "source": [
    "getHap(20, 50)  # 튜플형태로 리턴합니다."
   ]
  },
  {
   "cell_type": "code",
   "execution_count": 177,
   "id": "a37ce989",
   "metadata": {},
   "outputs": [],
   "source": [
    "def getHap(a, b=10) : \n",
    "    return a , b, a, b"
   ]
  },
  {
   "cell_type": "code",
   "execution_count": 178,
   "id": "8320d718",
   "metadata": {},
   "outputs": [
    {
     "data": {
      "text/plain": [
       "(20, 50, 20, 50)"
      ]
     },
     "execution_count": 178,
     "metadata": {},
     "output_type": "execute_result"
    }
   ],
   "source": [
    "getHap(20, 50)"
   ]
  },
  {
   "cell_type": "code",
   "execution_count": 188,
   "id": "ec9cab99",
   "metadata": {},
   "outputs": [],
   "source": [
    "### 4칙연산을 수행하는 함수를 만들어 주세요.\n",
    "# 두개의 값과 한개의 연산기호를 매개변수로 받아서 처리\n",
    "# 리턴값은 연산기호를 통해 연산된 값을 리턴\n",
    "# 함수이름 getMath\n",
    "def getMath(mode, x, y) :\n",
    "    if mode == '+' : \n",
    "        return x + y\n",
    "    elif mode == '-' :\n",
    "        return x - y\n",
    "    elif mode == '*' :\n",
    "        return x * y\n",
    "    elif mode == '/' :\n",
    "        return x / y\n",
    "    else :\n",
    "        return \"NONO\""
   ]
  },
  {
   "cell_type": "code",
   "execution_count": 191,
   "id": "964b095f",
   "metadata": {},
   "outputs": [
    {
     "name": "stdout",
     "output_type": "stream",
     "text": [
      "40\n",
      "20\n",
      "300\n",
      "3.0\n"
     ]
    }
   ],
   "source": [
    "print(getMath(\"+\", 30, 10))\n",
    "print(getMath(\"-\", 30, 10))\n",
    "print(getMath(\"*\", 30, 10))\n",
    "print(getMath(\"/\", 30, 10))"
   ]
  },
  {
   "cell_type": "code",
   "execution_count": 186,
   "id": "f062373a",
   "metadata": {},
   "outputs": [],
   "source": [
    "# 내가 해본거...\n",
    "def getMath(x,y,z) :\n",
    "    if z == '+' : \n",
    "        return x + y\n",
    "    if z == '-' :\n",
    "        return x - y\n",
    "    if z == '*' :\n",
    "        return x * y\n",
    "    if z == '/' :\n",
    "        return x / y"
   ]
  },
  {
   "cell_type": "code",
   "execution_count": 184,
   "id": "6db5ff7e",
   "metadata": {},
   "outputs": [
    {
     "data": {
      "text/plain": [
       "8"
      ]
     },
     "execution_count": 184,
     "metadata": {},
     "output_type": "execute_result"
    }
   ],
   "source": [
    "getMath(2,4,'*')"
   ]
  },
  {
   "cell_type": "code",
   "execution_count": 193,
   "id": "91ab0755",
   "metadata": {},
   "outputs": [],
   "source": [
    "def getModeEval(mode, a, b) :  \n",
    "    return eval(\"a\" + mode + \"b\")   # 파이썬함수 eval"
   ]
  },
  {
   "cell_type": "code",
   "execution_count": 194,
   "id": "79ce91af",
   "metadata": {},
   "outputs": [
    {
     "name": "stdout",
     "output_type": "stream",
     "text": [
      "40\n",
      "20\n",
      "300\n",
      "3.0\n"
     ]
    }
   ],
   "source": [
    "print(getModeEval(\"+\", 30, 10))\n",
    "print(getModeEval(\"-\", 30, 10))\n",
    "print(getModeEval(\"*\", 30, 10))\n",
    "print(getModeEval(\"/\", 30, 10))"
   ]
  },
  {
   "cell_type": "code",
   "execution_count": 195,
   "id": "5d0f06ad",
   "metadata": {},
   "outputs": [
    {
     "data": {
      "text/plain": [
       "51"
      ]
     },
     "execution_count": 195,
     "metadata": {},
     "output_type": "execute_result"
    }
   ],
   "source": [
    "b = 50\n",
    "eval(\"1 + b\")"
   ]
  },
  {
   "cell_type": "code",
   "execution_count": 196,
   "id": "159d5f7e",
   "metadata": {},
   "outputs": [
    {
     "name": "stdout",
     "output_type": "stream",
     "text": [
      "51\n"
     ]
    }
   ],
   "source": [
    "# 예외처리\n",
    "b = 50\n",
    "try : \n",
    "    print(eval(\"1 + b\"))\n",
    "except : \n",
    "    pass"
   ]
  }
 ],
 "metadata": {
  "kernelspec": {
   "display_name": "sejong_ml_kernel",
   "language": "python",
   "name": "sejong_ml"
  },
  "language_info": {
   "codemirror_mode": {
    "name": "ipython",
    "version": 3
   },
   "file_extension": ".py",
   "mimetype": "text/x-python",
   "name": "python",
   "nbconvert_exporter": "python",
   "pygments_lexer": "ipython3",
   "version": "3.9.16"
  }
 },
 "nbformat": 4,
 "nbformat_minor": 5
}
